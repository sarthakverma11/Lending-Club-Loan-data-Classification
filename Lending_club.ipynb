{
 "cells": [
  {
   "cell_type": "code",
   "execution_count": 73,
   "metadata": {},
   "outputs": [
    {
     "name": "stdout",
     "output_type": "stream",
     "text": [
      "/home/sarthak/Music/dagdu\n"
     ]
    }
   ],
   "source": [
    "import os\n",
    "os.chdir('/home/sarthak/Music/dagdu')\n",
    "print(os.getcwd())\n"
   ]
  },
  {
   "cell_type": "code",
   "execution_count": 74,
   "metadata": {
    "collapsed": true
   },
   "outputs": [],
   "source": [
    "#Importing libraries\n",
    "import warnings\n",
    "import numpy as np\n",
    "import pandas as pd\n",
    "import sqlite3 as sql\n",
    "import datetime\n",
    "import seaborn as sns\n",
    "import matplotlib.pyplot as plt\n",
    "import matplotlib as mpl\n",
    "from functools import reduce\n",
    "import matplotlib.pyplot as plt\n",
    "warnings.filterwarnings(\"ignore\")\n",
    "from matplotlib.backends.backend_pdf import PdfPages\n",
    "import random\n",
    "from sklearn.preprocessing import Imputer\n",
    "random.seed(100)"
   ]
  },
  {
   "cell_type": "code",
   "execution_count": 75,
   "metadata": {
    "collapsed": true
   },
   "outputs": [],
   "source": [
    "# Load the data of 2007-2011\n",
    "data=pd.read_csv('loan.csv',low_memory=False)\n",
    "import warnings\n",
    "warnings.filterwarnings('ignore')\n",
    "import random\n",
    "random.seed(100)\n"
   ]
  },
  {
   "cell_type": "code",
   "execution_count": 76,
   "metadata": {},
   "outputs": [
    {
     "data": {
      "text/html": [
       "<div>\n",
       "<style scoped>\n",
       "    .dataframe tbody tr th:only-of-type {\n",
       "        vertical-align: middle;\n",
       "    }\n",
       "\n",
       "    .dataframe tbody tr th {\n",
       "        vertical-align: top;\n",
       "    }\n",
       "\n",
       "    .dataframe thead th {\n",
       "        text-align: right;\n",
       "    }\n",
       "</style>\n",
       "<table border=\"1\" class=\"dataframe\">\n",
       "  <thead>\n",
       "    <tr style=\"text-align: right;\">\n",
       "      <th></th>\n",
       "      <th>id</th>\n",
       "      <th>member_id</th>\n",
       "      <th>loan_amnt</th>\n",
       "      <th>funded_amnt</th>\n",
       "      <th>funded_amnt_inv</th>\n",
       "      <th>term</th>\n",
       "      <th>int_rate</th>\n",
       "      <th>installment</th>\n",
       "      <th>grade</th>\n",
       "      <th>sub_grade</th>\n",
       "      <th>...</th>\n",
       "      <th>orig_projected_additional_accrued_interest</th>\n",
       "      <th>hardship_payoff_balance_amount</th>\n",
       "      <th>hardship_last_payment_amount</th>\n",
       "      <th>debt_settlement_flag</th>\n",
       "      <th>debt_settlement_flag_date</th>\n",
       "      <th>settlement_status</th>\n",
       "      <th>settlement_date</th>\n",
       "      <th>settlement_amount</th>\n",
       "      <th>settlement_percentage</th>\n",
       "      <th>settlement_term</th>\n",
       "    </tr>\n",
       "  </thead>\n",
       "  <tbody>\n",
       "    <tr>\n",
       "      <th>0</th>\n",
       "      <td>NaN</td>\n",
       "      <td>NaN</td>\n",
       "      <td>5000</td>\n",
       "      <td>5000</td>\n",
       "      <td>4975.0</td>\n",
       "      <td>36 months</td>\n",
       "      <td>10.65%</td>\n",
       "      <td>162.87</td>\n",
       "      <td>B</td>\n",
       "      <td>B2</td>\n",
       "      <td>...</td>\n",
       "      <td>NaN</td>\n",
       "      <td>NaN</td>\n",
       "      <td>NaN</td>\n",
       "      <td>N</td>\n",
       "      <td>NaN</td>\n",
       "      <td>NaN</td>\n",
       "      <td>NaN</td>\n",
       "      <td>NaN</td>\n",
       "      <td>NaN</td>\n",
       "      <td>NaN</td>\n",
       "    </tr>\n",
       "    <tr>\n",
       "      <th>1</th>\n",
       "      <td>NaN</td>\n",
       "      <td>NaN</td>\n",
       "      <td>2500</td>\n",
       "      <td>2500</td>\n",
       "      <td>2500.0</td>\n",
       "      <td>60 months</td>\n",
       "      <td>15.27%</td>\n",
       "      <td>59.83</td>\n",
       "      <td>C</td>\n",
       "      <td>C4</td>\n",
       "      <td>...</td>\n",
       "      <td>NaN</td>\n",
       "      <td>NaN</td>\n",
       "      <td>NaN</td>\n",
       "      <td>N</td>\n",
       "      <td>NaN</td>\n",
       "      <td>NaN</td>\n",
       "      <td>NaN</td>\n",
       "      <td>NaN</td>\n",
       "      <td>NaN</td>\n",
       "      <td>NaN</td>\n",
       "    </tr>\n",
       "    <tr>\n",
       "      <th>2</th>\n",
       "      <td>NaN</td>\n",
       "      <td>NaN</td>\n",
       "      <td>2400</td>\n",
       "      <td>2400</td>\n",
       "      <td>2400.0</td>\n",
       "      <td>36 months</td>\n",
       "      <td>15.96%</td>\n",
       "      <td>84.33</td>\n",
       "      <td>C</td>\n",
       "      <td>C5</td>\n",
       "      <td>...</td>\n",
       "      <td>NaN</td>\n",
       "      <td>NaN</td>\n",
       "      <td>NaN</td>\n",
       "      <td>N</td>\n",
       "      <td>NaN</td>\n",
       "      <td>NaN</td>\n",
       "      <td>NaN</td>\n",
       "      <td>NaN</td>\n",
       "      <td>NaN</td>\n",
       "      <td>NaN</td>\n",
       "    </tr>\n",
       "    <tr>\n",
       "      <th>3</th>\n",
       "      <td>NaN</td>\n",
       "      <td>NaN</td>\n",
       "      <td>10000</td>\n",
       "      <td>10000</td>\n",
       "      <td>10000.0</td>\n",
       "      <td>36 months</td>\n",
       "      <td>13.49%</td>\n",
       "      <td>339.31</td>\n",
       "      <td>C</td>\n",
       "      <td>C1</td>\n",
       "      <td>...</td>\n",
       "      <td>NaN</td>\n",
       "      <td>NaN</td>\n",
       "      <td>NaN</td>\n",
       "      <td>N</td>\n",
       "      <td>NaN</td>\n",
       "      <td>NaN</td>\n",
       "      <td>NaN</td>\n",
       "      <td>NaN</td>\n",
       "      <td>NaN</td>\n",
       "      <td>NaN</td>\n",
       "    </tr>\n",
       "    <tr>\n",
       "      <th>4</th>\n",
       "      <td>NaN</td>\n",
       "      <td>NaN</td>\n",
       "      <td>3000</td>\n",
       "      <td>3000</td>\n",
       "      <td>3000.0</td>\n",
       "      <td>60 months</td>\n",
       "      <td>12.69%</td>\n",
       "      <td>67.79</td>\n",
       "      <td>B</td>\n",
       "      <td>B5</td>\n",
       "      <td>...</td>\n",
       "      <td>NaN</td>\n",
       "      <td>NaN</td>\n",
       "      <td>NaN</td>\n",
       "      <td>N</td>\n",
       "      <td>NaN</td>\n",
       "      <td>NaN</td>\n",
       "      <td>NaN</td>\n",
       "      <td>NaN</td>\n",
       "      <td>NaN</td>\n",
       "      <td>NaN</td>\n",
       "    </tr>\n",
       "  </tbody>\n",
       "</table>\n",
       "<p>5 rows × 144 columns</p>\n",
       "</div>"
      ],
      "text/plain": [
       "   id  member_id  loan_amnt  funded_amnt  funded_amnt_inv        term  \\\n",
       "0 NaN        NaN       5000         5000           4975.0   36 months   \n",
       "1 NaN        NaN       2500         2500           2500.0   60 months   \n",
       "2 NaN        NaN       2400         2400           2400.0   36 months   \n",
       "3 NaN        NaN      10000        10000          10000.0   36 months   \n",
       "4 NaN        NaN       3000         3000           3000.0   60 months   \n",
       "\n",
       "  int_rate  installment grade sub_grade  ...  \\\n",
       "0   10.65%       162.87     B        B2  ...   \n",
       "1   15.27%        59.83     C        C4  ...   \n",
       "2   15.96%        84.33     C        C5  ...   \n",
       "3   13.49%       339.31     C        C1  ...   \n",
       "4   12.69%        67.79     B        B5  ...   \n",
       "\n",
       "  orig_projected_additional_accrued_interest hardship_payoff_balance_amount  \\\n",
       "0                                        NaN                            NaN   \n",
       "1                                        NaN                            NaN   \n",
       "2                                        NaN                            NaN   \n",
       "3                                        NaN                            NaN   \n",
       "4                                        NaN                            NaN   \n",
       "\n",
       "  hardship_last_payment_amount  debt_settlement_flag  \\\n",
       "0                          NaN                     N   \n",
       "1                          NaN                     N   \n",
       "2                          NaN                     N   \n",
       "3                          NaN                     N   \n",
       "4                          NaN                     N   \n",
       "\n",
       "  debt_settlement_flag_date settlement_status settlement_date  \\\n",
       "0                       NaN               NaN             NaN   \n",
       "1                       NaN               NaN             NaN   \n",
       "2                       NaN               NaN             NaN   \n",
       "3                       NaN               NaN             NaN   \n",
       "4                       NaN               NaN             NaN   \n",
       "\n",
       "  settlement_amount  settlement_percentage settlement_term  \n",
       "0               NaN                    NaN             NaN  \n",
       "1               NaN                    NaN             NaN  \n",
       "2               NaN                    NaN             NaN  \n",
       "3               NaN                    NaN             NaN  \n",
       "4               NaN                    NaN             NaN  \n",
       "\n",
       "[5 rows x 144 columns]"
      ]
     },
     "execution_count": 76,
     "metadata": {},
     "output_type": "execute_result"
    }
   ],
   "source": [
    "data.head()"
   ]
  },
  {
   "cell_type": "code",
   "execution_count": 77,
   "metadata": {},
   "outputs": [
    {
     "data": {
      "text/plain": [
       "(42535, 144)"
      ]
     },
     "execution_count": 77,
     "metadata": {},
     "output_type": "execute_result"
    }
   ],
   "source": [
    "data.shape"
   ]
  },
  {
   "cell_type": "code",
   "execution_count": 78,
   "metadata": {},
   "outputs": [
    {
     "data": {
      "text/plain": [
       "id                                            100.000000\n",
       "member_id                                     100.000000\n",
       "loan_amnt                                       0.000000\n",
       "funded_amnt                                     0.000000\n",
       "funded_amnt_inv                                 0.000000\n",
       "term                                            0.000000\n",
       "int_rate                                        0.000000\n",
       "installment                                     0.000000\n",
       "grade                                           0.000000\n",
       "sub_grade                                       0.000000\n",
       "emp_title                                       6.173739\n",
       "emp_length                                      2.614318\n",
       "home_ownership                                  0.000000\n",
       "annual_inc                                      0.009404\n",
       "verification_status                             0.000000\n",
       "issue_d                                         0.000000\n",
       "loan_status                                     0.000000\n",
       "pymnt_plan                                      0.000000\n",
       "url                                           100.000000\n",
       "desc                                           31.251910\n",
       "purpose                                         0.000000\n",
       "title                                           0.030563\n",
       "zip_code                                        0.000000\n",
       "addr_state                                      0.000000\n",
       "dti                                             0.000000\n",
       "delinq_2yrs                                     0.068179\n",
       "earliest_cr_line                                0.068179\n",
       "inq_last_6mths                                  0.068179\n",
       "mths_since_last_delinq                         63.303162\n",
       "mths_since_last_record                         91.416481\n",
       "                                                 ...    \n",
       "sec_app_mort_acc                              100.000000\n",
       "sec_app_open_acc                              100.000000\n",
       "sec_app_revol_util                            100.000000\n",
       "sec_app_open_act_il                           100.000000\n",
       "sec_app_num_rev_accts                         100.000000\n",
       "sec_app_chargeoff_within_12_mths              100.000000\n",
       "sec_app_collections_12_mths_ex_med            100.000000\n",
       "sec_app_mths_since_last_major_derog           100.000000\n",
       "hardship_flag                                   0.000000\n",
       "hardship_type                                 100.000000\n",
       "hardship_reason                               100.000000\n",
       "hardship_status                               100.000000\n",
       "deferral_term                                 100.000000\n",
       "hardship_amount                               100.000000\n",
       "hardship_start_date                           100.000000\n",
       "hardship_end_date                             100.000000\n",
       "payment_plan_start_date                       100.000000\n",
       "hardship_length                               100.000000\n",
       "hardship_dpd                                  100.000000\n",
       "hardship_loan_status                          100.000000\n",
       "orig_projected_additional_accrued_interest    100.000000\n",
       "hardship_payoff_balance_amount                100.000000\n",
       "hardship_last_payment_amount                  100.000000\n",
       "debt_settlement_flag                            0.000000\n",
       "debt_settlement_flag_date                      99.623839\n",
       "settlement_status                              99.623839\n",
       "settlement_date                                99.623839\n",
       "settlement_amount                              99.623839\n",
       "settlement_percentage                          99.623839\n",
       "settlement_term                                99.623839\n",
       "Length: 144, dtype: float64"
      ]
     },
     "execution_count": 78,
     "metadata": {},
     "output_type": "execute_result"
    }
   ],
   "source": [
    "#Checking null values in the column\n",
    "percent_missing = data.isnull().sum() * 100 / len(data)\n",
    "percent_missing"
   ]
  },
  {
   "cell_type": "code",
   "execution_count": 79,
   "metadata": {},
   "outputs": [
    {
     "data": {
      "text/plain": [
       "2"
      ]
     },
     "execution_count": 79,
     "metadata": {},
     "output_type": "execute_result"
    }
   ],
   "source": [
    "data['tax_liens'].nunique()"
   ]
  },
  {
   "cell_type": "code",
   "execution_count": 80,
   "metadata": {
    "collapsed": true
   },
   "outputs": [],
   "source": [
    "#Data Preprocessing Steps"
   ]
  },
  {
   "cell_type": "code",
   "execution_count": 81,
   "metadata": {
    "collapsed": true
   },
   "outputs": [],
   "source": [
    "#Deleting columns that have 100 percent null values\n",
    "cols_to_delete = data.columns[data.isnull().sum()/len(data) == 1.0]\n",
    "data.drop(cols_to_delete,axis = 1,inplace=True)"
   ]
  },
  {
   "cell_type": "code",
   "execution_count": 82,
   "metadata": {},
   "outputs": [
    {
     "name": "stdout",
     "output_type": "stream",
     "text": [
      "Index(['id', 'member_id', 'url', 'mths_since_last_major_derog',\n",
      "       'annual_inc_joint', 'dti_joint', 'verification_status_joint',\n",
      "       'tot_coll_amt', 'tot_cur_bal', 'open_acc_6m', 'open_act_il',\n",
      "       'open_il_12m', 'open_il_24m', 'mths_since_rcnt_il', 'total_bal_il',\n",
      "       'il_util', 'open_rv_12m', 'open_rv_24m', 'max_bal_bc', 'all_util',\n",
      "       'total_rev_hi_lim', 'inq_fi', 'total_cu_tl', 'inq_last_12m',\n",
      "       'acc_open_past_24mths', 'avg_cur_bal', 'bc_open_to_buy', 'bc_util',\n",
      "       'mo_sin_old_il_acct', 'mo_sin_old_rev_tl_op', 'mo_sin_rcnt_rev_tl_op',\n",
      "       'mo_sin_rcnt_tl', 'mort_acc', 'mths_since_recent_bc',\n",
      "       'mths_since_recent_bc_dlq', 'mths_since_recent_inq',\n",
      "       'mths_since_recent_revol_delinq', 'num_accts_ever_120_pd',\n",
      "       'num_actv_bc_tl', 'num_actv_rev_tl', 'num_bc_sats', 'num_bc_tl',\n",
      "       'num_il_tl', 'num_op_rev_tl', 'num_rev_accts', 'num_rev_tl_bal_gt_0',\n",
      "       'num_sats', 'num_tl_120dpd_2m', 'num_tl_30dpd', 'num_tl_90g_dpd_24m',\n",
      "       'num_tl_op_past_12m', 'pct_tl_nvr_dlq', 'percent_bc_gt_75',\n",
      "       'tot_hi_cred_lim', 'total_bal_ex_mort', 'total_bc_limit',\n",
      "       'total_il_high_credit_limit', 'revol_bal_joint',\n",
      "       'sec_app_earliest_cr_line', 'sec_app_inq_last_6mths',\n",
      "       'sec_app_mort_acc', 'sec_app_open_acc', 'sec_app_revol_util',\n",
      "       'sec_app_open_act_il', 'sec_app_num_rev_accts',\n",
      "       'sec_app_chargeoff_within_12_mths',\n",
      "       'sec_app_collections_12_mths_ex_med',\n",
      "       'sec_app_mths_since_last_major_derog', 'hardship_type',\n",
      "       'hardship_reason', 'hardship_status', 'deferral_term',\n",
      "       'hardship_amount', 'hardship_start_date', 'hardship_end_date',\n",
      "       'payment_plan_start_date', 'hardship_length', 'hardship_dpd',\n",
      "       'hardship_loan_status', 'orig_projected_additional_accrued_interest',\n",
      "       'hardship_payoff_balance_amount', 'hardship_last_payment_amount'],\n",
      "      dtype='object')\n"
     ]
    }
   ],
   "source": [
    "print(cols_to_delete)"
   ]
  },
  {
   "cell_type": "code",
   "execution_count": 83,
   "metadata": {},
   "outputs": [
    {
     "data": {
      "text/plain": [
       "(42535, 62)"
      ]
     },
     "execution_count": 83,
     "metadata": {},
     "output_type": "execute_result"
    }
   ],
   "source": [
    "data.shape"
   ]
  },
  {
   "cell_type": "code",
   "execution_count": 84,
   "metadata": {},
   "outputs": [
    {
     "data": {
      "text/plain": [
       "loan_amnt                      0.000000\n",
       "funded_amnt                    0.000000\n",
       "funded_amnt_inv                0.000000\n",
       "term                           0.000000\n",
       "int_rate                       0.000000\n",
       "installment                    0.000000\n",
       "grade                          0.000000\n",
       "sub_grade                      0.000000\n",
       "emp_title                      6.173739\n",
       "emp_length                     2.614318\n",
       "home_ownership                 0.000000\n",
       "annual_inc                     0.009404\n",
       "verification_status            0.000000\n",
       "issue_d                        0.000000\n",
       "loan_status                    0.000000\n",
       "pymnt_plan                     0.000000\n",
       "desc                          31.251910\n",
       "purpose                        0.000000\n",
       "title                          0.030563\n",
       "zip_code                       0.000000\n",
       "addr_state                     0.000000\n",
       "dti                            0.000000\n",
       "delinq_2yrs                    0.068179\n",
       "earliest_cr_line               0.068179\n",
       "inq_last_6mths                 0.068179\n",
       "mths_since_last_delinq        63.303162\n",
       "mths_since_last_record        91.416481\n",
       "open_acc                       0.068179\n",
       "pub_rec                        0.068179\n",
       "revol_bal                      0.000000\n",
       "                                ...    \n",
       "initial_list_status            0.000000\n",
       "out_prncp                      0.000000\n",
       "out_prncp_inv                  0.000000\n",
       "total_pymnt                    0.000000\n",
       "total_pymnt_inv                0.000000\n",
       "total_rec_prncp                0.000000\n",
       "total_rec_int                  0.000000\n",
       "total_rec_late_fee             0.000000\n",
       "recoveries                     0.000000\n",
       "collection_recovery_fee        0.000000\n",
       "last_pymnt_d                   0.195133\n",
       "last_pymnt_amnt                0.000000\n",
       "next_pymnt_d                  93.537087\n",
       "last_credit_pull_d             0.009404\n",
       "collections_12_mths_ex_med     0.340896\n",
       "policy_code                    0.000000\n",
       "application_type               0.000000\n",
       "acc_now_delinq                 0.068179\n",
       "chargeoff_within_12_mths       0.340896\n",
       "delinq_amnt                    0.068179\n",
       "pub_rec_bankruptcies           3.209122\n",
       "tax_liens                      0.246856\n",
       "hardship_flag                  0.000000\n",
       "debt_settlement_flag           0.000000\n",
       "debt_settlement_flag_date     99.623839\n",
       "settlement_status             99.623839\n",
       "settlement_date               99.623839\n",
       "settlement_amount             99.623839\n",
       "settlement_percentage         99.623839\n",
       "settlement_term               99.623839\n",
       "Length: 62, dtype: float64"
      ]
     },
     "execution_count": 84,
     "metadata": {},
     "output_type": "execute_result"
    }
   ],
   "source": [
    "#Checking null values in the column\n",
    "percent_missing = data.isnull().sum() * 100 / len(data)\n",
    "percent_missing"
   ]
  },
  {
   "cell_type": "code",
   "execution_count": 85,
   "metadata": {
    "collapsed": true
   },
   "outputs": [],
   "source": [
    "cols_to_delete1 = data.columns[data.isnull().sum()/len(data) > 0.90]"
   ]
  },
  {
   "cell_type": "code",
   "execution_count": 86,
   "metadata": {},
   "outputs": [
    {
     "data": {
      "text/plain": [
       "Index(['mths_since_last_record', 'next_pymnt_d', 'debt_settlement_flag_date',\n",
       "       'settlement_status', 'settlement_date', 'settlement_amount',\n",
       "       'settlement_percentage', 'settlement_term'],\n",
       "      dtype='object')"
      ]
     },
     "execution_count": 86,
     "metadata": {},
     "output_type": "execute_result"
    }
   ],
   "source": [
    "cols_to_delete1"
   ]
  },
  {
   "cell_type": "code",
   "execution_count": 87,
   "metadata": {},
   "outputs": [
    {
     "data": {
      "text/plain": [
       "(42535, 54)"
      ]
     },
     "execution_count": 87,
     "metadata": {},
     "output_type": "execute_result"
    }
   ],
   "source": [
    "data.drop(cols_to_delete1,axis = 1,inplace=True)\n",
    "data.shape"
   ]
  },
  {
   "cell_type": "code",
   "execution_count": 88,
   "metadata": {
    "collapsed": true
   },
   "outputs": [],
   "source": [
    "#we remove features that have a single unique value. \n",
    "#A feature associated with one unique value does not help the model to generalize well since it’s variance is zero\n",
    "def find_constant_features(dataFrame):\n",
    "    const_features = []\n",
    "    for column in list(dataFrame.columns):\n",
    "        if dataFrame[column].unique().size < 2:\n",
    "            const_features.append(column)\n",
    "    return const_features\n"
   ]
  },
  {
   "cell_type": "code",
   "execution_count": 89,
   "metadata": {},
   "outputs": [
    {
     "name": "stdout",
     "output_type": "stream",
     "text": [
      "['pymnt_plan', 'initial_list_status', 'out_prncp', 'out_prncp_inv', 'policy_code', 'application_type', 'hardship_flag']\n"
     ]
    }
   ],
   "source": [
    "const_features = find_constant_features(data)\n",
    "print(const_features)"
   ]
  },
  {
   "cell_type": "code",
   "execution_count": 90,
   "metadata": {
    "collapsed": true
   },
   "outputs": [],
   "source": [
    "data.drop(const_features,axis = 1,inplace=True)"
   ]
  },
  {
   "cell_type": "code",
   "execution_count": 91,
   "metadata": {},
   "outputs": [
    {
     "data": {
      "text/plain": [
       "(42535, 47)"
      ]
     },
     "execution_count": 91,
     "metadata": {},
     "output_type": "execute_result"
    }
   ],
   "source": [
    "data.shape"
   ]
  },
  {
   "cell_type": "code",
   "execution_count": 92,
   "metadata": {},
   "outputs": [
    {
     "data": {
      "text/plain": [
       "Index(['loan_amnt', 'funded_amnt', 'funded_amnt_inv', 'term', 'int_rate',\n",
       "       'installment', 'grade', 'sub_grade', 'emp_title', 'emp_length',\n",
       "       'home_ownership', 'annual_inc', 'verification_status', 'issue_d',\n",
       "       'loan_status', 'desc', 'purpose', 'title', 'zip_code', 'addr_state',\n",
       "       'dti', 'delinq_2yrs', 'earliest_cr_line', 'inq_last_6mths',\n",
       "       'mths_since_last_delinq', 'open_acc', 'pub_rec', 'revol_bal',\n",
       "       'revol_util', 'total_acc', 'total_pymnt', 'total_pymnt_inv',\n",
       "       'total_rec_prncp', 'total_rec_int', 'total_rec_late_fee', 'recoveries',\n",
       "       'collection_recovery_fee', 'last_pymnt_d', 'last_pymnt_amnt',\n",
       "       'last_credit_pull_d', 'collections_12_mths_ex_med', 'acc_now_delinq',\n",
       "       'chargeoff_within_12_mths', 'delinq_amnt', 'pub_rec_bankruptcies',\n",
       "       'tax_liens', 'debt_settlement_flag'],\n",
       "      dtype='object')"
      ]
     },
     "execution_count": 92,
     "metadata": {},
     "output_type": "execute_result"
    }
   ],
   "source": [
    "data.columns"
   ]
  },
  {
   "cell_type": "code",
   "execution_count": 93,
   "metadata": {},
   "outputs": [
    {
     "name": "stdout",
     "output_type": "stream",
     "text": [
      "<class 'pandas.core.frame.DataFrame'>\n",
      "RangeIndex: 42535 entries, 0 to 42534\n",
      "Data columns (total 47 columns):\n",
      "loan_amnt                     42535 non-null int64\n",
      "funded_amnt                   42535 non-null int64\n",
      "funded_amnt_inv               42535 non-null float64\n",
      "term                          42535 non-null object\n",
      "int_rate                      42535 non-null object\n",
      "installment                   42535 non-null float64\n",
      "grade                         42535 non-null object\n",
      "sub_grade                     42535 non-null object\n",
      "emp_title                     39909 non-null object\n",
      "emp_length                    41423 non-null object\n",
      "home_ownership                42535 non-null object\n",
      "annual_inc                    42531 non-null float64\n",
      "verification_status           42535 non-null object\n",
      "issue_d                       42535 non-null object\n",
      "loan_status                   42535 non-null object\n",
      "desc                          29242 non-null object\n",
      "purpose                       42535 non-null object\n",
      "title                         42522 non-null object\n",
      "zip_code                      42535 non-null object\n",
      "addr_state                    42535 non-null object\n",
      "dti                           42535 non-null float64\n",
      "delinq_2yrs                   42506 non-null float64\n",
      "earliest_cr_line              42506 non-null object\n",
      "inq_last_6mths                42506 non-null float64\n",
      "mths_since_last_delinq        15609 non-null float64\n",
      "open_acc                      42506 non-null float64\n",
      "pub_rec                       42506 non-null float64\n",
      "revol_bal                     42535 non-null int64\n",
      "revol_util                    42445 non-null object\n",
      "total_acc                     42506 non-null float64\n",
      "total_pymnt                   42535 non-null float64\n",
      "total_pymnt_inv               42535 non-null float64\n",
      "total_rec_prncp               42535 non-null float64\n",
      "total_rec_int                 42535 non-null float64\n",
      "total_rec_late_fee            42535 non-null float64\n",
      "recoveries                    42535 non-null float64\n",
      "collection_recovery_fee       42535 non-null float64\n",
      "last_pymnt_d                  42452 non-null object\n",
      "last_pymnt_amnt               42535 non-null float64\n",
      "last_credit_pull_d            42531 non-null object\n",
      "collections_12_mths_ex_med    42390 non-null float64\n",
      "acc_now_delinq                42506 non-null float64\n",
      "chargeoff_within_12_mths      42390 non-null float64\n",
      "delinq_amnt                   42506 non-null float64\n",
      "pub_rec_bankruptcies          41170 non-null float64\n",
      "tax_liens                     42430 non-null float64\n",
      "debt_settlement_flag          42535 non-null object\n",
      "dtypes: float64(24), int64(3), object(20)\n",
      "memory usage: 15.3+ MB\n"
     ]
    }
   ],
   "source": [
    "data.info()"
   ]
  },
  {
   "cell_type": "code",
   "execution_count": 94,
   "metadata": {},
   "outputs": [
    {
     "data": {
      "text/plain": [
       "530"
      ]
     },
     "execution_count": 94,
     "metadata": {},
     "output_type": "execute_result"
    }
   ],
   "source": [
    "#Few more columns to be dropped after checking unique values in them\n",
    "#1.emp_title:-The job title supplied by the Borrower when applying for the loan.\n",
    "#2.zip_code:The first 3 numbers of the zip code provided by the borrower in the loan application.\n",
    "#3.desc:-Loan description provided by the borrower\n",
    "#4.earliest_cr_line:The month the borrower's earliest reported credit line was opened.\n",
    "data['earliest_cr_line'].nunique()\n"
   ]
  },
  {
   "cell_type": "code",
   "execution_count": 95,
   "metadata": {
    "collapsed": true
   },
   "outputs": [],
   "source": [
    "cols=['emp_title','zip_code','desc','earliest_cr_line','last_pymnt_d','last_credit_pull_d','issue_d']\n",
    "data.drop(cols,axis=1,inplace=True)"
   ]
  },
  {
   "cell_type": "code",
   "execution_count": 96,
   "metadata": {},
   "outputs": [
    {
     "data": {
      "text/plain": [
       "(42535, 40)"
      ]
     },
     "execution_count": 96,
     "metadata": {},
     "output_type": "execute_result"
    }
   ],
   "source": [
    "data.shape"
   ]
  },
  {
   "cell_type": "code",
   "execution_count": 97,
   "metadata": {},
   "outputs": [
    {
     "data": {
      "text/html": [
       "<div>\n",
       "<style scoped>\n",
       "    .dataframe tbody tr th:only-of-type {\n",
       "        vertical-align: middle;\n",
       "    }\n",
       "\n",
       "    .dataframe tbody tr th {\n",
       "        vertical-align: top;\n",
       "    }\n",
       "\n",
       "    .dataframe thead th {\n",
       "        text-align: right;\n",
       "    }\n",
       "</style>\n",
       "<table border=\"1\" class=\"dataframe\">\n",
       "  <thead>\n",
       "    <tr style=\"text-align: right;\">\n",
       "      <th></th>\n",
       "      <th>loan_amnt</th>\n",
       "      <th>funded_amnt</th>\n",
       "      <th>funded_amnt_inv</th>\n",
       "      <th>term</th>\n",
       "      <th>int_rate</th>\n",
       "      <th>installment</th>\n",
       "      <th>grade</th>\n",
       "      <th>sub_grade</th>\n",
       "      <th>emp_length</th>\n",
       "      <th>home_ownership</th>\n",
       "      <th>...</th>\n",
       "      <th>recoveries</th>\n",
       "      <th>collection_recovery_fee</th>\n",
       "      <th>last_pymnt_amnt</th>\n",
       "      <th>collections_12_mths_ex_med</th>\n",
       "      <th>acc_now_delinq</th>\n",
       "      <th>chargeoff_within_12_mths</th>\n",
       "      <th>delinq_amnt</th>\n",
       "      <th>pub_rec_bankruptcies</th>\n",
       "      <th>tax_liens</th>\n",
       "      <th>debt_settlement_flag</th>\n",
       "    </tr>\n",
       "  </thead>\n",
       "  <tbody>\n",
       "    <tr>\n",
       "      <th>0</th>\n",
       "      <td>5000</td>\n",
       "      <td>5000</td>\n",
       "      <td>4975.0</td>\n",
       "      <td>36 months</td>\n",
       "      <td>10.65%</td>\n",
       "      <td>162.87</td>\n",
       "      <td>B</td>\n",
       "      <td>B2</td>\n",
       "      <td>10+ years</td>\n",
       "      <td>RENT</td>\n",
       "      <td>...</td>\n",
       "      <td>0.0</td>\n",
       "      <td>0.00</td>\n",
       "      <td>171.62</td>\n",
       "      <td>0.0</td>\n",
       "      <td>0.0</td>\n",
       "      <td>0.0</td>\n",
       "      <td>0.0</td>\n",
       "      <td>0.0</td>\n",
       "      <td>0.0</td>\n",
       "      <td>N</td>\n",
       "    </tr>\n",
       "    <tr>\n",
       "      <th>1</th>\n",
       "      <td>2500</td>\n",
       "      <td>2500</td>\n",
       "      <td>2500.0</td>\n",
       "      <td>60 months</td>\n",
       "      <td>15.27%</td>\n",
       "      <td>59.83</td>\n",
       "      <td>C</td>\n",
       "      <td>C4</td>\n",
       "      <td>&lt; 1 year</td>\n",
       "      <td>RENT</td>\n",
       "      <td>...</td>\n",
       "      <td>122.9</td>\n",
       "      <td>1.11</td>\n",
       "      <td>119.66</td>\n",
       "      <td>0.0</td>\n",
       "      <td>0.0</td>\n",
       "      <td>0.0</td>\n",
       "      <td>0.0</td>\n",
       "      <td>0.0</td>\n",
       "      <td>0.0</td>\n",
       "      <td>N</td>\n",
       "    </tr>\n",
       "    <tr>\n",
       "      <th>2</th>\n",
       "      <td>2400</td>\n",
       "      <td>2400</td>\n",
       "      <td>2400.0</td>\n",
       "      <td>36 months</td>\n",
       "      <td>15.96%</td>\n",
       "      <td>84.33</td>\n",
       "      <td>C</td>\n",
       "      <td>C5</td>\n",
       "      <td>10+ years</td>\n",
       "      <td>RENT</td>\n",
       "      <td>...</td>\n",
       "      <td>0.0</td>\n",
       "      <td>0.00</td>\n",
       "      <td>649.91</td>\n",
       "      <td>0.0</td>\n",
       "      <td>0.0</td>\n",
       "      <td>0.0</td>\n",
       "      <td>0.0</td>\n",
       "      <td>0.0</td>\n",
       "      <td>0.0</td>\n",
       "      <td>N</td>\n",
       "    </tr>\n",
       "    <tr>\n",
       "      <th>3</th>\n",
       "      <td>10000</td>\n",
       "      <td>10000</td>\n",
       "      <td>10000.0</td>\n",
       "      <td>36 months</td>\n",
       "      <td>13.49%</td>\n",
       "      <td>339.31</td>\n",
       "      <td>C</td>\n",
       "      <td>C1</td>\n",
       "      <td>10+ years</td>\n",
       "      <td>RENT</td>\n",
       "      <td>...</td>\n",
       "      <td>0.0</td>\n",
       "      <td>0.00</td>\n",
       "      <td>357.48</td>\n",
       "      <td>0.0</td>\n",
       "      <td>0.0</td>\n",
       "      <td>0.0</td>\n",
       "      <td>0.0</td>\n",
       "      <td>0.0</td>\n",
       "      <td>0.0</td>\n",
       "      <td>N</td>\n",
       "    </tr>\n",
       "    <tr>\n",
       "      <th>4</th>\n",
       "      <td>3000</td>\n",
       "      <td>3000</td>\n",
       "      <td>3000.0</td>\n",
       "      <td>60 months</td>\n",
       "      <td>12.69%</td>\n",
       "      <td>67.79</td>\n",
       "      <td>B</td>\n",
       "      <td>B5</td>\n",
       "      <td>1 year</td>\n",
       "      <td>RENT</td>\n",
       "      <td>...</td>\n",
       "      <td>0.0</td>\n",
       "      <td>0.00</td>\n",
       "      <td>67.30</td>\n",
       "      <td>0.0</td>\n",
       "      <td>0.0</td>\n",
       "      <td>0.0</td>\n",
       "      <td>0.0</td>\n",
       "      <td>0.0</td>\n",
       "      <td>0.0</td>\n",
       "      <td>N</td>\n",
       "    </tr>\n",
       "  </tbody>\n",
       "</table>\n",
       "<p>5 rows × 40 columns</p>\n",
       "</div>"
      ],
      "text/plain": [
       "   loan_amnt  funded_amnt  funded_amnt_inv        term int_rate  installment  \\\n",
       "0       5000         5000           4975.0   36 months   10.65%       162.87   \n",
       "1       2500         2500           2500.0   60 months   15.27%        59.83   \n",
       "2       2400         2400           2400.0   36 months   15.96%        84.33   \n",
       "3      10000        10000          10000.0   36 months   13.49%       339.31   \n",
       "4       3000         3000           3000.0   60 months   12.69%        67.79   \n",
       "\n",
       "  grade sub_grade emp_length home_ownership  ...  recoveries  \\\n",
       "0     B        B2  10+ years           RENT  ...         0.0   \n",
       "1     C        C4   < 1 year           RENT  ...       122.9   \n",
       "2     C        C5  10+ years           RENT  ...         0.0   \n",
       "3     C        C1  10+ years           RENT  ...         0.0   \n",
       "4     B        B5     1 year           RENT  ...         0.0   \n",
       "\n",
       "  collection_recovery_fee last_pymnt_amnt collections_12_mths_ex_med  \\\n",
       "0                    0.00          171.62                        0.0   \n",
       "1                    1.11          119.66                        0.0   \n",
       "2                    0.00          649.91                        0.0   \n",
       "3                    0.00          357.48                        0.0   \n",
       "4                    0.00           67.30                        0.0   \n",
       "\n",
       "  acc_now_delinq chargeoff_within_12_mths  delinq_amnt  pub_rec_bankruptcies  \\\n",
       "0            0.0                      0.0          0.0                   0.0   \n",
       "1            0.0                      0.0          0.0                   0.0   \n",
       "2            0.0                      0.0          0.0                   0.0   \n",
       "3            0.0                      0.0          0.0                   0.0   \n",
       "4            0.0                      0.0          0.0                   0.0   \n",
       "\n",
       "   tax_liens  debt_settlement_flag  \n",
       "0        0.0                     N  \n",
       "1        0.0                     N  \n",
       "2        0.0                     N  \n",
       "3        0.0                     N  \n",
       "4        0.0                     N  \n",
       "\n",
       "[5 rows x 40 columns]"
      ]
     },
     "execution_count": 97,
     "metadata": {},
     "output_type": "execute_result"
    }
   ],
   "source": [
    "data.head()"
   ]
  },
  {
   "cell_type": "code",
   "execution_count": 98,
   "metadata": {
    "collapsed": true
   },
   "outputs": [],
   "source": [
    "#Tried to find out columns only having zero values \n",
    "zero_cols = [ col for col, is_zero in ((data == 0).sum() == data.shape[0]).items() if is_zero ]\n"
   ]
  },
  {
   "cell_type": "code",
   "execution_count": 99,
   "metadata": {},
   "outputs": [
    {
     "data": {
      "text/plain": [
       "[]"
      ]
     },
     "execution_count": 99,
     "metadata": {},
     "output_type": "execute_result"
    }
   ],
   "source": [
    "zero_cols"
   ]
  },
  {
   "cell_type": "code",
   "execution_count": 100,
   "metadata": {},
   "outputs": [
    {
     "data": {
      "text/plain": [
       "['emp_length',\n",
       " 'annual_inc',\n",
       " 'title',\n",
       " 'delinq_2yrs',\n",
       " 'inq_last_6mths',\n",
       " 'mths_since_last_delinq',\n",
       " 'open_acc',\n",
       " 'pub_rec',\n",
       " 'revol_util',\n",
       " 'total_acc',\n",
       " 'collections_12_mths_ex_med',\n",
       " 'acc_now_delinq',\n",
       " 'chargeoff_within_12_mths',\n",
       " 'delinq_amnt',\n",
       " 'pub_rec_bankruptcies',\n",
       " 'tax_liens']"
      ]
     },
     "execution_count": 100,
     "metadata": {},
     "output_type": "execute_result"
    }
   ],
   "source": [
    "#Columns having null values out of 44 columns\n",
    "data.columns[data.isna().any()].tolist()"
   ]
  },
  {
   "cell_type": "code",
   "execution_count": 101,
   "metadata": {},
   "outputs": [
    {
     "data": {
      "text/plain": [
       "loan_amnt                         0\n",
       "funded_amnt                       0\n",
       "funded_amnt_inv                   0\n",
       "term                              0\n",
       "int_rate                          0\n",
       "installment                       0\n",
       "grade                             0\n",
       "sub_grade                         0\n",
       "emp_length                     1112\n",
       "home_ownership                    0\n",
       "annual_inc                        4\n",
       "verification_status               0\n",
       "loan_status                       0\n",
       "purpose                           0\n",
       "title                            13\n",
       "addr_state                        0\n",
       "dti                               0\n",
       "delinq_2yrs                      29\n",
       "inq_last_6mths                   29\n",
       "mths_since_last_delinq        26926\n",
       "open_acc                         29\n",
       "pub_rec                          29\n",
       "revol_bal                         0\n",
       "revol_util                       90\n",
       "total_acc                        29\n",
       "total_pymnt                       0\n",
       "total_pymnt_inv                   0\n",
       "total_rec_prncp                   0\n",
       "total_rec_int                     0\n",
       "total_rec_late_fee                0\n",
       "recoveries                        0\n",
       "collection_recovery_fee           0\n",
       "last_pymnt_amnt                   0\n",
       "collections_12_mths_ex_med      145\n",
       "acc_now_delinq                   29\n",
       "chargeoff_within_12_mths        145\n",
       "delinq_amnt                      29\n",
       "pub_rec_bankruptcies           1365\n",
       "tax_liens                       105\n",
       "debt_settlement_flag              0\n",
       "dtype: int64"
      ]
     },
     "execution_count": 101,
     "metadata": {},
     "output_type": "execute_result"
    }
   ],
   "source": [
    "data.isnull().sum()"
   ]
  },
  {
   "cell_type": "code",
   "execution_count": 102,
   "metadata": {
    "collapsed": true
   },
   "outputs": [],
   "source": [
    "#data['revol_util'].to_frame"
   ]
  },
  {
   "cell_type": "code",
   "execution_count": 103,
   "metadata": {
    "collapsed": true
   },
   "outputs": [],
   "source": [
    "#Removing % \n",
    "#def p2f(x):\n",
    "    #return float(x.strip('%'))/100"
   ]
  },
  {
   "cell_type": "code",
   "execution_count": 104,
   "metadata": {
    "collapsed": true
   },
   "outputs": [],
   "source": [
    "#p2f(data['revol_util'])"
   ]
  },
  {
   "cell_type": "code",
   "execution_count": 105,
   "metadata": {},
   "outputs": [
    {
     "data": {
      "text/plain": [
       "0.0     5062\n",
       "1.0     3595\n",
       "2.0     4743\n",
       "3.0     4364\n",
       "4.0     3649\n",
       "5.0     3458\n",
       "6.0     2375\n",
       "7.0     1875\n",
       "8.0     1592\n",
       "9.0     1341\n",
       "10.0    9369\n",
       "NaN     1112\n",
       "Name: emp_length, dtype: int64"
      ]
     },
     "execution_count": 105,
     "metadata": {},
     "output_type": "execute_result"
    }
   ],
   "source": [
    "#Formatting emp_length column\n",
    "data['emp_length'].replace(to_replace='10+ years', value='10 years', inplace=True)\n",
    "data['emp_length'].replace('< 1 year', '0 years', inplace=True)\n",
    "def emp_length_to_int(s):\n",
    "    if pd.isnull(s):\n",
    "        return s\n",
    "    else:\n",
    "        return np.int8(s.split()[0])\n",
    "data['emp_length'] = data['emp_length'].apply(emp_length_to_int)\n",
    "data['emp_length'].value_counts(dropna=False).sort_index()\n"
   ]
  },
  {
   "cell_type": "code",
   "execution_count": 106,
   "metadata": {
    "collapsed": true
   },
   "outputs": [],
   "source": [
    "#Imputation of values by some buisness sense\n",
    "#1.delinq_2yrs:-late or overdue for the payment from last 2 years. \n",
    "#Only 29 missing observations,so replacing those with zero, giving lendors the benefit of the doubt.\n",
    "data['delinq_2yrs'] = data['delinq_2yrs'].fillna(0)\n",
    "#2.emp_length:-Employment length in years,Replacing nan with median as histogram shows outlier\n",
    "data['emp_length'] = data['emp_length'].fillna((data['emp_length'].median()))\n",
    "#3.annual_inc:-The self-reported annual income provided by the borrower during registration.\n",
    "# Only 4missing values,so imputing with mean \n",
    "data['annual_inc'] = data['annual_inc'].fillna((data['annual_inc'].mean()))\n",
    "#4.title:-For title, i will impute 'title not given' since there are only 13 missing.\n",
    "data['title'] = np.where(data['title'].isnull(),\"No Title\", data['title'])\n",
    "#5.inq_last_6mths:-The borrower's number of inquiries by creditors in the last 6 months.29 nan,Replacing with 0\n",
    "data['inq_last_6mths'] = data['inq_last_6mths'].fillna(0)\n",
    "#6.mths_since_last_delinq:-Months late or overdue for the payment,maximum null values\n",
    "data['mths_since_last_delinq'] = data['mths_since_last_delinq'].fillna((data['mths_since_last_delinq'].mean()))\n",
    "#7.open_acc:-The number of open credit lines in the borrower's credit file.\n",
    "data['open_acc']= np.where(data['open_acc'].isnull(), 0, data['open_acc'])\n",
    "#8.pub_rec:-Number of derogatory public records.29 missing\n",
    "data['pub_rec'] = np.where(data['pub_rec'].isnull(), 0, data['pub_rec'])\n",
    "#9.total_acc missing values will be replaced with 0. 29 missing values\n",
    "data['total_acc'] = np.where(data['total_acc'].isnull(), 0,data['total_acc'])\n",
    "#10.collections_12_mths_ex_med:-Number of collections in 12 months excluding medical collections,145 missing values\n",
    "data['collections_12_mths_ex_med'] = np.where(data['collections_12_mths_ex_med'].isnull(), 0, data['collections_12_mths_ex_med'])\n",
    "#11.acc_now_delinq:-any account past due is a delinquent account,29 missing values\n",
    "data['acc_now_delinq'] = np.where(data['acc_now_delinq'].isnull(), 0, data['acc_now_delinq'])\n",
    "#12.chargeoff_within_12_mths:loans charged off in last 12 months\n",
    "data['chargeoff_within_12_mths'] = np.where(data['chargeoff_within_12_mths'].isnull(), 0, data['chargeoff_within_12_mths'])\n",
    "#13.delinq_amnt -29 missing\n",
    "data['delinq_amnt'] = np.where(data['delinq_amnt'].isnull(), 0, data['delinq_amnt'])\n",
    "#14.tax_liens:-A tax lien is a lien imposed by law upon a property to secure the payment of taxes\n",
    "data['tax_liens'] = data['tax_liens'].fillna((data['tax_liens'].mean()))\n",
    "#15.revol_util\n",
    "data['revol_util']=data.revol_util.replace(np.nan,0)\n",
    "#16.pub_rec_bankruptcies          \n",
    "data['pub_rec_bankruptcies']=data.pub_rec_bankruptcies.replace(np.nan,0)\n"
   ]
  },
  {
   "cell_type": "code",
   "execution_count": 107,
   "metadata": {},
   "outputs": [
    {
     "data": {
      "text/plain": [
       "array([   0.,   27., 6053.])"
      ]
     },
     "execution_count": 107,
     "metadata": {},
     "output_type": "execute_result"
    }
   ],
   "source": [
    "data['delinq_amnt'].unique()"
   ]
  },
  {
   "cell_type": "code",
   "execution_count": 108,
   "metadata": {},
   "outputs": [
    {
     "data": {
      "text/plain": [
       "count    42535.000000\n",
       "mean         0.000024\n",
       "std          0.004849\n",
       "min          0.000000\n",
       "25%          0.000000\n",
       "50%          0.000000\n",
       "75%          0.000000\n",
       "max          1.000000\n",
       "Name: tax_liens, dtype: float64"
      ]
     },
     "execution_count": 108,
     "metadata": {},
     "output_type": "execute_result"
    }
   ],
   "source": [
    "data[\"tax_liens\"].describe()"
   ]
  },
  {
   "cell_type": "code",
   "execution_count": 109,
   "metadata": {},
   "outputs": [
    {
     "data": {
      "text/plain": [
       "loan_amnt                     0\n",
       "funded_amnt                   0\n",
       "funded_amnt_inv               0\n",
       "term                          0\n",
       "int_rate                      0\n",
       "installment                   0\n",
       "grade                         0\n",
       "sub_grade                     0\n",
       "emp_length                    0\n",
       "home_ownership                0\n",
       "annual_inc                    0\n",
       "verification_status           0\n",
       "loan_status                   0\n",
       "purpose                       0\n",
       "title                         0\n",
       "addr_state                    0\n",
       "dti                           0\n",
       "delinq_2yrs                   0\n",
       "inq_last_6mths                0\n",
       "mths_since_last_delinq        0\n",
       "open_acc                      0\n",
       "pub_rec                       0\n",
       "revol_bal                     0\n",
       "revol_util                    0\n",
       "total_acc                     0\n",
       "total_pymnt                   0\n",
       "total_pymnt_inv               0\n",
       "total_rec_prncp               0\n",
       "total_rec_int                 0\n",
       "total_rec_late_fee            0\n",
       "recoveries                    0\n",
       "collection_recovery_fee       0\n",
       "last_pymnt_amnt               0\n",
       "collections_12_mths_ex_med    0\n",
       "acc_now_delinq                0\n",
       "chargeoff_within_12_mths      0\n",
       "delinq_amnt                   0\n",
       "pub_rec_bankruptcies          0\n",
       "tax_liens                     0\n",
       "debt_settlement_flag          0\n",
       "dtype: int64"
      ]
     },
     "execution_count": 109,
     "metadata": {},
     "output_type": "execute_result"
    }
   ],
   "source": [
    "data.isnull().sum()"
   ]
  },
  {
   "cell_type": "code",
   "execution_count": 110,
   "metadata": {},
   "outputs": [
    {
     "data": {
      "text/plain": [
       "(42535, 40)"
      ]
     },
     "execution_count": 110,
     "metadata": {},
     "output_type": "execute_result"
    }
   ],
   "source": [
    "data.shape"
   ]
  },
  {
   "cell_type": "code",
   "execution_count": 111,
   "metadata": {},
   "outputs": [
    {
     "data": {
      "text/plain": [
       "array([27.65,  1.  ,  8.72, ..., 28.16, 29.41, 28.43])"
      ]
     },
     "execution_count": 111,
     "metadata": {},
     "output_type": "execute_result"
    }
   ],
   "source": [
    "data['dti'].unique()"
   ]
  },
  {
   "cell_type": "code",
   "execution_count": 112,
   "metadata": {},
   "outputs": [
    {
     "data": {
      "text/html": [
       "<div>\n",
       "<style scoped>\n",
       "    .dataframe tbody tr th:only-of-type {\n",
       "        vertical-align: middle;\n",
       "    }\n",
       "\n",
       "    .dataframe tbody tr th {\n",
       "        vertical-align: top;\n",
       "    }\n",
       "\n",
       "    .dataframe thead th {\n",
       "        text-align: right;\n",
       "    }\n",
       "</style>\n",
       "<table border=\"1\" class=\"dataframe\">\n",
       "  <thead>\n",
       "    <tr style=\"text-align: right;\">\n",
       "      <th></th>\n",
       "      <th>loan_amnt</th>\n",
       "      <th>funded_amnt</th>\n",
       "      <th>funded_amnt_inv</th>\n",
       "      <th>term</th>\n",
       "      <th>int_rate</th>\n",
       "      <th>installment</th>\n",
       "      <th>grade</th>\n",
       "      <th>sub_grade</th>\n",
       "      <th>emp_length</th>\n",
       "      <th>home_ownership</th>\n",
       "      <th>...</th>\n",
       "      <th>recoveries</th>\n",
       "      <th>collection_recovery_fee</th>\n",
       "      <th>last_pymnt_amnt</th>\n",
       "      <th>collections_12_mths_ex_med</th>\n",
       "      <th>acc_now_delinq</th>\n",
       "      <th>chargeoff_within_12_mths</th>\n",
       "      <th>delinq_amnt</th>\n",
       "      <th>pub_rec_bankruptcies</th>\n",
       "      <th>tax_liens</th>\n",
       "      <th>debt_settlement_flag</th>\n",
       "    </tr>\n",
       "  </thead>\n",
       "  <tbody>\n",
       "    <tr>\n",
       "      <th>0</th>\n",
       "      <td>5000</td>\n",
       "      <td>5000</td>\n",
       "      <td>4975.0</td>\n",
       "      <td>36 months</td>\n",
       "      <td>10.65%</td>\n",
       "      <td>162.87</td>\n",
       "      <td>B</td>\n",
       "      <td>B2</td>\n",
       "      <td>10.0</td>\n",
       "      <td>RENT</td>\n",
       "      <td>...</td>\n",
       "      <td>0.0</td>\n",
       "      <td>0.00</td>\n",
       "      <td>171.62</td>\n",
       "      <td>0.0</td>\n",
       "      <td>0.0</td>\n",
       "      <td>0.0</td>\n",
       "      <td>0.0</td>\n",
       "      <td>0.0</td>\n",
       "      <td>0.0</td>\n",
       "      <td>N</td>\n",
       "    </tr>\n",
       "    <tr>\n",
       "      <th>1</th>\n",
       "      <td>2500</td>\n",
       "      <td>2500</td>\n",
       "      <td>2500.0</td>\n",
       "      <td>60 months</td>\n",
       "      <td>15.27%</td>\n",
       "      <td>59.83</td>\n",
       "      <td>C</td>\n",
       "      <td>C4</td>\n",
       "      <td>0.0</td>\n",
       "      <td>RENT</td>\n",
       "      <td>...</td>\n",
       "      <td>122.9</td>\n",
       "      <td>1.11</td>\n",
       "      <td>119.66</td>\n",
       "      <td>0.0</td>\n",
       "      <td>0.0</td>\n",
       "      <td>0.0</td>\n",
       "      <td>0.0</td>\n",
       "      <td>0.0</td>\n",
       "      <td>0.0</td>\n",
       "      <td>N</td>\n",
       "    </tr>\n",
       "    <tr>\n",
       "      <th>2</th>\n",
       "      <td>2400</td>\n",
       "      <td>2400</td>\n",
       "      <td>2400.0</td>\n",
       "      <td>36 months</td>\n",
       "      <td>15.96%</td>\n",
       "      <td>84.33</td>\n",
       "      <td>C</td>\n",
       "      <td>C5</td>\n",
       "      <td>10.0</td>\n",
       "      <td>RENT</td>\n",
       "      <td>...</td>\n",
       "      <td>0.0</td>\n",
       "      <td>0.00</td>\n",
       "      <td>649.91</td>\n",
       "      <td>0.0</td>\n",
       "      <td>0.0</td>\n",
       "      <td>0.0</td>\n",
       "      <td>0.0</td>\n",
       "      <td>0.0</td>\n",
       "      <td>0.0</td>\n",
       "      <td>N</td>\n",
       "    </tr>\n",
       "    <tr>\n",
       "      <th>3</th>\n",
       "      <td>10000</td>\n",
       "      <td>10000</td>\n",
       "      <td>10000.0</td>\n",
       "      <td>36 months</td>\n",
       "      <td>13.49%</td>\n",
       "      <td>339.31</td>\n",
       "      <td>C</td>\n",
       "      <td>C1</td>\n",
       "      <td>10.0</td>\n",
       "      <td>RENT</td>\n",
       "      <td>...</td>\n",
       "      <td>0.0</td>\n",
       "      <td>0.00</td>\n",
       "      <td>357.48</td>\n",
       "      <td>0.0</td>\n",
       "      <td>0.0</td>\n",
       "      <td>0.0</td>\n",
       "      <td>0.0</td>\n",
       "      <td>0.0</td>\n",
       "      <td>0.0</td>\n",
       "      <td>N</td>\n",
       "    </tr>\n",
       "    <tr>\n",
       "      <th>4</th>\n",
       "      <td>3000</td>\n",
       "      <td>3000</td>\n",
       "      <td>3000.0</td>\n",
       "      <td>60 months</td>\n",
       "      <td>12.69%</td>\n",
       "      <td>67.79</td>\n",
       "      <td>B</td>\n",
       "      <td>B5</td>\n",
       "      <td>1.0</td>\n",
       "      <td>RENT</td>\n",
       "      <td>...</td>\n",
       "      <td>0.0</td>\n",
       "      <td>0.00</td>\n",
       "      <td>67.30</td>\n",
       "      <td>0.0</td>\n",
       "      <td>0.0</td>\n",
       "      <td>0.0</td>\n",
       "      <td>0.0</td>\n",
       "      <td>0.0</td>\n",
       "      <td>0.0</td>\n",
       "      <td>N</td>\n",
       "    </tr>\n",
       "  </tbody>\n",
       "</table>\n",
       "<p>5 rows × 40 columns</p>\n",
       "</div>"
      ],
      "text/plain": [
       "   loan_amnt  funded_amnt  funded_amnt_inv        term int_rate  installment  \\\n",
       "0       5000         5000           4975.0   36 months   10.65%       162.87   \n",
       "1       2500         2500           2500.0   60 months   15.27%        59.83   \n",
       "2       2400         2400           2400.0   36 months   15.96%        84.33   \n",
       "3      10000        10000          10000.0   36 months   13.49%       339.31   \n",
       "4       3000         3000           3000.0   60 months   12.69%        67.79   \n",
       "\n",
       "  grade sub_grade  emp_length home_ownership  ...  recoveries  \\\n",
       "0     B        B2        10.0           RENT  ...         0.0   \n",
       "1     C        C4         0.0           RENT  ...       122.9   \n",
       "2     C        C5        10.0           RENT  ...         0.0   \n",
       "3     C        C1        10.0           RENT  ...         0.0   \n",
       "4     B        B5         1.0           RENT  ...         0.0   \n",
       "\n",
       "  collection_recovery_fee last_pymnt_amnt collections_12_mths_ex_med  \\\n",
       "0                    0.00          171.62                        0.0   \n",
       "1                    1.11          119.66                        0.0   \n",
       "2                    0.00          649.91                        0.0   \n",
       "3                    0.00          357.48                        0.0   \n",
       "4                    0.00           67.30                        0.0   \n",
       "\n",
       "  acc_now_delinq chargeoff_within_12_mths  delinq_amnt  pub_rec_bankruptcies  \\\n",
       "0            0.0                      0.0          0.0                   0.0   \n",
       "1            0.0                      0.0          0.0                   0.0   \n",
       "2            0.0                      0.0          0.0                   0.0   \n",
       "3            0.0                      0.0          0.0                   0.0   \n",
       "4            0.0                      0.0          0.0                   0.0   \n",
       "\n",
       "   tax_liens  debt_settlement_flag  \n",
       "0        0.0                     N  \n",
       "1        0.0                     N  \n",
       "2        0.0                     N  \n",
       "3        0.0                     N  \n",
       "4        0.0                     N  \n",
       "\n",
       "[5 rows x 40 columns]"
      ]
     },
     "execution_count": 112,
     "metadata": {},
     "output_type": "execute_result"
    }
   ],
   "source": [
    "data.head()"
   ]
  },
  {
   "cell_type": "code",
   "execution_count": 113,
   "metadata": {
    "collapsed": true
   },
   "outputs": [],
   "source": [
    "#Removing % and formatting some columns\n",
    "data['term'] = data['term'].apply(lambda s: np.int8(s.split()[0]))\n",
    "data['int_rate'] = data['int_rate'].str.replace('%', '')\n",
    "#data[\"int_rate\"]=data[\"int_rate\"].astype(\"float\")\n",
    "data['revol_util'] = data['revol_util'].str.replace('%', '')\n"
   ]
  },
  {
   "cell_type": "code",
   "execution_count": 114,
   "metadata": {},
   "outputs": [
    {
     "data": {
      "text/html": [
       "<div>\n",
       "<style scoped>\n",
       "    .dataframe tbody tr th:only-of-type {\n",
       "        vertical-align: middle;\n",
       "    }\n",
       "\n",
       "    .dataframe tbody tr th {\n",
       "        vertical-align: top;\n",
       "    }\n",
       "\n",
       "    .dataframe thead th {\n",
       "        text-align: right;\n",
       "    }\n",
       "</style>\n",
       "<table border=\"1\" class=\"dataframe\">\n",
       "  <thead>\n",
       "    <tr style=\"text-align: right;\">\n",
       "      <th></th>\n",
       "      <th>loan_amnt</th>\n",
       "      <th>funded_amnt</th>\n",
       "      <th>funded_amnt_inv</th>\n",
       "      <th>term</th>\n",
       "      <th>int_rate</th>\n",
       "      <th>installment</th>\n",
       "      <th>grade</th>\n",
       "      <th>sub_grade</th>\n",
       "      <th>emp_length</th>\n",
       "      <th>home_ownership</th>\n",
       "      <th>...</th>\n",
       "      <th>recoveries</th>\n",
       "      <th>collection_recovery_fee</th>\n",
       "      <th>last_pymnt_amnt</th>\n",
       "      <th>collections_12_mths_ex_med</th>\n",
       "      <th>acc_now_delinq</th>\n",
       "      <th>chargeoff_within_12_mths</th>\n",
       "      <th>delinq_amnt</th>\n",
       "      <th>pub_rec_bankruptcies</th>\n",
       "      <th>tax_liens</th>\n",
       "      <th>debt_settlement_flag</th>\n",
       "    </tr>\n",
       "  </thead>\n",
       "  <tbody>\n",
       "    <tr>\n",
       "      <th>0</th>\n",
       "      <td>5000</td>\n",
       "      <td>5000</td>\n",
       "      <td>4975.0</td>\n",
       "      <td>36</td>\n",
       "      <td>10.65</td>\n",
       "      <td>162.87</td>\n",
       "      <td>B</td>\n",
       "      <td>B2</td>\n",
       "      <td>10.0</td>\n",
       "      <td>RENT</td>\n",
       "      <td>...</td>\n",
       "      <td>0.0</td>\n",
       "      <td>0.00</td>\n",
       "      <td>171.62</td>\n",
       "      <td>0.0</td>\n",
       "      <td>0.0</td>\n",
       "      <td>0.0</td>\n",
       "      <td>0.0</td>\n",
       "      <td>0.0</td>\n",
       "      <td>0.0</td>\n",
       "      <td>N</td>\n",
       "    </tr>\n",
       "    <tr>\n",
       "      <th>1</th>\n",
       "      <td>2500</td>\n",
       "      <td>2500</td>\n",
       "      <td>2500.0</td>\n",
       "      <td>60</td>\n",
       "      <td>15.27</td>\n",
       "      <td>59.83</td>\n",
       "      <td>C</td>\n",
       "      <td>C4</td>\n",
       "      <td>0.0</td>\n",
       "      <td>RENT</td>\n",
       "      <td>...</td>\n",
       "      <td>122.9</td>\n",
       "      <td>1.11</td>\n",
       "      <td>119.66</td>\n",
       "      <td>0.0</td>\n",
       "      <td>0.0</td>\n",
       "      <td>0.0</td>\n",
       "      <td>0.0</td>\n",
       "      <td>0.0</td>\n",
       "      <td>0.0</td>\n",
       "      <td>N</td>\n",
       "    </tr>\n",
       "    <tr>\n",
       "      <th>2</th>\n",
       "      <td>2400</td>\n",
       "      <td>2400</td>\n",
       "      <td>2400.0</td>\n",
       "      <td>36</td>\n",
       "      <td>15.96</td>\n",
       "      <td>84.33</td>\n",
       "      <td>C</td>\n",
       "      <td>C5</td>\n",
       "      <td>10.0</td>\n",
       "      <td>RENT</td>\n",
       "      <td>...</td>\n",
       "      <td>0.0</td>\n",
       "      <td>0.00</td>\n",
       "      <td>649.91</td>\n",
       "      <td>0.0</td>\n",
       "      <td>0.0</td>\n",
       "      <td>0.0</td>\n",
       "      <td>0.0</td>\n",
       "      <td>0.0</td>\n",
       "      <td>0.0</td>\n",
       "      <td>N</td>\n",
       "    </tr>\n",
       "    <tr>\n",
       "      <th>3</th>\n",
       "      <td>10000</td>\n",
       "      <td>10000</td>\n",
       "      <td>10000.0</td>\n",
       "      <td>36</td>\n",
       "      <td>13.49</td>\n",
       "      <td>339.31</td>\n",
       "      <td>C</td>\n",
       "      <td>C1</td>\n",
       "      <td>10.0</td>\n",
       "      <td>RENT</td>\n",
       "      <td>...</td>\n",
       "      <td>0.0</td>\n",
       "      <td>0.00</td>\n",
       "      <td>357.48</td>\n",
       "      <td>0.0</td>\n",
       "      <td>0.0</td>\n",
       "      <td>0.0</td>\n",
       "      <td>0.0</td>\n",
       "      <td>0.0</td>\n",
       "      <td>0.0</td>\n",
       "      <td>N</td>\n",
       "    </tr>\n",
       "    <tr>\n",
       "      <th>4</th>\n",
       "      <td>3000</td>\n",
       "      <td>3000</td>\n",
       "      <td>3000.0</td>\n",
       "      <td>60</td>\n",
       "      <td>12.69</td>\n",
       "      <td>67.79</td>\n",
       "      <td>B</td>\n",
       "      <td>B5</td>\n",
       "      <td>1.0</td>\n",
       "      <td>RENT</td>\n",
       "      <td>...</td>\n",
       "      <td>0.0</td>\n",
       "      <td>0.00</td>\n",
       "      <td>67.30</td>\n",
       "      <td>0.0</td>\n",
       "      <td>0.0</td>\n",
       "      <td>0.0</td>\n",
       "      <td>0.0</td>\n",
       "      <td>0.0</td>\n",
       "      <td>0.0</td>\n",
       "      <td>N</td>\n",
       "    </tr>\n",
       "  </tbody>\n",
       "</table>\n",
       "<p>5 rows × 40 columns</p>\n",
       "</div>"
      ],
      "text/plain": [
       "   loan_amnt  funded_amnt  funded_amnt_inv  term int_rate  installment grade  \\\n",
       "0       5000         5000           4975.0    36    10.65       162.87     B   \n",
       "1       2500         2500           2500.0    60    15.27        59.83     C   \n",
       "2       2400         2400           2400.0    36    15.96        84.33     C   \n",
       "3      10000        10000          10000.0    36    13.49       339.31     C   \n",
       "4       3000         3000           3000.0    60    12.69        67.79     B   \n",
       "\n",
       "  sub_grade  emp_length home_ownership  ...  recoveries  \\\n",
       "0        B2        10.0           RENT  ...         0.0   \n",
       "1        C4         0.0           RENT  ...       122.9   \n",
       "2        C5        10.0           RENT  ...         0.0   \n",
       "3        C1        10.0           RENT  ...         0.0   \n",
       "4        B5         1.0           RENT  ...         0.0   \n",
       "\n",
       "  collection_recovery_fee last_pymnt_amnt collections_12_mths_ex_med  \\\n",
       "0                    0.00          171.62                        0.0   \n",
       "1                    1.11          119.66                        0.0   \n",
       "2                    0.00          649.91                        0.0   \n",
       "3                    0.00          357.48                        0.0   \n",
       "4                    0.00           67.30                        0.0   \n",
       "\n",
       "  acc_now_delinq chargeoff_within_12_mths  delinq_amnt  pub_rec_bankruptcies  \\\n",
       "0            0.0                      0.0          0.0                   0.0   \n",
       "1            0.0                      0.0          0.0                   0.0   \n",
       "2            0.0                      0.0          0.0                   0.0   \n",
       "3            0.0                      0.0          0.0                   0.0   \n",
       "4            0.0                      0.0          0.0                   0.0   \n",
       "\n",
       "   tax_liens  debt_settlement_flag  \n",
       "0        0.0                     N  \n",
       "1        0.0                     N  \n",
       "2        0.0                     N  \n",
       "3        0.0                     N  \n",
       "4        0.0                     N  \n",
       "\n",
       "[5 rows x 40 columns]"
      ]
     },
     "execution_count": 114,
     "metadata": {},
     "output_type": "execute_result"
    }
   ],
   "source": [
    "data.head()"
   ]
  },
  {
   "cell_type": "code",
   "execution_count": 115,
   "metadata": {},
   "outputs": [
    {
     "data": {
      "text/plain": [
       "array(['Fully Paid', 'Charged Off',\n",
       "       'Does not meet the credit policy. Status:Fully Paid',\n",
       "       'Does not meet the credit policy. Status:Charged Off'],\n",
       "      dtype=object)"
      ]
     },
     "execution_count": 115,
     "metadata": {},
     "output_type": "execute_result"
    }
   ],
   "source": [
    "data[\"loan_status\"].unique()"
   ]
  },
  {
   "cell_type": "code",
   "execution_count": 116,
   "metadata": {},
   "outputs": [
    {
     "data": {
      "text/plain": [
       "array(['Fully Paid', 'Charged Off'], dtype=object)"
      ]
     },
     "execution_count": 116,
     "metadata": {},
     "output_type": "execute_result"
    }
   ],
   "source": [
    "#Making loan status reduced to 2 columns after merging \n",
    "data[\"loan_status\"]=data[\"loan_status\"].str.rsplit(\":\").str[-1]\n",
    "data['loan_status'].unique()\n",
    "\n"
   ]
  },
  {
   "cell_type": "code",
   "execution_count": 117,
   "metadata": {},
   "outputs": [
    {
     "data": {
      "text/plain": [
       "Index(['loan_amnt', 'funded_amnt', 'funded_amnt_inv', 'term', 'int_rate',\n",
       "       'installment', 'grade', 'sub_grade', 'emp_length', 'home_ownership',\n",
       "       'annual_inc', 'verification_status', 'loan_status', 'purpose', 'title',\n",
       "       'addr_state', 'dti', 'delinq_2yrs', 'inq_last_6mths',\n",
       "       'mths_since_last_delinq', 'open_acc', 'pub_rec', 'revol_bal',\n",
       "       'revol_util', 'total_acc', 'total_pymnt', 'total_pymnt_inv',\n",
       "       'total_rec_prncp', 'total_rec_int', 'total_rec_late_fee', 'recoveries',\n",
       "       'collection_recovery_fee', 'last_pymnt_amnt',\n",
       "       'collections_12_mths_ex_med', 'acc_now_delinq',\n",
       "       'chargeoff_within_12_mths', 'delinq_amnt', 'pub_rec_bankruptcies',\n",
       "       'tax_liens', 'debt_settlement_flag'],\n",
       "      dtype='object')"
      ]
     },
     "execution_count": 117,
     "metadata": {},
     "output_type": "execute_result"
    }
   ],
   "source": [
    "data.columns"
   ]
  },
  {
   "cell_type": "code",
   "execution_count": 118,
   "metadata": {
    "collapsed": true
   },
   "outputs": [],
   "source": [
    "#Converting target column to 1,0\n",
    "data['loan_status'] = data['loan_status'].map({'Fully Paid': 1, 'Charged Off': 0})"
   ]
  },
  {
   "cell_type": "code",
   "execution_count": 119,
   "metadata": {},
   "outputs": [
    {
     "data": {
      "text/plain": [
       "array([1, 0])"
      ]
     },
     "execution_count": 119,
     "metadata": {},
     "output_type": "execute_result"
    }
   ],
   "source": [
    "data['loan_status'].unique()"
   ]
  },
  {
   "cell_type": "code",
   "execution_count": null,
   "metadata": {
    "collapsed": true
   },
   "outputs": [],
   "source": []
  },
  {
   "cell_type": "code",
   "execution_count": null,
   "metadata": {
    "collapsed": true
   },
   "outputs": [],
   "source": []
  },
  {
   "cell_type": "code",
   "execution_count": null,
   "metadata": {
    "collapsed": true
   },
   "outputs": [],
   "source": []
  },
  {
   "cell_type": "code",
   "execution_count": null,
   "metadata": {
    "collapsed": true
   },
   "outputs": [],
   "source": []
  },
  {
   "cell_type": "code",
   "execution_count": null,
   "metadata": {
    "collapsed": true
   },
   "outputs": [],
   "source": []
  },
  {
   "cell_type": "code",
   "execution_count": 120,
   "metadata": {},
   "outputs": [
    {
     "name": "stdout",
     "output_type": "stream",
     "text": [
      "grade is IMPORTANT for Prediction\n",
      "sub_grade is IMPORTANT for Prediction\n",
      "home_ownership is IMPORTANT for Prediction\n",
      "verification_status is IMPORTANT for Prediction\n",
      "purpose is IMPORTANT for Prediction\n",
      "title is NOT an important predictor. (Discard title from model)\n",
      "addr_state is IMPORTANT for Prediction\n",
      "debt_settlement_flag is IMPORTANT for Prediction\n"
     ]
    }
   ],
   "source": [
    "#Performing chisquare test to test significant categorical columns with respect to target column\n",
    "import pandas as pd\n",
    "import numpy as np\n",
    "import scipy.stats as stats\n",
    "from scipy.stats import chi2_contingency\n",
    "\n",
    "class ChiSquare:\n",
    "    def __init__(self, dataframe):\n",
    "        self.df = dataframe\n",
    "        self.p = None #P-Value\n",
    "        self.chi2 = None #Chi Test Statistic\n",
    "        self.dof = None\n",
    "        \n",
    "        self.dfObserved = None\n",
    "        self.dfExpected = None\n",
    "        \n",
    "    def _print_chisquare_result(self, colX, alpha):\n",
    "        result = \"\"\n",
    "        if self.p<alpha:\n",
    "            result=\"{0} is IMPORTANT for Prediction\".format(colX)\n",
    "        else:\n",
    "            result=\"{0} is NOT an important predictor. (Discard {0} from model)\".format(colX)\n",
    "\n",
    "        print(result)\n",
    "        \n",
    "    def TestIndependence(self,colX,colY, alpha=0.05):\n",
    "        X = self.df[colX].astype(str)\n",
    "        Y = self.df[colY].astype(str)\n",
    "        \n",
    "        self.dfObserved = pd.crosstab(Y,X) \n",
    "        chi2, p, dof, expected = stats.chi2_contingency(self.dfObserved.values)\n",
    "        self.p = p\n",
    "        self.chi2 = chi2\n",
    "        self.dof = dof \n",
    "        \n",
    "        self.dfExpected = pd.DataFrame(expected, columns=self.dfObserved.columns, index = self.dfObserved.index)\n",
    "        \n",
    "        self._print_chisquare_result(colX,alpha)\n",
    "\n",
    "df = data\n",
    "\n",
    "#Initialize ChiSquare Class\n",
    "cT = ChiSquare(df)\n",
    "\n",
    "#Feature Selection\n",
    "testColumns = ['grade','sub_grade','home_ownership','verification_status','purpose','title','addr_state','debt_settlement_flag']\n",
    "for var in testColumns:\n",
    "    cT.TestIndependence(colX=var,colY=\"loan_status\" )  "
   ]
  },
  {
   "cell_type": "code",
   "execution_count": 121,
   "metadata": {
    "collapsed": true
   },
   "outputs": [],
   "source": [
    "#pd.crosstab(data['debt_settlement_flag'],data['loan_status'])"
   ]
  },
  {
   "cell_type": "code",
   "execution_count": 122,
   "metadata": {},
   "outputs": [
    {
     "data": {
      "text/plain": [
       "array(['credit_card', 'car', 'small_business', 'other', 'wedding',\n",
       "       'debt_consolidation', 'home_improvement', 'major_purchase',\n",
       "       'medical', 'moving', 'vacation', 'house', 'renewable_energy',\n",
       "       'educational'], dtype=object)"
      ]
     },
     "execution_count": 122,
     "metadata": {},
     "output_type": "execute_result"
    }
   ],
   "source": [
    "data['purpose'].unique()"
   ]
  },
  {
   "cell_type": "code",
   "execution_count": 123,
   "metadata": {
    "collapsed": true
   },
   "outputs": [],
   "source": [
    "#Dropping title from data\n",
    "cols_delete=['title','chargeoff_within_12_mths','collections_12_mths_ex_med']\n",
    "data=data.drop(cols_delete,axis=1)"
   ]
  },
  {
   "cell_type": "code",
   "execution_count": 124,
   "metadata": {
    "collapsed": true
   },
   "outputs": [],
   "source": [
    "data=data.dropna()"
   ]
  },
  {
   "cell_type": "code",
   "execution_count": 125,
   "metadata": {},
   "outputs": [
    {
     "data": {
      "text/plain": [
       "Index(['loan_amnt', 'funded_amnt', 'funded_amnt_inv', 'term', 'int_rate',\n",
       "       'installment', 'grade', 'sub_grade', 'emp_length', 'home_ownership',\n",
       "       'annual_inc', 'verification_status', 'loan_status', 'purpose',\n",
       "       'addr_state', 'dti', 'delinq_2yrs', 'inq_last_6mths',\n",
       "       'mths_since_last_delinq', 'open_acc', 'pub_rec', 'revol_bal',\n",
       "       'revol_util', 'total_acc', 'total_pymnt', 'total_pymnt_inv',\n",
       "       'total_rec_prncp', 'total_rec_int', 'total_rec_late_fee', 'recoveries',\n",
       "       'collection_recovery_fee', 'last_pymnt_amnt', 'acc_now_delinq',\n",
       "       'delinq_amnt', 'pub_rec_bankruptcies', 'tax_liens',\n",
       "       'debt_settlement_flag'],\n",
       "      dtype='object')"
      ]
     },
     "execution_count": 125,
     "metadata": {},
     "output_type": "execute_result"
    }
   ],
   "source": [
    "data.columns"
   ]
  },
  {
   "cell_type": "code",
   "execution_count": 126,
   "metadata": {},
   "outputs": [
    {
     "data": {
      "text/plain": [
       "(42445, 37)"
      ]
     },
     "execution_count": 126,
     "metadata": {},
     "output_type": "execute_result"
    }
   ],
   "source": [
    "data.shape"
   ]
  },
  {
   "cell_type": "code",
   "execution_count": 127,
   "metadata": {},
   "outputs": [
    {
     "data": {
      "text/html": [
       "<div>\n",
       "<style scoped>\n",
       "    .dataframe tbody tr th:only-of-type {\n",
       "        vertical-align: middle;\n",
       "    }\n",
       "\n",
       "    .dataframe tbody tr th {\n",
       "        vertical-align: top;\n",
       "    }\n",
       "\n",
       "    .dataframe thead th {\n",
       "        text-align: right;\n",
       "    }\n",
       "</style>\n",
       "<table border=\"1\" class=\"dataframe\">\n",
       "  <thead>\n",
       "    <tr style=\"text-align: right;\">\n",
       "      <th></th>\n",
       "      <th>loan_amnt</th>\n",
       "      <th>funded_amnt</th>\n",
       "      <th>funded_amnt_inv</th>\n",
       "      <th>term</th>\n",
       "      <th>int_rate</th>\n",
       "      <th>installment</th>\n",
       "      <th>grade</th>\n",
       "      <th>sub_grade</th>\n",
       "      <th>emp_length</th>\n",
       "      <th>home_ownership</th>\n",
       "      <th>...</th>\n",
       "      <th>total_rec_int</th>\n",
       "      <th>total_rec_late_fee</th>\n",
       "      <th>recoveries</th>\n",
       "      <th>collection_recovery_fee</th>\n",
       "      <th>last_pymnt_amnt</th>\n",
       "      <th>acc_now_delinq</th>\n",
       "      <th>delinq_amnt</th>\n",
       "      <th>pub_rec_bankruptcies</th>\n",
       "      <th>tax_liens</th>\n",
       "      <th>debt_settlement_flag</th>\n",
       "    </tr>\n",
       "  </thead>\n",
       "  <tbody>\n",
       "    <tr>\n",
       "      <th>0</th>\n",
       "      <td>5000</td>\n",
       "      <td>5000</td>\n",
       "      <td>4975.0</td>\n",
       "      <td>36</td>\n",
       "      <td>10.65</td>\n",
       "      <td>162.87</td>\n",
       "      <td>B</td>\n",
       "      <td>B2</td>\n",
       "      <td>10.0</td>\n",
       "      <td>RENT</td>\n",
       "      <td>...</td>\n",
       "      <td>863.16</td>\n",
       "      <td>0.00</td>\n",
       "      <td>0.0</td>\n",
       "      <td>0.00</td>\n",
       "      <td>171.62</td>\n",
       "      <td>0.0</td>\n",
       "      <td>0.0</td>\n",
       "      <td>0.0</td>\n",
       "      <td>0.0</td>\n",
       "      <td>N</td>\n",
       "    </tr>\n",
       "    <tr>\n",
       "      <th>1</th>\n",
       "      <td>2500</td>\n",
       "      <td>2500</td>\n",
       "      <td>2500.0</td>\n",
       "      <td>60</td>\n",
       "      <td>15.27</td>\n",
       "      <td>59.83</td>\n",
       "      <td>C</td>\n",
       "      <td>C4</td>\n",
       "      <td>0.0</td>\n",
       "      <td>RENT</td>\n",
       "      <td>...</td>\n",
       "      <td>435.17</td>\n",
       "      <td>0.00</td>\n",
       "      <td>122.9</td>\n",
       "      <td>1.11</td>\n",
       "      <td>119.66</td>\n",
       "      <td>0.0</td>\n",
       "      <td>0.0</td>\n",
       "      <td>0.0</td>\n",
       "      <td>0.0</td>\n",
       "      <td>N</td>\n",
       "    </tr>\n",
       "    <tr>\n",
       "      <th>2</th>\n",
       "      <td>2400</td>\n",
       "      <td>2400</td>\n",
       "      <td>2400.0</td>\n",
       "      <td>36</td>\n",
       "      <td>15.96</td>\n",
       "      <td>84.33</td>\n",
       "      <td>C</td>\n",
       "      <td>C5</td>\n",
       "      <td>10.0</td>\n",
       "      <td>RENT</td>\n",
       "      <td>...</td>\n",
       "      <td>605.67</td>\n",
       "      <td>0.00</td>\n",
       "      <td>0.0</td>\n",
       "      <td>0.00</td>\n",
       "      <td>649.91</td>\n",
       "      <td>0.0</td>\n",
       "      <td>0.0</td>\n",
       "      <td>0.0</td>\n",
       "      <td>0.0</td>\n",
       "      <td>N</td>\n",
       "    </tr>\n",
       "    <tr>\n",
       "      <th>3</th>\n",
       "      <td>10000</td>\n",
       "      <td>10000</td>\n",
       "      <td>10000.0</td>\n",
       "      <td>36</td>\n",
       "      <td>13.49</td>\n",
       "      <td>339.31</td>\n",
       "      <td>C</td>\n",
       "      <td>C1</td>\n",
       "      <td>10.0</td>\n",
       "      <td>RENT</td>\n",
       "      <td>...</td>\n",
       "      <td>2214.92</td>\n",
       "      <td>16.97</td>\n",
       "      <td>0.0</td>\n",
       "      <td>0.00</td>\n",
       "      <td>357.48</td>\n",
       "      <td>0.0</td>\n",
       "      <td>0.0</td>\n",
       "      <td>0.0</td>\n",
       "      <td>0.0</td>\n",
       "      <td>N</td>\n",
       "    </tr>\n",
       "    <tr>\n",
       "      <th>4</th>\n",
       "      <td>3000</td>\n",
       "      <td>3000</td>\n",
       "      <td>3000.0</td>\n",
       "      <td>60</td>\n",
       "      <td>12.69</td>\n",
       "      <td>67.79</td>\n",
       "      <td>B</td>\n",
       "      <td>B5</td>\n",
       "      <td>1.0</td>\n",
       "      <td>RENT</td>\n",
       "      <td>...</td>\n",
       "      <td>1066.91</td>\n",
       "      <td>0.00</td>\n",
       "      <td>0.0</td>\n",
       "      <td>0.00</td>\n",
       "      <td>67.30</td>\n",
       "      <td>0.0</td>\n",
       "      <td>0.0</td>\n",
       "      <td>0.0</td>\n",
       "      <td>0.0</td>\n",
       "      <td>N</td>\n",
       "    </tr>\n",
       "  </tbody>\n",
       "</table>\n",
       "<p>5 rows × 37 columns</p>\n",
       "</div>"
      ],
      "text/plain": [
       "   loan_amnt  funded_amnt  funded_amnt_inv  term int_rate  installment grade  \\\n",
       "0       5000         5000           4975.0    36    10.65       162.87     B   \n",
       "1       2500         2500           2500.0    60    15.27        59.83     C   \n",
       "2       2400         2400           2400.0    36    15.96        84.33     C   \n",
       "3      10000        10000          10000.0    36    13.49       339.31     C   \n",
       "4       3000         3000           3000.0    60    12.69        67.79     B   \n",
       "\n",
       "  sub_grade  emp_length home_ownership  ...  total_rec_int total_rec_late_fee  \\\n",
       "0        B2        10.0           RENT  ...         863.16               0.00   \n",
       "1        C4         0.0           RENT  ...         435.17               0.00   \n",
       "2        C5        10.0           RENT  ...         605.67               0.00   \n",
       "3        C1        10.0           RENT  ...        2214.92              16.97   \n",
       "4        B5         1.0           RENT  ...        1066.91               0.00   \n",
       "\n",
       "   recoveries collection_recovery_fee last_pymnt_amnt  acc_now_delinq  \\\n",
       "0         0.0                    0.00          171.62             0.0   \n",
       "1       122.9                    1.11          119.66             0.0   \n",
       "2         0.0                    0.00          649.91             0.0   \n",
       "3         0.0                    0.00          357.48             0.0   \n",
       "4         0.0                    0.00           67.30             0.0   \n",
       "\n",
       "   delinq_amnt  pub_rec_bankruptcies  tax_liens  debt_settlement_flag  \n",
       "0          0.0                   0.0        0.0                     N  \n",
       "1          0.0                   0.0        0.0                     N  \n",
       "2          0.0                   0.0        0.0                     N  \n",
       "3          0.0                   0.0        0.0                     N  \n",
       "4          0.0                   0.0        0.0                     N  \n",
       "\n",
       "[5 rows x 37 columns]"
      ]
     },
     "execution_count": 127,
     "metadata": {},
     "output_type": "execute_result"
    }
   ],
   "source": [
    "data.head()"
   ]
  },
  {
   "cell_type": "code",
   "execution_count": 128,
   "metadata": {
    "collapsed": true
   },
   "outputs": [],
   "source": [
    "#Label encoding categories\n",
    "from sklearn import preprocessing\n",
    "# Discreet value integer encoder\n",
    "label_encoder = preprocessing.LabelEncoder()\n",
    "# Column is string and we want discre integer values\n",
    "data['grade'] = label_encoder.fit_transform(data['grade'])\n",
    "data['sub_grade'] = label_encoder.fit_transform(data['sub_grade'])\n",
    "data['home_ownership'] = label_encoder.fit_transform(data['home_ownership'])\n",
    "data['verification_status'] = label_encoder.fit_transform(data['verification_status'])\n",
    "data['home_ownership'] = label_encoder.fit_transform(data['home_ownership'])\n",
    "data['verification_status'] = label_encoder.fit_transform(data['verification_status'])\n",
    "data['purpose'] = label_encoder.fit_transform(data['purpose'])\n",
    "data['addr_state'] = label_encoder.fit_transform(data['addr_state'])\n",
    "data['debt_settlement_flag'] = label_encoder.fit_transform(data['debt_settlement_flag'])\n",
    "\n",
    "\n"
   ]
  },
  {
   "cell_type": "code",
   "execution_count": 129,
   "metadata": {},
   "outputs": [
    {
     "data": {
      "text/plain": [
       "(42445, 37)"
      ]
     },
     "execution_count": 129,
     "metadata": {},
     "output_type": "execute_result"
    }
   ],
   "source": [
    "data.shape"
   ]
  },
  {
   "cell_type": "code",
   "execution_count": 130,
   "metadata": {},
   "outputs": [
    {
     "data": {
      "text/html": [
       "<div>\n",
       "<style scoped>\n",
       "    .dataframe tbody tr th:only-of-type {\n",
       "        vertical-align: middle;\n",
       "    }\n",
       "\n",
       "    .dataframe tbody tr th {\n",
       "        vertical-align: top;\n",
       "    }\n",
       "\n",
       "    .dataframe thead th {\n",
       "        text-align: right;\n",
       "    }\n",
       "</style>\n",
       "<table border=\"1\" class=\"dataframe\">\n",
       "  <thead>\n",
       "    <tr style=\"text-align: right;\">\n",
       "      <th></th>\n",
       "      <th>loan_amnt</th>\n",
       "      <th>funded_amnt</th>\n",
       "      <th>funded_amnt_inv</th>\n",
       "      <th>term</th>\n",
       "      <th>int_rate</th>\n",
       "      <th>installment</th>\n",
       "      <th>grade</th>\n",
       "      <th>sub_grade</th>\n",
       "      <th>emp_length</th>\n",
       "      <th>home_ownership</th>\n",
       "      <th>...</th>\n",
       "      <th>total_rec_int</th>\n",
       "      <th>total_rec_late_fee</th>\n",
       "      <th>recoveries</th>\n",
       "      <th>collection_recovery_fee</th>\n",
       "      <th>last_pymnt_amnt</th>\n",
       "      <th>acc_now_delinq</th>\n",
       "      <th>delinq_amnt</th>\n",
       "      <th>pub_rec_bankruptcies</th>\n",
       "      <th>tax_liens</th>\n",
       "      <th>debt_settlement_flag</th>\n",
       "    </tr>\n",
       "  </thead>\n",
       "  <tbody>\n",
       "    <tr>\n",
       "      <th>0</th>\n",
       "      <td>5000</td>\n",
       "      <td>5000</td>\n",
       "      <td>4975.0</td>\n",
       "      <td>36</td>\n",
       "      <td>10.65</td>\n",
       "      <td>162.87</td>\n",
       "      <td>1</td>\n",
       "      <td>6</td>\n",
       "      <td>10.0</td>\n",
       "      <td>4</td>\n",
       "      <td>...</td>\n",
       "      <td>863.16</td>\n",
       "      <td>0.00</td>\n",
       "      <td>0.0</td>\n",
       "      <td>0.00</td>\n",
       "      <td>171.62</td>\n",
       "      <td>0.0</td>\n",
       "      <td>0.0</td>\n",
       "      <td>0.0</td>\n",
       "      <td>0.0</td>\n",
       "      <td>0</td>\n",
       "    </tr>\n",
       "    <tr>\n",
       "      <th>1</th>\n",
       "      <td>2500</td>\n",
       "      <td>2500</td>\n",
       "      <td>2500.0</td>\n",
       "      <td>60</td>\n",
       "      <td>15.27</td>\n",
       "      <td>59.83</td>\n",
       "      <td>2</td>\n",
       "      <td>13</td>\n",
       "      <td>0.0</td>\n",
       "      <td>4</td>\n",
       "      <td>...</td>\n",
       "      <td>435.17</td>\n",
       "      <td>0.00</td>\n",
       "      <td>122.9</td>\n",
       "      <td>1.11</td>\n",
       "      <td>119.66</td>\n",
       "      <td>0.0</td>\n",
       "      <td>0.0</td>\n",
       "      <td>0.0</td>\n",
       "      <td>0.0</td>\n",
       "      <td>0</td>\n",
       "    </tr>\n",
       "    <tr>\n",
       "      <th>2</th>\n",
       "      <td>2400</td>\n",
       "      <td>2400</td>\n",
       "      <td>2400.0</td>\n",
       "      <td>36</td>\n",
       "      <td>15.96</td>\n",
       "      <td>84.33</td>\n",
       "      <td>2</td>\n",
       "      <td>14</td>\n",
       "      <td>10.0</td>\n",
       "      <td>4</td>\n",
       "      <td>...</td>\n",
       "      <td>605.67</td>\n",
       "      <td>0.00</td>\n",
       "      <td>0.0</td>\n",
       "      <td>0.00</td>\n",
       "      <td>649.91</td>\n",
       "      <td>0.0</td>\n",
       "      <td>0.0</td>\n",
       "      <td>0.0</td>\n",
       "      <td>0.0</td>\n",
       "      <td>0</td>\n",
       "    </tr>\n",
       "    <tr>\n",
       "      <th>3</th>\n",
       "      <td>10000</td>\n",
       "      <td>10000</td>\n",
       "      <td>10000.0</td>\n",
       "      <td>36</td>\n",
       "      <td>13.49</td>\n",
       "      <td>339.31</td>\n",
       "      <td>2</td>\n",
       "      <td>10</td>\n",
       "      <td>10.0</td>\n",
       "      <td>4</td>\n",
       "      <td>...</td>\n",
       "      <td>2214.92</td>\n",
       "      <td>16.97</td>\n",
       "      <td>0.0</td>\n",
       "      <td>0.00</td>\n",
       "      <td>357.48</td>\n",
       "      <td>0.0</td>\n",
       "      <td>0.0</td>\n",
       "      <td>0.0</td>\n",
       "      <td>0.0</td>\n",
       "      <td>0</td>\n",
       "    </tr>\n",
       "    <tr>\n",
       "      <th>4</th>\n",
       "      <td>3000</td>\n",
       "      <td>3000</td>\n",
       "      <td>3000.0</td>\n",
       "      <td>60</td>\n",
       "      <td>12.69</td>\n",
       "      <td>67.79</td>\n",
       "      <td>1</td>\n",
       "      <td>9</td>\n",
       "      <td>1.0</td>\n",
       "      <td>4</td>\n",
       "      <td>...</td>\n",
       "      <td>1066.91</td>\n",
       "      <td>0.00</td>\n",
       "      <td>0.0</td>\n",
       "      <td>0.00</td>\n",
       "      <td>67.30</td>\n",
       "      <td>0.0</td>\n",
       "      <td>0.0</td>\n",
       "      <td>0.0</td>\n",
       "      <td>0.0</td>\n",
       "      <td>0</td>\n",
       "    </tr>\n",
       "  </tbody>\n",
       "</table>\n",
       "<p>5 rows × 37 columns</p>\n",
       "</div>"
      ],
      "text/plain": [
       "   loan_amnt  funded_amnt  funded_amnt_inv  term int_rate  installment  grade  \\\n",
       "0       5000         5000           4975.0    36    10.65       162.87      1   \n",
       "1       2500         2500           2500.0    60    15.27        59.83      2   \n",
       "2       2400         2400           2400.0    36    15.96        84.33      2   \n",
       "3      10000        10000          10000.0    36    13.49       339.31      2   \n",
       "4       3000         3000           3000.0    60    12.69        67.79      1   \n",
       "\n",
       "   sub_grade  emp_length  home_ownership  ...  total_rec_int  \\\n",
       "0          6        10.0               4  ...         863.16   \n",
       "1         13         0.0               4  ...         435.17   \n",
       "2         14        10.0               4  ...         605.67   \n",
       "3         10        10.0               4  ...        2214.92   \n",
       "4          9         1.0               4  ...        1066.91   \n",
       "\n",
       "   total_rec_late_fee  recoveries  collection_recovery_fee  last_pymnt_amnt  \\\n",
       "0                0.00         0.0                     0.00           171.62   \n",
       "1                0.00       122.9                     1.11           119.66   \n",
       "2                0.00         0.0                     0.00           649.91   \n",
       "3               16.97         0.0                     0.00           357.48   \n",
       "4                0.00         0.0                     0.00            67.30   \n",
       "\n",
       "   acc_now_delinq  delinq_amnt  pub_rec_bankruptcies  tax_liens  \\\n",
       "0             0.0          0.0                   0.0        0.0   \n",
       "1             0.0          0.0                   0.0        0.0   \n",
       "2             0.0          0.0                   0.0        0.0   \n",
       "3             0.0          0.0                   0.0        0.0   \n",
       "4             0.0          0.0                   0.0        0.0   \n",
       "\n",
       "   debt_settlement_flag  \n",
       "0                     0  \n",
       "1                     0  \n",
       "2                     0  \n",
       "3                     0  \n",
       "4                     0  \n",
       "\n",
       "[5 rows x 37 columns]"
      ]
     },
     "execution_count": 130,
     "metadata": {},
     "output_type": "execute_result"
    }
   ],
   "source": [
    "data.head()"
   ]
  },
  {
   "cell_type": "code",
   "execution_count": 131,
   "metadata": {},
   "outputs": [
    {
     "data": {
      "text/plain": [
       "Index(['loan_amnt', 'funded_amnt', 'funded_amnt_inv', 'term', 'int_rate',\n",
       "       'installment', 'grade', 'sub_grade', 'emp_length', 'home_ownership',\n",
       "       'annual_inc', 'verification_status', 'loan_status', 'purpose',\n",
       "       'addr_state', 'dti', 'delinq_2yrs', 'inq_last_6mths',\n",
       "       'mths_since_last_delinq', 'open_acc', 'pub_rec', 'revol_bal',\n",
       "       'revol_util', 'total_acc', 'total_pymnt', 'total_pymnt_inv',\n",
       "       'total_rec_prncp', 'total_rec_int', 'total_rec_late_fee', 'recoveries',\n",
       "       'collection_recovery_fee', 'last_pymnt_amnt', 'acc_now_delinq',\n",
       "       'delinq_amnt', 'pub_rec_bankruptcies', 'tax_liens',\n",
       "       'debt_settlement_flag'],\n",
       "      dtype='object')"
      ]
     },
     "execution_count": 131,
     "metadata": {},
     "output_type": "execute_result"
    }
   ],
   "source": [
    "data.columns\n"
   ]
  },
  {
   "cell_type": "code",
   "execution_count": 132,
   "metadata": {},
   "outputs": [],
   "source": [
    "#Creating a random model\n",
    "#Train Test split\n",
    "from sklearn.model_selection import train_test_split\n",
    "# Putting feature variable to X\n",
    "X = data.drop(['loan_status'],axis=1)\n",
    "# Putting response variable to y\n",
    "y = data['loan_status']"
   ]
  },
  {
   "cell_type": "code",
   "execution_count": 133,
   "metadata": {},
   "outputs": [
    {
     "name": "stdout",
     "output_type": "stream",
     "text": [
      "Number transactions X_train dataset:  (29711, 36)\n",
      "Number transactions y_train dataset:  (29711,)\n",
      "Number transactions X_test dataset:  (12734, 36)\n",
      "Number transactions y_test dataset:  (12734,)\n"
     ]
    }
   ],
   "source": [
    "from imblearn.over_sampling import SMOTE\n",
    "\n",
    "from sklearn.model_selection import train_test_split\n",
    "\n",
    "X_train, X_test, y_train, y_test = train_test_split(X, y, test_size=0.3, random_state=0)\n",
    "\n",
    "print(\"Number transactions X_train dataset: \", X_train.shape)\n",
    "print(\"Number transactions y_train dataset: \", y_train.shape)\n",
    "print(\"Number transactions X_test dataset: \", X_test.shape)\n",
    "print(\"Number transactions y_test dataset: \", y_test.shape)"
   ]
  },
  {
   "cell_type": "code",
   "execution_count": 134,
   "metadata": {},
   "outputs": [
    {
     "name": "stdout",
     "output_type": "stream",
     "text": [
      "Before OverSampling, counts of label '1': 25291\n",
      "Before OverSampling, counts of label '0': 4420 \n",
      "\n",
      "After OverSampling, the shape of train_X: (50582, 36)\n",
      "After OverSampling, the shape of train_y: (50582,) \n",
      "\n",
      "After OverSampling, counts of label '1': 25291\n",
      "After OverSampling, counts of label '0': 25291\n"
     ]
    }
   ],
   "source": [
    "print(\"Before OverSampling, counts of label '1': {}\".format(sum(y_train==1)))\n",
    "print(\"Before OverSampling, counts of label '0': {} \\n\".format(sum(y_train==0)))\n",
    "\n",
    "sm = SMOTE(random_state=2)\n",
    "X_train_res, y_train_res = sm.fit_sample(X_train, y_train.ravel())\n",
    "\n",
    "print('After OverSampling, the shape of train_X: {}'.format(X_train_res.shape))\n",
    "print('After OverSampling, the shape of train_y: {} \\n'.format(y_train_res.shape))\n",
    "\n",
    "print(\"After OverSampling, counts of label '1': {}\".format(sum(y_train_res==1)))\n",
    "print(\"After OverSampling, counts of label '0': {}\".format(sum(y_train_res==0)))"
   ]
  },
  {
   "cell_type": "code",
   "execution_count": 135,
   "metadata": {
    "collapsed": true
   },
   "outputs": [],
   "source": [
    "from sklearn.ensemble import RandomForestClassifier\n",
    "\n",
    "# Running the random forest with default parameters.\n",
    "rfc = RandomForestClassifier()"
   ]
  },
  {
   "cell_type": "code",
   "execution_count": 136,
   "metadata": {},
   "outputs": [
    {
     "data": {
      "text/plain": [
       "RandomForestClassifier(bootstrap=True, class_weight=None, criterion='gini',\n",
       "                       max_depth=None, max_features='auto', max_leaf_nodes=None,\n",
       "                       min_impurity_decrease=0.0, min_impurity_split=None,\n",
       "                       min_samples_leaf=1, min_samples_split=2,\n",
       "                       min_weight_fraction_leaf=0.0, n_estimators=10,\n",
       "                       n_jobs=None, oob_score=False, random_state=None,\n",
       "                       verbose=0, warm_start=False)"
      ]
     },
     "execution_count": 136,
     "metadata": {},
     "output_type": "execute_result"
    }
   ],
   "source": [
    "# fit\n",
    "rfc.fit(X_train_res,y_train_res)"
   ]
  },
  {
   "cell_type": "code",
   "execution_count": 137,
   "metadata": {
    "collapsed": true
   },
   "outputs": [],
   "source": [
    "# Making predictions\n",
    "predictions = rfc.predict(X_test)"
   ]
  },
  {
   "cell_type": "code",
   "execution_count": 138,
   "metadata": {},
   "outputs": [
    {
     "name": "stdout",
     "output_type": "stream",
     "text": [
      "0.9992147008010052\n"
     ]
    }
   ],
   "source": [
    "# Importing classification report and confusion matrix from sklearn metrics\n",
    "from sklearn.metrics import classification_report,confusion_matrix, accuracy_score\n",
    "print(accuracy_score(y_test,predictions))"
   ]
  },
  {
   "cell_type": "code",
   "execution_count": 139,
   "metadata": {},
   "outputs": [
    {
     "name": "stdout",
     "output_type": "stream",
     "text": [
      "              precision    recall  f1-score   support\n",
      "\n",
      "           0       1.00      0.99      1.00      1989\n",
      "           1       1.00      1.00      1.00     10745\n",
      "\n",
      "    accuracy                           1.00     12734\n",
      "   macro avg       1.00      1.00      1.00     12734\n",
      "weighted avg       1.00      1.00      1.00     12734\n",
      "\n"
     ]
    }
   ],
   "source": [
    "# Let's check the report of our default model\n",
    "print(classification_report(y_test,predictions))"
   ]
  },
  {
   "cell_type": "code",
   "execution_count": 140,
   "metadata": {},
   "outputs": [
    {
     "data": {
      "text/html": [
       "<div>\n",
       "<style scoped>\n",
       "    .dataframe tbody tr th:only-of-type {\n",
       "        vertical-align: middle;\n",
       "    }\n",
       "\n",
       "    .dataframe tbody tr th {\n",
       "        vertical-align: top;\n",
       "    }\n",
       "\n",
       "    .dataframe thead th {\n",
       "        text-align: right;\n",
       "    }\n",
       "</style>\n",
       "<table border=\"1\" class=\"dataframe\">\n",
       "  <thead>\n",
       "    <tr style=\"text-align: right;\">\n",
       "      <th>col_0</th>\n",
       "      <th>0</th>\n",
       "      <th>1</th>\n",
       "    </tr>\n",
       "    <tr>\n",
       "      <th>loan_status</th>\n",
       "      <th></th>\n",
       "      <th></th>\n",
       "    </tr>\n",
       "  </thead>\n",
       "  <tbody>\n",
       "    <tr>\n",
       "      <th>0</th>\n",
       "      <td>1979</td>\n",
       "      <td>10</td>\n",
       "    </tr>\n",
       "    <tr>\n",
       "      <th>1</th>\n",
       "      <td>0</td>\n",
       "      <td>10745</td>\n",
       "    </tr>\n",
       "  </tbody>\n",
       "</table>\n",
       "</div>"
      ],
      "text/plain": [
       "col_0           0      1\n",
       "loan_status             \n",
       "0            1979     10\n",
       "1               0  10745"
      ]
     },
     "execution_count": 140,
     "metadata": {},
     "output_type": "execute_result"
    }
   ],
   "source": [
    "pd.crosstab(y_test,predictions)"
   ]
  },
  {
   "cell_type": "code",
   "execution_count": 141,
   "metadata": {
    "collapsed": true
   },
   "outputs": [],
   "source": [
    "# Create a list of feature names\n",
    "feat_labels = ['loan_amnt', 'funded_amnt', 'funded_amnt_inv', 'term', 'int_rate',\n",
    "       'installment', 'grade', 'sub_grade', 'emp_length', 'home_ownership',\n",
    "       'annual_inc', 'verification_status', 'loan_status', 'purpose',\n",
    "       'addr_state', 'dti', 'delinq_2yrs', 'inq_last_6mths',\n",
    "       'mths_since_last_delinq', 'open_acc', 'pub_rec', 'revol_bal',\n",
    "       'revol_util', 'total_acc', 'total_pymnt', 'total_pymnt_inv',\n",
    "       'total_rec_prncp', 'total_rec_int', 'total_rec_late_fee', 'recoveries',\n",
    "       'collection_recovery_fee', 'last_pymnt_amnt', 'acc_now_delinq',\n",
    "       'delinq_amnt', 'pub_rec_bankruptcies', 'tax_liens',\n",
    "       'debt_settlement_flag']\n"
   ]
  },
  {
   "cell_type": "code",
   "execution_count": 142,
   "metadata": {},
   "outputs": [
    {
     "name": "stdout",
     "output_type": "stream",
     "text": [
      "('loan_amnt', 0.014375919406526941)\n",
      "('funded_amnt', 0.017740303561131494)\n",
      "('funded_amnt_inv', 0.004026004734216235)\n",
      "('term', 0.014150795784205755)\n",
      "('int_rate', 0.0026093434525247625)\n",
      "('installment', 0.009565420291957175)\n",
      "('grade', 0.01904803564846636)\n",
      "('sub_grade', 0.0025398953651053677)\n",
      "('emp_length', 0.0003447660858111628)\n",
      "('home_ownership', 0.0014667984209691186)\n",
      "('annual_inc', 0.00026644369633820964)\n",
      "('verification_status', 0.004854587210349098)\n",
      "('loan_status', 0.0021925922450656884)\n",
      "('purpose', 0.00020277913569982366)\n",
      "('addr_state', 0.0002710025044444384)\n",
      "('dti', 0.0001269344014859982)\n",
      "('delinq_2yrs', 0.03344852690901739)\n",
      "('inq_last_6mths', 0.0002659428126972203)\n",
      "('mths_since_last_delinq', 0.00024154361692856367)\n",
      "('open_acc', 0.001119061272027208)\n",
      "('pub_rec', 0.0004928877296152333)\n",
      "('revol_bal', 0.00022957356156884539)\n",
      "('revol_util', 0.0008187880202217381)\n",
      "('total_acc', 0.06577045931839434)\n",
      "('total_pymnt', 0.012741374983968786)\n",
      "('total_pymnt_inv', 0.0653810686702161)\n",
      "('total_rec_prncp', 0.009427973966385249)\n",
      "('total_rec_int', 0.012807844523575907)\n",
      "('total_rec_late_fee', 0.3896176977053734)\n",
      "('recoveries', 0.19622822317371233)\n",
      "('collection_recovery_fee', 0.11188988485963476)\n",
      "('last_pymnt_amnt', 0.0)\n",
      "('acc_now_delinq', 0.0)\n",
      "('delinq_amnt', 0.0007410191777273125)\n",
      "('pub_rec_bankruptcies', 0.0)\n",
      "('tax_liens', 0.004996507754638034)\n"
     ]
    }
   ],
   "source": [
    "# Print the name and gini importance of each feature\n",
    "for feature in zip(feat_labels, rfc.feature_importances_):\n",
    "    print(feature)\n"
   ]
  },
  {
   "cell_type": "code",
   "execution_count": null,
   "metadata": {
    "collapsed": true
   },
   "outputs": [],
   "source": []
  },
  {
   "cell_type": "code",
   "execution_count": null,
   "metadata": {
    "collapsed": true
   },
   "outputs": [],
   "source": []
  },
  {
   "cell_type": "code",
   "execution_count": null,
   "metadata": {
    "collapsed": true
   },
   "outputs": [],
   "source": []
  },
  {
   "cell_type": "code",
   "execution_count": null,
   "metadata": {
    "collapsed": true
   },
   "outputs": [],
   "source": []
  },
  {
   "cell_type": "code",
   "execution_count": null,
   "metadata": {
    "collapsed": true
   },
   "outputs": [],
   "source": []
  },
  {
   "cell_type": "code",
   "execution_count": null,
   "metadata": {
    "collapsed": true
   },
   "outputs": [],
   "source": []
  },
  {
   "cell_type": "code",
   "execution_count": 143,
   "metadata": {
    "collapsed": true
   },
   "outputs": [],
   "source": [
    "def filter_df_corr(inp_data, corr_val):\n",
    "    '''\n",
    "    Returns an array or dataframe (based on type(inp_data) adjusted to drop \\\n",
    "        columns with high correlation to one another. Takes second arg corr_val\n",
    "        that defines the cutoff\n",
    "\n",
    "    ----------\n",
    "    inp_data : np.array, pd.DataFrame\n",
    "        Values to consider\n",
    "    corr_val : float\n",
    "        Value [0, 1] on which to base the correlation cutoff\n",
    "    '''\n",
    "    # Creates Correlation Matrix\n",
    "    if isinstance(inp_data, np.ndarray):\n",
    "        inp_data = pd.DataFrame(data=inp_data)\n",
    "        array_flag = True\n",
    "    else:\n",
    "        array_flag = False\n",
    "    corr_matrix = inp_data.corr()\n",
    "\n",
    "    # Iterates through Correlation Matrix Table to find correlated columns\n",
    "    drop_cols = []\n",
    "    n_cols = len(corr_matrix.columns)\n",
    "\n",
    "    for i in range(n_cols):\n",
    "        for k in range(i+1, n_cols):\n",
    "            val = corr_matrix.iloc[k, i]\n",
    "            col = corr_matrix.columns[i]\n",
    "            row = corr_matrix.index[k]\n",
    "            if abs(val) >= corr_val:\n",
    "                # Prints the correlated feature set and the corr val\n",
    "                # Prints the correlated feature set and the corr val\n",
    "                print(col, \"|\", row, \"|\", round(val, 2))\n",
    "                drop_cols.append(col)\n",
    "                #print(drop_cols)\n",
    "\n",
    "    # Drops the correlated columns\n",
    "    drop_cols = set(drop_cols)\n",
    "    inp_data = inp_data.drop(columns=drop_cols)\n",
    "    # Return same type as inp\n",
    "    if array_flag:\n",
    "        return inp_data.values\n",
    "    else:\n",
    "        return inp_data\n"
   ]
  },
  {
   "cell_type": "code",
   "execution_count": 144,
   "metadata": {},
   "outputs": [
    {
     "name": "stdout",
     "output_type": "stream",
     "text": [
      "loan_amnt | funded_amnt | 0.98\n",
      "loan_amnt | funded_amnt_inv | 0.93\n",
      "loan_amnt | installment | 0.93\n",
      "loan_amnt | total_pymnt | 0.88\n",
      "loan_amnt | total_pymnt_inv | 0.84\n",
      "loan_amnt | total_rec_prncp | 0.85\n",
      "funded_amnt | funded_amnt_inv | 0.95\n",
      "funded_amnt | installment | 0.96\n",
      "funded_amnt | total_pymnt | 0.9\n",
      "funded_amnt | total_pymnt_inv | 0.86\n",
      "funded_amnt | total_rec_prncp | 0.87\n",
      "funded_amnt_inv | installment | 0.89\n",
      "funded_amnt_inv | total_pymnt | 0.87\n",
      "funded_amnt_inv | total_pymnt_inv | 0.91\n",
      "funded_amnt_inv | total_rec_prncp | 0.84\n",
      "installment | total_pymnt | 0.85\n",
      "installment | total_rec_prncp | 0.84\n",
      "grade | sub_grade | 0.98\n",
      "pub_rec | pub_rec_bankruptcies | 0.82\n",
      "total_pymnt | total_pymnt_inv | 0.97\n",
      "total_pymnt | total_rec_prncp | 0.97\n",
      "total_pymnt | total_rec_int | 0.84\n",
      "total_pymnt_inv | total_rec_prncp | 0.94\n",
      "total_pymnt_inv | total_rec_int | 0.82\n",
      "recoveries | collection_recovery_fee | 0.82\n"
     ]
    }
   ],
   "source": [
    "data1=filter_df_corr(data,0.80)"
   ]
  },
  {
   "cell_type": "code",
   "execution_count": 145,
   "metadata": {},
   "outputs": [
    {
     "data": {
      "text/plain": [
       "(42445, 28)"
      ]
     },
     "execution_count": 145,
     "metadata": {},
     "output_type": "execute_result"
    }
   ],
   "source": [
    "data1.shape"
   ]
  },
  {
   "cell_type": "code",
   "execution_count": 146,
   "metadata": {},
   "outputs": [
    {
     "data": {
      "text/html": [
       "<div>\n",
       "<style scoped>\n",
       "    .dataframe tbody tr th:only-of-type {\n",
       "        vertical-align: middle;\n",
       "    }\n",
       "\n",
       "    .dataframe tbody tr th {\n",
       "        vertical-align: top;\n",
       "    }\n",
       "\n",
       "    .dataframe thead th {\n",
       "        text-align: right;\n",
       "    }\n",
       "</style>\n",
       "<table border=\"1\" class=\"dataframe\">\n",
       "  <thead>\n",
       "    <tr style=\"text-align: right;\">\n",
       "      <th></th>\n",
       "      <th>term</th>\n",
       "      <th>int_rate</th>\n",
       "      <th>sub_grade</th>\n",
       "      <th>emp_length</th>\n",
       "      <th>home_ownership</th>\n",
       "      <th>annual_inc</th>\n",
       "      <th>verification_status</th>\n",
       "      <th>loan_status</th>\n",
       "      <th>purpose</th>\n",
       "      <th>addr_state</th>\n",
       "      <th>...</th>\n",
       "      <th>total_rec_prncp</th>\n",
       "      <th>total_rec_int</th>\n",
       "      <th>total_rec_late_fee</th>\n",
       "      <th>collection_recovery_fee</th>\n",
       "      <th>last_pymnt_amnt</th>\n",
       "      <th>acc_now_delinq</th>\n",
       "      <th>delinq_amnt</th>\n",
       "      <th>pub_rec_bankruptcies</th>\n",
       "      <th>tax_liens</th>\n",
       "      <th>debt_settlement_flag</th>\n",
       "    </tr>\n",
       "  </thead>\n",
       "  <tbody>\n",
       "    <tr>\n",
       "      <th>0</th>\n",
       "      <td>36</td>\n",
       "      <td>10.65</td>\n",
       "      <td>6</td>\n",
       "      <td>10.0</td>\n",
       "      <td>4</td>\n",
       "      <td>24000.0</td>\n",
       "      <td>2</td>\n",
       "      <td>1</td>\n",
       "      <td>1</td>\n",
       "      <td>3</td>\n",
       "      <td>...</td>\n",
       "      <td>5000.00</td>\n",
       "      <td>863.16</td>\n",
       "      <td>0.00</td>\n",
       "      <td>0.00</td>\n",
       "      <td>171.62</td>\n",
       "      <td>0.0</td>\n",
       "      <td>0.0</td>\n",
       "      <td>0.0</td>\n",
       "      <td>0.0</td>\n",
       "      <td>0</td>\n",
       "    </tr>\n",
       "    <tr>\n",
       "      <th>1</th>\n",
       "      <td>60</td>\n",
       "      <td>15.27</td>\n",
       "      <td>13</td>\n",
       "      <td>0.0</td>\n",
       "      <td>4</td>\n",
       "      <td>30000.0</td>\n",
       "      <td>1</td>\n",
       "      <td>0</td>\n",
       "      <td>0</td>\n",
       "      <td>10</td>\n",
       "      <td>...</td>\n",
       "      <td>456.46</td>\n",
       "      <td>435.17</td>\n",
       "      <td>0.00</td>\n",
       "      <td>1.11</td>\n",
       "      <td>119.66</td>\n",
       "      <td>0.0</td>\n",
       "      <td>0.0</td>\n",
       "      <td>0.0</td>\n",
       "      <td>0.0</td>\n",
       "      <td>0</td>\n",
       "    </tr>\n",
       "    <tr>\n",
       "      <th>2</th>\n",
       "      <td>36</td>\n",
       "      <td>15.96</td>\n",
       "      <td>14</td>\n",
       "      <td>10.0</td>\n",
       "      <td>4</td>\n",
       "      <td>12252.0</td>\n",
       "      <td>0</td>\n",
       "      <td>1</td>\n",
       "      <td>11</td>\n",
       "      <td>14</td>\n",
       "      <td>...</td>\n",
       "      <td>2400.00</td>\n",
       "      <td>605.67</td>\n",
       "      <td>0.00</td>\n",
       "      <td>0.00</td>\n",
       "      <td>649.91</td>\n",
       "      <td>0.0</td>\n",
       "      <td>0.0</td>\n",
       "      <td>0.0</td>\n",
       "      <td>0.0</td>\n",
       "      <td>0</td>\n",
       "    </tr>\n",
       "    <tr>\n",
       "      <th>3</th>\n",
       "      <td>36</td>\n",
       "      <td>13.49</td>\n",
       "      <td>10</td>\n",
       "      <td>10.0</td>\n",
       "      <td>4</td>\n",
       "      <td>49200.0</td>\n",
       "      <td>1</td>\n",
       "      <td>1</td>\n",
       "      <td>9</td>\n",
       "      <td>4</td>\n",
       "      <td>...</td>\n",
       "      <td>10000.00</td>\n",
       "      <td>2214.92</td>\n",
       "      <td>16.97</td>\n",
       "      <td>0.00</td>\n",
       "      <td>357.48</td>\n",
       "      <td>0.0</td>\n",
       "      <td>0.0</td>\n",
       "      <td>0.0</td>\n",
       "      <td>0.0</td>\n",
       "      <td>0</td>\n",
       "    </tr>\n",
       "    <tr>\n",
       "      <th>4</th>\n",
       "      <td>60</td>\n",
       "      <td>12.69</td>\n",
       "      <td>9</td>\n",
       "      <td>1.0</td>\n",
       "      <td>4</td>\n",
       "      <td>80000.0</td>\n",
       "      <td>1</td>\n",
       "      <td>1</td>\n",
       "      <td>9</td>\n",
       "      <td>36</td>\n",
       "      <td>...</td>\n",
       "      <td>3000.00</td>\n",
       "      <td>1066.91</td>\n",
       "      <td>0.00</td>\n",
       "      <td>0.00</td>\n",
       "      <td>67.30</td>\n",
       "      <td>0.0</td>\n",
       "      <td>0.0</td>\n",
       "      <td>0.0</td>\n",
       "      <td>0.0</td>\n",
       "      <td>0</td>\n",
       "    </tr>\n",
       "  </tbody>\n",
       "</table>\n",
       "<p>5 rows × 28 columns</p>\n",
       "</div>"
      ],
      "text/plain": [
       "   term int_rate  sub_grade  emp_length  home_ownership  annual_inc  \\\n",
       "0    36    10.65          6        10.0               4     24000.0   \n",
       "1    60    15.27         13         0.0               4     30000.0   \n",
       "2    36    15.96         14        10.0               4     12252.0   \n",
       "3    36    13.49         10        10.0               4     49200.0   \n",
       "4    60    12.69          9         1.0               4     80000.0   \n",
       "\n",
       "   verification_status  loan_status  purpose  addr_state  ...  \\\n",
       "0                    2            1        1           3  ...   \n",
       "1                    1            0        0          10  ...   \n",
       "2                    0            1       11          14  ...   \n",
       "3                    1            1        9           4  ...   \n",
       "4                    1            1        9          36  ...   \n",
       "\n",
       "   total_rec_prncp  total_rec_int  total_rec_late_fee  \\\n",
       "0          5000.00         863.16                0.00   \n",
       "1           456.46         435.17                0.00   \n",
       "2          2400.00         605.67                0.00   \n",
       "3         10000.00        2214.92               16.97   \n",
       "4          3000.00        1066.91                0.00   \n",
       "\n",
       "   collection_recovery_fee  last_pymnt_amnt  acc_now_delinq delinq_amnt  \\\n",
       "0                     0.00           171.62             0.0         0.0   \n",
       "1                     1.11           119.66             0.0         0.0   \n",
       "2                     0.00           649.91             0.0         0.0   \n",
       "3                     0.00           357.48             0.0         0.0   \n",
       "4                     0.00            67.30             0.0         0.0   \n",
       "\n",
       "   pub_rec_bankruptcies  tax_liens  debt_settlement_flag  \n",
       "0                   0.0        0.0                     0  \n",
       "1                   0.0        0.0                     0  \n",
       "2                   0.0        0.0                     0  \n",
       "3                   0.0        0.0                     0  \n",
       "4                   0.0        0.0                     0  \n",
       "\n",
       "[5 rows x 28 columns]"
      ]
     },
     "execution_count": 146,
     "metadata": {},
     "output_type": "execute_result"
    }
   ],
   "source": [
    "data1.head()"
   ]
  },
  {
   "cell_type": "code",
   "execution_count": 147,
   "metadata": {},
   "outputs": [
    {
     "data": {
      "text/plain": [
       "1    36036\n",
       "0     6409\n",
       "Name: loan_status, dtype: int64"
      ]
     },
     "execution_count": 147,
     "metadata": {},
     "output_type": "execute_result"
    }
   ],
   "source": [
    "data1['loan_status'].value_counts()"
   ]
  },
  {
   "cell_type": "code",
   "execution_count": 148,
   "metadata": {
    "collapsed": true
   },
   "outputs": [],
   "source": [
    "#mask = data1[\"loan_status\"] == 0\n",
    "#mask1=data1[\"loan_status\"] == 1\n",
    "#z=data1[mask & mask1]\n",
    "#plt.scatter(z)"
   ]
  },
  {
   "cell_type": "code",
   "execution_count": 149,
   "metadata": {
    "collapsed": true
   },
   "outputs": [],
   "source": [
    "#Creating a random model\n",
    "#Train Test split\n",
    "from sklearn.model_selection import train_test_split\n",
    "# Putting feature variable to X\n",
    "X = data1.drop(['loan_status'],axis=1)\n",
    "# Putting response variable to y\n",
    "y = data1['loan_status']"
   ]
  },
  {
   "cell_type": "code",
   "execution_count": 150,
   "metadata": {},
   "outputs": [
    {
     "name": "stdout",
     "output_type": "stream",
     "text": [
      "Number transactions X_train dataset:  (29711, 27)\n",
      "Number transactions y_train dataset:  (29711,)\n",
      "Number transactions X_test dataset:  (12734, 27)\n",
      "Number transactions y_test dataset:  (12734,)\n"
     ]
    }
   ],
   "source": [
    "from imblearn.over_sampling import SMOTE\n",
    "\n",
    "from sklearn.model_selection import train_test_split\n",
    "\n",
    "X_train, X_test, y_train, y_test = train_test_split(X, y, test_size=0.3, random_state=0)\n",
    "\n",
    "print(\"Number transactions X_train dataset: \", X_train.shape)\n",
    "print(\"Number transactions y_train dataset: \", y_train.shape)\n",
    "print(\"Number transactions X_test dataset: \", X_test.shape)\n",
    "print(\"Number transactions y_test dataset: \", y_test.shape)"
   ]
  },
  {
   "cell_type": "code",
   "execution_count": 151,
   "metadata": {},
   "outputs": [
    {
     "name": "stdout",
     "output_type": "stream",
     "text": [
      "Before OverSampling, counts of label '1': 25291\n",
      "Before OverSampling, counts of label '0': 4420 \n",
      "\n",
      "After OverSampling, the shape of train_X: (50582, 27)\n",
      "After OverSampling, the shape of train_y: (50582,) \n",
      "\n",
      "After OverSampling, counts of label '1': 25291\n",
      "After OverSampling, counts of label '0': 25291\n"
     ]
    }
   ],
   "source": [
    "print(\"Before OverSampling, counts of label '1': {}\".format(sum(y_train==1)))\n",
    "print(\"Before OverSampling, counts of label '0': {} \\n\".format(sum(y_train==0)))\n",
    "\n",
    "sm = SMOTE(random_state=2)\n",
    "X_train_res, y_train_res = sm.fit_sample(X_train, y_train.ravel())\n",
    "\n",
    "print('After OverSampling, the shape of train_X: {}'.format(X_train_res.shape))\n",
    "print('After OverSampling, the shape of train_y: {} \\n'.format(y_train_res.shape))\n",
    "\n",
    "print(\"After OverSampling, counts of label '1': {}\".format(sum(y_train_res==1)))\n",
    "print(\"After OverSampling, counts of label '0': {}\".format(sum(y_train_res==0)))"
   ]
  },
  {
   "cell_type": "code",
   "execution_count": 152,
   "metadata": {},
   "outputs": [
    {
     "data": {
      "text/html": [
       "<div>\n",
       "<style scoped>\n",
       "    .dataframe tbody tr th:only-of-type {\n",
       "        vertical-align: middle;\n",
       "    }\n",
       "\n",
       "    .dataframe tbody tr th {\n",
       "        vertical-align: top;\n",
       "    }\n",
       "\n",
       "    .dataframe thead th {\n",
       "        text-align: right;\n",
       "    }\n",
       "</style>\n",
       "<table border=\"1\" class=\"dataframe\">\n",
       "  <thead>\n",
       "    <tr style=\"text-align: right;\">\n",
       "      <th></th>\n",
       "      <th>term</th>\n",
       "      <th>int_rate</th>\n",
       "      <th>sub_grade</th>\n",
       "      <th>emp_length</th>\n",
       "      <th>home_ownership</th>\n",
       "      <th>annual_inc</th>\n",
       "      <th>verification_status</th>\n",
       "      <th>purpose</th>\n",
       "      <th>addr_state</th>\n",
       "      <th>dti</th>\n",
       "      <th>...</th>\n",
       "      <th>total_rec_prncp</th>\n",
       "      <th>total_rec_int</th>\n",
       "      <th>total_rec_late_fee</th>\n",
       "      <th>collection_recovery_fee</th>\n",
       "      <th>last_pymnt_amnt</th>\n",
       "      <th>acc_now_delinq</th>\n",
       "      <th>delinq_amnt</th>\n",
       "      <th>pub_rec_bankruptcies</th>\n",
       "      <th>tax_liens</th>\n",
       "      <th>debt_settlement_flag</th>\n",
       "    </tr>\n",
       "  </thead>\n",
       "  <tbody>\n",
       "    <tr>\n",
       "      <th>0</th>\n",
       "      <td>36.0</td>\n",
       "      <td>12.69</td>\n",
       "      <td>9.0</td>\n",
       "      <td>7.0</td>\n",
       "      <td>0.0</td>\n",
       "      <td>130000.0</td>\n",
       "      <td>1.0</td>\n",
       "      <td>2.0</td>\n",
       "      <td>27.0</td>\n",
       "      <td>10.64</td>\n",
       "      <td>...</td>\n",
       "      <td>13000.00</td>\n",
       "      <td>2573.81</td>\n",
       "      <td>0.0</td>\n",
       "      <td>0.0</td>\n",
       "      <td>3380.95</td>\n",
       "      <td>0.0</td>\n",
       "      <td>0.0</td>\n",
       "      <td>0.0</td>\n",
       "      <td>0.0</td>\n",
       "      <td>0.0</td>\n",
       "    </tr>\n",
       "    <tr>\n",
       "      <th>1</th>\n",
       "      <td>36.0</td>\n",
       "      <td>10.99</td>\n",
       "      <td>7.0</td>\n",
       "      <td>1.0</td>\n",
       "      <td>4.0</td>\n",
       "      <td>60000.0</td>\n",
       "      <td>2.0</td>\n",
       "      <td>2.0</td>\n",
       "      <td>6.0</td>\n",
       "      <td>11.56</td>\n",
       "      <td>...</td>\n",
       "      <td>12000.00</td>\n",
       "      <td>942.63</td>\n",
       "      <td>0.0</td>\n",
       "      <td>0.0</td>\n",
       "      <td>775.12</td>\n",
       "      <td>0.0</td>\n",
       "      <td>0.0</td>\n",
       "      <td>0.0</td>\n",
       "      <td>0.0</td>\n",
       "      <td>0.0</td>\n",
       "    </tr>\n",
       "    <tr>\n",
       "      <th>2</th>\n",
       "      <td>36.0</td>\n",
       "      <td>18.62</td>\n",
       "      <td>26.0</td>\n",
       "      <td>4.0</td>\n",
       "      <td>3.0</td>\n",
       "      <td>35000.0</td>\n",
       "      <td>1.0</td>\n",
       "      <td>2.0</td>\n",
       "      <td>9.0</td>\n",
       "      <td>4.46</td>\n",
       "      <td>...</td>\n",
       "      <td>2004.67</td>\n",
       "      <td>1273.85</td>\n",
       "      <td>0.0</td>\n",
       "      <td>0.0</td>\n",
       "      <td>364.65</td>\n",
       "      <td>0.0</td>\n",
       "      <td>0.0</td>\n",
       "      <td>0.0</td>\n",
       "      <td>0.0</td>\n",
       "      <td>0.0</td>\n",
       "    </tr>\n",
       "    <tr>\n",
       "      <th>3</th>\n",
       "      <td>36.0</td>\n",
       "      <td>7.90</td>\n",
       "      <td>3.0</td>\n",
       "      <td>5.0</td>\n",
       "      <td>0.0</td>\n",
       "      <td>120000.0</td>\n",
       "      <td>2.0</td>\n",
       "      <td>11.0</td>\n",
       "      <td>41.0</td>\n",
       "      <td>16.67</td>\n",
       "      <td>...</td>\n",
       "      <td>28000.00</td>\n",
       "      <td>1634.80</td>\n",
       "      <td>0.0</td>\n",
       "      <td>0.0</td>\n",
       "      <td>21753.99</td>\n",
       "      <td>0.0</td>\n",
       "      <td>0.0</td>\n",
       "      <td>0.0</td>\n",
       "      <td>0.0</td>\n",
       "      <td>0.0</td>\n",
       "    </tr>\n",
       "    <tr>\n",
       "      <th>4</th>\n",
       "      <td>36.0</td>\n",
       "      <td>13.11</td>\n",
       "      <td>11.0</td>\n",
       "      <td>0.0</td>\n",
       "      <td>4.0</td>\n",
       "      <td>42000.0</td>\n",
       "      <td>2.0</td>\n",
       "      <td>9.0</td>\n",
       "      <td>5.0</td>\n",
       "      <td>1.31</td>\n",
       "      <td>...</td>\n",
       "      <td>1018.50</td>\n",
       "      <td>462.90</td>\n",
       "      <td>0.0</td>\n",
       "      <td>0.0</td>\n",
       "      <td>371.20</td>\n",
       "      <td>0.0</td>\n",
       "      <td>0.0</td>\n",
       "      <td>0.0</td>\n",
       "      <td>0.0</td>\n",
       "      <td>0.0</td>\n",
       "    </tr>\n",
       "  </tbody>\n",
       "</table>\n",
       "<p>5 rows × 27 columns</p>\n",
       "</div>"
      ],
      "text/plain": [
       "   term  int_rate  sub_grade  emp_length  home_ownership  annual_inc  \\\n",
       "0  36.0     12.69        9.0         7.0             0.0    130000.0   \n",
       "1  36.0     10.99        7.0         1.0             4.0     60000.0   \n",
       "2  36.0     18.62       26.0         4.0             3.0     35000.0   \n",
       "3  36.0      7.90        3.0         5.0             0.0    120000.0   \n",
       "4  36.0     13.11       11.0         0.0             4.0     42000.0   \n",
       "\n",
       "   verification_status  purpose  addr_state    dti  ...  total_rec_prncp  \\\n",
       "0                  1.0      2.0        27.0  10.64  ...         13000.00   \n",
       "1                  2.0      2.0         6.0  11.56  ...         12000.00   \n",
       "2                  1.0      2.0         9.0   4.46  ...          2004.67   \n",
       "3                  2.0     11.0        41.0  16.67  ...         28000.00   \n",
       "4                  2.0      9.0         5.0   1.31  ...          1018.50   \n",
       "\n",
       "   total_rec_int  total_rec_late_fee  collection_recovery_fee  \\\n",
       "0        2573.81                 0.0                      0.0   \n",
       "1         942.63                 0.0                      0.0   \n",
       "2        1273.85                 0.0                      0.0   \n",
       "3        1634.80                 0.0                      0.0   \n",
       "4         462.90                 0.0                      0.0   \n",
       "\n",
       "   last_pymnt_amnt  acc_now_delinq  delinq_amnt  pub_rec_bankruptcies  \\\n",
       "0          3380.95             0.0          0.0                   0.0   \n",
       "1           775.12             0.0          0.0                   0.0   \n",
       "2           364.65             0.0          0.0                   0.0   \n",
       "3         21753.99             0.0          0.0                   0.0   \n",
       "4           371.20             0.0          0.0                   0.0   \n",
       "\n",
       "   tax_liens  debt_settlement_flag  \n",
       "0        0.0                   0.0  \n",
       "1        0.0                   0.0  \n",
       "2        0.0                   0.0  \n",
       "3        0.0                   0.0  \n",
       "4        0.0                   0.0  \n",
       "\n",
       "[5 rows x 27 columns]"
      ]
     },
     "execution_count": 152,
     "metadata": {},
     "output_type": "execute_result"
    }
   ],
   "source": [
    "X_train=pd.DataFrame(X_train_res,columns = data1.drop(['loan_status'],axis=1).columns)\n",
    "X_train.head()\n"
   ]
  },
  {
   "cell_type": "code",
   "execution_count": 153,
   "metadata": {},
   "outputs": [
    {
     "data": {
      "text/plain": [
       "'from sklearn.linear_model import LogisticRegression\\nfrom sklearn import metrics\\nlogsk = LogisticRegression()\\nlogsk.fit(X_train_res,y_train_res)'"
      ]
     },
     "execution_count": 153,
     "metadata": {},
     "output_type": "execute_result"
    }
   ],
   "source": [
    "'''from sklearn.linear_model import LogisticRegression\n",
    "from sklearn import metrics\n",
    "logsk = LogisticRegression()\n",
    "logsk.fit(X_train_res,y_train_res)'''"
   ]
  },
  {
   "cell_type": "code",
   "execution_count": 154,
   "metadata": {
    "collapsed": true
   },
   "outputs": [],
   "source": [
    "#pred1=logsk.predict(X_test)"
   ]
  },
  {
   "cell_type": "code",
   "execution_count": 155,
   "metadata": {
    "collapsed": true
   },
   "outputs": [],
   "source": [
    "# Printing confusion matrix\n",
    "#from sklearn.metrics import classification_report,confusion_matrix, accuracy_score\n",
    "#print(confusion_matrix(y_test,pred1))"
   ]
  },
  {
   "cell_type": "code",
   "execution_count": 156,
   "metadata": {
    "collapsed": true
   },
   "outputs": [],
   "source": [
    "#print(classification_report(y_test,pred1))"
   ]
  },
  {
   "cell_type": "code",
   "execution_count": 157,
   "metadata": {
    "collapsed": true
   },
   "outputs": [],
   "source": [
    "#print(\"accuracy:\", metrics.accuracy_score(y_test,pred1))\n"
   ]
  },
  {
   "cell_type": "code",
   "execution_count": 158,
   "metadata": {
    "collapsed": true
   },
   "outputs": [],
   "source": [
    "# Importing random forest classifier from sklearn library\n",
    "#from sklearn.ensemble import RandomForestClassifier\n",
    "\n",
    "# Running the random forest with default parameters.\n",
    "#rfc = RandomForestClassifier()"
   ]
  },
  {
   "cell_type": "code",
   "execution_count": 159,
   "metadata": {
    "collapsed": true
   },
   "outputs": [],
   "source": [
    "# fit\n",
    "#rfc.fit(X_train_res,y_train_res)"
   ]
  },
  {
   "cell_type": "code",
   "execution_count": 160,
   "metadata": {
    "collapsed": true
   },
   "outputs": [],
   "source": [
    "#Making predictions\n",
    "#predictions = rfc.predict(X_test)"
   ]
  },
  {
   "cell_type": "code",
   "execution_count": 161,
   "metadata": {
    "collapsed": true
   },
   "outputs": [],
   "source": [
    "# Printing confusion matrix\n",
    "#from sklearn.metrics import classification_report,confusion_matrix, accuracy_score\n",
    "#print(confusion_matrix(y_test,predictions))"
   ]
  },
  {
   "cell_type": "code",
   "execution_count": 162,
   "metadata": {
    "collapsed": true
   },
   "outputs": [],
   "source": [
    "#print(classification_report(y_test,predictions))"
   ]
  },
  {
   "cell_type": "code",
   "execution_count": 163,
   "metadata": {
    "collapsed": true
   },
   "outputs": [],
   "source": [
    "#print(\"accuracy:\", metrics.accuracy_score(y_test,predictions))\n"
   ]
  },
  {
   "cell_type": "code",
   "execution_count": 164,
   "metadata": {},
   "outputs": [
    {
     "data": {
      "text/plain": [
       "\"from sklearn.model_selection import cross_val_score\\nfrom sklearn.model_selection import KFold\\nfolds = KFold(n_splits = 5, shuffle = True, random_state = 100)\\nscores = cross_val_score(rfc, X_train_res, y_train_res, scoring='f1', cv=folds)\\nscores\""
      ]
     },
     "execution_count": 164,
     "metadata": {},
     "output_type": "execute_result"
    }
   ],
   "source": [
    "# create a KFold object with 5 splits\n",
    "'''from sklearn.model_selection import cross_val_score\n",
    "from sklearn.model_selection import KFold\n",
    "folds = KFold(n_splits = 5, shuffle = True, random_state = 100)\n",
    "scores = cross_val_score(rfc, X_train_res, y_train_res, scoring='f1', cv=folds)\n",
    "scores'''  "
   ]
  },
  {
   "cell_type": "code",
   "execution_count": 165,
   "metadata": {},
   "outputs": [
    {
     "data": {
      "text/plain": [
       "\"from sklearn.model_selection import train_test_split\\n# Putting feature variable to X\\nX = data1.drop(['loan_status'],axis=1)\\n# Putting response variable to y\\ny = data1['loan_status']\""
      ]
     },
     "execution_count": 165,
     "metadata": {},
     "output_type": "execute_result"
    }
   ],
   "source": [
    "#Creating a random model\n",
    "#Train Test split\n",
    "'''from sklearn.model_selection import train_test_split\n",
    "# Putting feature variable to X\n",
    "X = data1.drop(['loan_status'],axis=1)\n",
    "# Putting response variable to y\n",
    "y = data1['loan_status']'''"
   ]
  },
  {
   "cell_type": "code",
   "execution_count": 166,
   "metadata": {
    "collapsed": true
   },
   "outputs": [],
   "source": [
    "# Splitting the data into train and test\n",
    "#X_train, X_test, y_train, y_test = train_test_split(X,y, train_size=0.7,test_size=0.3,random_state=100)"
   ]
  },
  {
   "cell_type": "code",
   "execution_count": 167,
   "metadata": {},
   "outputs": [
    {
     "data": {
      "text/plain": [
       "'from sklearn.linear_model import LogisticRegression\\nfrom sklearn import metrics\\nlogsk = LogisticRegression()\\nlogsk.fit(X_train,y_train)'"
      ]
     },
     "execution_count": 167,
     "metadata": {},
     "output_type": "execute_result"
    }
   ],
   "source": [
    "# Let's run the model using the selected variables\n",
    "'''from sklearn.linear_model import LogisticRegression\n",
    "from sklearn import metrics\n",
    "logsk = LogisticRegression()\n",
    "logsk.fit(X_train,y_train)'''"
   ]
  },
  {
   "cell_type": "code",
   "execution_count": 168,
   "metadata": {
    "collapsed": true
   },
   "outputs": [],
   "source": [
    "#y_pred=logsk.predict(X_test)"
   ]
  },
  {
   "cell_type": "code",
   "execution_count": 169,
   "metadata": {
    "collapsed": true
   },
   "outputs": [],
   "source": [
    "# confusion matrix and accuracy\n",
    "\n",
    "#accuracy\n",
    "#print(\"accuracy:\", metrics.accuracy_score(y_test,y_pred))\n",
    "\n",
    "# cm\n",
    "#print(metrics.confusion_matrix(y_test,y_pred))"
   ]
  },
  {
   "cell_type": "code",
   "execution_count": 170,
   "metadata": {
    "collapsed": true
   },
   "outputs": [],
   "source": [
    "#pd.crosstab(y_test,y_pred)"
   ]
  },
  {
   "cell_type": "code",
   "execution_count": 171,
   "metadata": {},
   "outputs": [
    {
     "data": {
      "text/html": [
       "<table class=\"simpletable\">\n",
       "<caption>Generalized Linear Model Regression Results</caption>\n",
       "<tr>\n",
       "  <th>Dep. Variable:</th>           <td>y</td>        <th>  No. Observations:  </th>  <td> 50582</td> \n",
       "</tr>\n",
       "<tr>\n",
       "  <th>Model:</th>                  <td>GLM</td>       <th>  Df Residuals:      </th>  <td> 50555</td> \n",
       "</tr>\n",
       "<tr>\n",
       "  <th>Model Family:</th>        <td>Binomial</td>     <th>  Df Model:          </th>  <td>    26</td> \n",
       "</tr>\n",
       "<tr>\n",
       "  <th>Link Function:</th>         <td>logit</td>      <th>  Scale:             </th> <td>  1.0000</td>\n",
       "</tr>\n",
       "<tr>\n",
       "  <th>Method:</th>                <td>IRLS</td>       <th>  Log-Likelihood:    </th> <td>     nan</td>\n",
       "</tr>\n",
       "<tr>\n",
       "  <th>Date:</th>            <td>Wed, 24 Jul 2019</td> <th>  Deviance:          </th> <td>     nan</td>\n",
       "</tr>\n",
       "<tr>\n",
       "  <th>Time:</th>                <td>14:12:54</td>     <th>  Pearson chi2:      </th> <td>3.31e+07</td>\n",
       "</tr>\n",
       "<tr>\n",
       "  <th>No. Iterations:</th>         <td>100</td>       <th>                     </th>     <td> </td>   \n",
       "</tr>\n",
       "<tr>\n",
       "  <th>Covariance Type:</th>     <td>nonrobust</td>    <th>                     </th>     <td> </td>   \n",
       "</tr>\n",
       "</table>\n",
       "<table class=\"simpletable\">\n",
       "<tr>\n",
       "             <td></td>                <th>coef</th>     <th>std err</th>      <th>z</th>      <th>P>|z|</th>  <th>[0.025</th>    <th>0.975]</th>  \n",
       "</tr>\n",
       "<tr>\n",
       "  <th>const</th>                   <td>   -2.1059</td> <td>    0.263</td> <td>   -8.022</td> <td> 0.000</td> <td>   -2.620</td> <td>   -1.591</td>\n",
       "</tr>\n",
       "<tr>\n",
       "  <th>term</th>                    <td>    0.0231</td> <td>    0.004</td> <td>    6.445</td> <td> 0.000</td> <td>    0.016</td> <td>    0.030</td>\n",
       "</tr>\n",
       "<tr>\n",
       "  <th>int_rate</th>                <td>    0.0449</td> <td>    0.025</td> <td>    1.818</td> <td> 0.069</td> <td>   -0.004</td> <td>    0.093</td>\n",
       "</tr>\n",
       "<tr>\n",
       "  <th>sub_grade</th>               <td>    0.0026</td> <td>    0.012</td> <td>    0.222</td> <td> 0.824</td> <td>   -0.021</td> <td>    0.026</td>\n",
       "</tr>\n",
       "<tr>\n",
       "  <th>emp_length</th>              <td>   -0.0364</td> <td>    0.008</td> <td>   -4.377</td> <td> 0.000</td> <td>   -0.053</td> <td>   -0.020</td>\n",
       "</tr>\n",
       "<tr>\n",
       "  <th>home_ownership</th>          <td>    0.0452</td> <td>    0.016</td> <td>    2.785</td> <td> 0.005</td> <td>    0.013</td> <td>    0.077</td>\n",
       "</tr>\n",
       "<tr>\n",
       "  <th>annual_inc</th>              <td> 9.072e-07</td> <td> 8.07e-07</td> <td>    1.124</td> <td> 0.261</td> <td>-6.74e-07</td> <td> 2.49e-06</td>\n",
       "</tr>\n",
       "<tr>\n",
       "  <th>verification_status</th>     <td>   -0.2432</td> <td>    0.036</td> <td>   -6.678</td> <td> 0.000</td> <td>   -0.315</td> <td>   -0.172</td>\n",
       "</tr>\n",
       "<tr>\n",
       "  <th>purpose</th>                 <td>    0.0650</td> <td>    0.008</td> <td>    8.106</td> <td> 0.000</td> <td>    0.049</td> <td>    0.081</td>\n",
       "</tr>\n",
       "<tr>\n",
       "  <th>addr_state</th>              <td>    0.0070</td> <td>    0.002</td> <td>    3.620</td> <td> 0.000</td> <td>    0.003</td> <td>    0.011</td>\n",
       "</tr>\n",
       "<tr>\n",
       "  <th>dti</th>                     <td>   -0.0143</td> <td>    0.005</td> <td>   -3.034</td> <td> 0.002</td> <td>   -0.024</td> <td>   -0.005</td>\n",
       "</tr>\n",
       "<tr>\n",
       "  <th>delinq_2yrs</th>             <td>    0.2292</td> <td>    0.057</td> <td>    4.041</td> <td> 0.000</td> <td>    0.118</td> <td>    0.340</td>\n",
       "</tr>\n",
       "<tr>\n",
       "  <th>inq_last_6mths</th>          <td>   -0.1429</td> <td>    0.017</td> <td>   -8.478</td> <td> 0.000</td> <td>   -0.176</td> <td>   -0.110</td>\n",
       "</tr>\n",
       "<tr>\n",
       "  <th>mths_since_last_delinq</th>  <td>    0.0065</td> <td>    0.002</td> <td>    2.961</td> <td> 0.003</td> <td>    0.002</td> <td>    0.011</td>\n",
       "</tr>\n",
       "<tr>\n",
       "  <th>open_acc</th>                <td>    0.0341</td> <td>    0.009</td> <td>    3.879</td> <td> 0.000</td> <td>    0.017</td> <td>    0.051</td>\n",
       "</tr>\n",
       "<tr>\n",
       "  <th>revol_bal</th>               <td>-1.805e-05</td> <td> 1.64e-06</td> <td>  -11.022</td> <td> 0.000</td> <td>-2.13e-05</td> <td>-1.48e-05</td>\n",
       "</tr>\n",
       "<tr>\n",
       "  <th>revol_util</th>              <td>   -0.0011</td> <td>    0.001</td> <td>   -0.919</td> <td> 0.358</td> <td>   -0.003</td> <td>    0.001</td>\n",
       "</tr>\n",
       "<tr>\n",
       "  <th>total_acc</th>               <td>   -0.0473</td> <td>    0.004</td> <td>  -12.783</td> <td> 0.000</td> <td>   -0.055</td> <td>   -0.040</td>\n",
       "</tr>\n",
       "<tr>\n",
       "  <th>total_rec_prncp</th>         <td>    0.0011</td> <td> 2.25e-05</td> <td>   49.953</td> <td> 0.000</td> <td>    0.001</td> <td>    0.001</td>\n",
       "</tr>\n",
       "<tr>\n",
       "  <th>total_rec_int</th>           <td>   -0.0018</td> <td> 4.27e-05</td> <td>  -41.098</td> <td> 0.000</td> <td>   -0.002</td> <td>   -0.002</td>\n",
       "</tr>\n",
       "<tr>\n",
       "  <th>total_rec_late_fee</th>      <td>   -0.0232</td> <td>    0.004</td> <td>   -6.443</td> <td> 0.000</td> <td>   -0.030</td> <td>   -0.016</td>\n",
       "</tr>\n",
       "<tr>\n",
       "  <th>collection_recovery_fee</th> <td>-1.464e+04</td> <td> 1250.586</td> <td>  -11.706</td> <td> 0.000</td> <td>-1.71e+04</td> <td>-1.22e+04</td>\n",
       "</tr>\n",
       "<tr>\n",
       "  <th>last_pymnt_amnt</th>         <td>    0.0009</td> <td> 6.47e-05</td> <td>   14.487</td> <td> 0.000</td> <td>    0.001</td> <td>    0.001</td>\n",
       "</tr>\n",
       "<tr>\n",
       "  <th>acc_now_delinq</th>          <td>   35.9238</td> <td> 6.71e+07</td> <td> 5.35e-07</td> <td> 1.000</td> <td>-1.32e+08</td> <td> 1.32e+08</td>\n",
       "</tr>\n",
       "<tr>\n",
       "  <th>delinq_amnt</th>             <td>   -0.0008</td> <td> 1.57e+04</td> <td>-5.36e-08</td> <td> 1.000</td> <td>-3.07e+04</td> <td> 3.07e+04</td>\n",
       "</tr>\n",
       "<tr>\n",
       "  <th>pub_rec_bankruptcies</th>    <td>   -0.4177</td> <td>    0.111</td> <td>   -3.772</td> <td> 0.000</td> <td>   -0.635</td> <td>   -0.201</td>\n",
       "</tr>\n",
       "<tr>\n",
       "  <th>tax_liens</th>               <td>  1.01e+05</td> <td> 3.24e+04</td> <td>    3.117</td> <td> 0.002</td> <td> 3.75e+04</td> <td> 1.65e+05</td>\n",
       "</tr>\n",
       "<tr>\n",
       "  <th>debt_settlement_flag</th>    <td> -774.0405</td> <td> 1.31e+05</td> <td>   -0.006</td> <td> 0.995</td> <td>-2.58e+05</td> <td> 2.56e+05</td>\n",
       "</tr>\n",
       "</table>"
      ],
      "text/plain": [
       "<class 'statsmodels.iolib.summary.Summary'>\n",
       "\"\"\"\n",
       "                 Generalized Linear Model Regression Results                  \n",
       "==============================================================================\n",
       "Dep. Variable:                      y   No. Observations:                50582\n",
       "Model:                            GLM   Df Residuals:                    50555\n",
       "Model Family:                Binomial   Df Model:                           26\n",
       "Link Function:                  logit   Scale:                          1.0000\n",
       "Method:                          IRLS   Log-Likelihood:                    nan\n",
       "Date:                Wed, 24 Jul 2019   Deviance:                          nan\n",
       "Time:                        14:12:54   Pearson chi2:                 3.31e+07\n",
       "No. Iterations:                   100                                         \n",
       "Covariance Type:            nonrobust                                         \n",
       "===========================================================================================\n",
       "                              coef    std err          z      P>|z|      [0.025      0.975]\n",
       "-------------------------------------------------------------------------------------------\n",
       "const                      -2.1059      0.263     -8.022      0.000      -2.620      -1.591\n",
       "term                        0.0231      0.004      6.445      0.000       0.016       0.030\n",
       "int_rate                    0.0449      0.025      1.818      0.069      -0.004       0.093\n",
       "sub_grade                   0.0026      0.012      0.222      0.824      -0.021       0.026\n",
       "emp_length                 -0.0364      0.008     -4.377      0.000      -0.053      -0.020\n",
       "home_ownership              0.0452      0.016      2.785      0.005       0.013       0.077\n",
       "annual_inc               9.072e-07   8.07e-07      1.124      0.261   -6.74e-07    2.49e-06\n",
       "verification_status        -0.2432      0.036     -6.678      0.000      -0.315      -0.172\n",
       "purpose                     0.0650      0.008      8.106      0.000       0.049       0.081\n",
       "addr_state                  0.0070      0.002      3.620      0.000       0.003       0.011\n",
       "dti                        -0.0143      0.005     -3.034      0.002      -0.024      -0.005\n",
       "delinq_2yrs                 0.2292      0.057      4.041      0.000       0.118       0.340\n",
       "inq_last_6mths             -0.1429      0.017     -8.478      0.000      -0.176      -0.110\n",
       "mths_since_last_delinq      0.0065      0.002      2.961      0.003       0.002       0.011\n",
       "open_acc                    0.0341      0.009      3.879      0.000       0.017       0.051\n",
       "revol_bal               -1.805e-05   1.64e-06    -11.022      0.000   -2.13e-05   -1.48e-05\n",
       "revol_util                 -0.0011      0.001     -0.919      0.358      -0.003       0.001\n",
       "total_acc                  -0.0473      0.004    -12.783      0.000      -0.055      -0.040\n",
       "total_rec_prncp             0.0011   2.25e-05     49.953      0.000       0.001       0.001\n",
       "total_rec_int              -0.0018   4.27e-05    -41.098      0.000      -0.002      -0.002\n",
       "total_rec_late_fee         -0.0232      0.004     -6.443      0.000      -0.030      -0.016\n",
       "collection_recovery_fee -1.464e+04   1250.586    -11.706      0.000   -1.71e+04   -1.22e+04\n",
       "last_pymnt_amnt             0.0009   6.47e-05     14.487      0.000       0.001       0.001\n",
       "acc_now_delinq             35.9238   6.71e+07   5.35e-07      1.000   -1.32e+08    1.32e+08\n",
       "delinq_amnt                -0.0008   1.57e+04  -5.36e-08      1.000   -3.07e+04    3.07e+04\n",
       "pub_rec_bankruptcies       -0.4177      0.111     -3.772      0.000      -0.635      -0.201\n",
       "tax_liens                 1.01e+05   3.24e+04      3.117      0.002    3.75e+04    1.65e+05\n",
       "debt_settlement_flag     -774.0405   1.31e+05     -0.006      0.995   -2.58e+05    2.56e+05\n",
       "===========================================================================================\n",
       "\"\"\""
      ]
     },
     "execution_count": 171,
     "metadata": {},
     "output_type": "execute_result"
    }
   ],
   "source": [
    "#Creating a first statsmodel \n",
    "import statsmodels.api as sm\n",
    "# Logistic regression model\n",
    "logm1 = sm.GLM(y_train_res,(sm.add_constant(X_train)), family = sm.families.Binomial(),random_state=100)\n",
    "logm1.fit().summary()"
   ]
  },
  {
   "cell_type": "code",
   "execution_count": 172,
   "metadata": {
    "collapsed": true
   },
   "outputs": [],
   "source": [
    "# Calculating Vif value|\n",
    "# UDF for calculating vif value\n",
    "def vif_cal(input_data, dependent_col):\n",
    "    vif_df = pd.DataFrame( columns = ['Var', 'Vif'])\n",
    "    x_vars=input_data.drop([dependent_col], axis=1)\n",
    "    xvar_names=x_vars.columns\n",
    "    for i in range(0,xvar_names.shape[0]):\n",
    "        y=x_vars[xvar_names[i]].astype(float) \n",
    "        x=x_vars[xvar_names.drop(xvar_names[i])].astype(float)\n",
    "        rsq=sm.OLS(y,x).fit().rsquared  \n",
    "        vif=round(1/(1-rsq),2)\n",
    "        vif_df.loc[i] = [xvar_names[i], vif]\n",
    "    return vif_df.sort_values(by = 'Vif', axis=0, ascending=False, inplace=False)"
   ]
  },
  {
   "cell_type": "code",
   "execution_count": 173,
   "metadata": {},
   "outputs": [
    {
     "data": {
      "text/html": [
       "<div>\n",
       "<style scoped>\n",
       "    .dataframe tbody tr th:only-of-type {\n",
       "        vertical-align: middle;\n",
       "    }\n",
       "\n",
       "    .dataframe tbody tr th {\n",
       "        vertical-align: top;\n",
       "    }\n",
       "\n",
       "    .dataframe thead th {\n",
       "        text-align: right;\n",
       "    }\n",
       "</style>\n",
       "<table border=\"1\" class=\"dataframe\">\n",
       "  <thead>\n",
       "    <tr style=\"text-align: right;\">\n",
       "      <th></th>\n",
       "      <th>Var</th>\n",
       "      <th>Vif</th>\n",
       "    </tr>\n",
       "  </thead>\n",
       "  <tbody>\n",
       "    <tr>\n",
       "      <th>1</th>\n",
       "      <td>int_rate</td>\n",
       "      <td>92.81</td>\n",
       "    </tr>\n",
       "    <tr>\n",
       "      <th>2</th>\n",
       "      <td>sub_grade</td>\n",
       "      <td>25.43</td>\n",
       "    </tr>\n",
       "    <tr>\n",
       "      <th>0</th>\n",
       "      <td>term</td>\n",
       "      <td>23.58</td>\n",
       "    </tr>\n",
       "    <tr>\n",
       "      <th>13</th>\n",
       "      <td>open_acc</td>\n",
       "      <td>11.14</td>\n",
       "    </tr>\n",
       "    <tr>\n",
       "      <th>16</th>\n",
       "      <td>total_acc</td>\n",
       "      <td>10.68</td>\n",
       "    </tr>\n",
       "    <tr>\n",
       "      <th>17</th>\n",
       "      <td>total_rec_prncp</td>\n",
       "      <td>10.16</td>\n",
       "    </tr>\n",
       "    <tr>\n",
       "      <th>12</th>\n",
       "      <td>mths_since_last_delinq</td>\n",
       "      <td>9.67</td>\n",
       "    </tr>\n",
       "    <tr>\n",
       "      <th>15</th>\n",
       "      <td>revol_util</td>\n",
       "      <td>6.53</td>\n",
       "    </tr>\n",
       "    <tr>\n",
       "      <th>9</th>\n",
       "      <td>dti</td>\n",
       "      <td>6.47</td>\n",
       "    </tr>\n",
       "    <tr>\n",
       "      <th>18</th>\n",
       "      <td>total_rec_int</td>\n",
       "      <td>6.29</td>\n",
       "    </tr>\n",
       "    <tr>\n",
       "      <th>3</th>\n",
       "      <td>emp_length</td>\n",
       "      <td>3.25</td>\n",
       "    </tr>\n",
       "    <tr>\n",
       "      <th>8</th>\n",
       "      <td>addr_state</td>\n",
       "      <td>3.13</td>\n",
       "    </tr>\n",
       "    <tr>\n",
       "      <th>5</th>\n",
       "      <td>annual_inc</td>\n",
       "      <td>2.67</td>\n",
       "    </tr>\n",
       "    <tr>\n",
       "      <th>4</th>\n",
       "      <td>home_ownership</td>\n",
       "      <td>2.62</td>\n",
       "    </tr>\n",
       "    <tr>\n",
       "      <th>6</th>\n",
       "      <td>verification_status</td>\n",
       "      <td>2.45</td>\n",
       "    </tr>\n",
       "    <tr>\n",
       "      <th>7</th>\n",
       "      <td>purpose</td>\n",
       "      <td>2.37</td>\n",
       "    </tr>\n",
       "    <tr>\n",
       "      <th>21</th>\n",
       "      <td>last_pymnt_amnt</td>\n",
       "      <td>2.37</td>\n",
       "    </tr>\n",
       "    <tr>\n",
       "      <th>14</th>\n",
       "      <td>revol_bal</td>\n",
       "      <td>1.86</td>\n",
       "    </tr>\n",
       "    <tr>\n",
       "      <th>11</th>\n",
       "      <td>inq_last_6mths</td>\n",
       "      <td>1.70</td>\n",
       "    </tr>\n",
       "    <tr>\n",
       "      <th>10</th>\n",
       "      <td>delinq_2yrs</td>\n",
       "      <td>1.53</td>\n",
       "    </tr>\n",
       "    <tr>\n",
       "      <th>23</th>\n",
       "      <td>delinq_amnt</td>\n",
       "      <td>1.36</td>\n",
       "    </tr>\n",
       "    <tr>\n",
       "      <th>22</th>\n",
       "      <td>acc_now_delinq</td>\n",
       "      <td>1.34</td>\n",
       "    </tr>\n",
       "    <tr>\n",
       "      <th>19</th>\n",
       "      <td>total_rec_late_fee</td>\n",
       "      <td>1.07</td>\n",
       "    </tr>\n",
       "    <tr>\n",
       "      <th>20</th>\n",
       "      <td>collection_recovery_fee</td>\n",
       "      <td>1.07</td>\n",
       "    </tr>\n",
       "    <tr>\n",
       "      <th>24</th>\n",
       "      <td>pub_rec_bankruptcies</td>\n",
       "      <td>1.07</td>\n",
       "    </tr>\n",
       "    <tr>\n",
       "      <th>26</th>\n",
       "      <td>debt_settlement_flag</td>\n",
       "      <td>1.05</td>\n",
       "    </tr>\n",
       "    <tr>\n",
       "      <th>25</th>\n",
       "      <td>tax_liens</td>\n",
       "      <td>1.00</td>\n",
       "    </tr>\n",
       "  </tbody>\n",
       "</table>\n",
       "</div>"
      ],
      "text/plain": [
       "                        Var    Vif\n",
       "1                  int_rate  92.81\n",
       "2                 sub_grade  25.43\n",
       "0                      term  23.58\n",
       "13                 open_acc  11.14\n",
       "16                total_acc  10.68\n",
       "17          total_rec_prncp  10.16\n",
       "12   mths_since_last_delinq   9.67\n",
       "15               revol_util   6.53\n",
       "9                       dti   6.47\n",
       "18            total_rec_int   6.29\n",
       "3                emp_length   3.25\n",
       "8                addr_state   3.13\n",
       "5                annual_inc   2.67\n",
       "4            home_ownership   2.62\n",
       "6       verification_status   2.45\n",
       "7                   purpose   2.37\n",
       "21          last_pymnt_amnt   2.37\n",
       "14                revol_bal   1.86\n",
       "11           inq_last_6mths   1.70\n",
       "10              delinq_2yrs   1.53\n",
       "23              delinq_amnt   1.36\n",
       "22           acc_now_delinq   1.34\n",
       "19       total_rec_late_fee   1.07\n",
       "20  collection_recovery_fee   1.07\n",
       "24     pub_rec_bankruptcies   1.07\n",
       "26     debt_settlement_flag   1.05\n",
       "25                tax_liens   1.00"
      ]
     },
     "execution_count": 173,
     "metadata": {},
     "output_type": "execute_result"
    }
   ],
   "source": [
    "vif_cal(data1,'loan_status')"
   ]
  },
  {
   "cell_type": "code",
   "execution_count": 174,
   "metadata": {
    "collapsed": true
   },
   "outputs": [],
   "source": [
    "#Dropping columns having high vif and p value\n",
    "# Dropping highly correlated variables and insignificant variables\n",
    "X_train = X_train.drop(['int_rate','sub_grade'],1)"
   ]
  },
  {
   "cell_type": "code",
   "execution_count": 175,
   "metadata": {},
   "outputs": [
    {
     "data": {
      "text/html": [
       "<table class=\"simpletable\">\n",
       "<caption>Generalized Linear Model Regression Results</caption>\n",
       "<tr>\n",
       "  <th>Dep. Variable:</th>           <td>y</td>        <th>  No. Observations:  </th>  <td> 50582</td> \n",
       "</tr>\n",
       "<tr>\n",
       "  <th>Model:</th>                  <td>GLM</td>       <th>  Df Residuals:      </th>  <td> 50557</td> \n",
       "</tr>\n",
       "<tr>\n",
       "  <th>Model Family:</th>        <td>Binomial</td>     <th>  Df Model:          </th>  <td>    24</td> \n",
       "</tr>\n",
       "<tr>\n",
       "  <th>Link Function:</th>         <td>logit</td>      <th>  Scale:             </th> <td>  1.0000</td>\n",
       "</tr>\n",
       "<tr>\n",
       "  <th>Method:</th>                <td>IRLS</td>       <th>  Log-Likelihood:    </th> <td>     nan</td>\n",
       "</tr>\n",
       "<tr>\n",
       "  <th>Date:</th>            <td>Wed, 24 Jul 2019</td> <th>  Deviance:          </th> <td>     nan</td>\n",
       "</tr>\n",
       "<tr>\n",
       "  <th>Time:</th>                <td>14:13:06</td>     <th>  Pearson chi2:      </th> <td>3.33e+07</td>\n",
       "</tr>\n",
       "<tr>\n",
       "  <th>No. Iterations:</th>         <td>100</td>       <th>                     </th>     <td> </td>   \n",
       "</tr>\n",
       "<tr>\n",
       "  <th>Covariance Type:</th>     <td>nonrobust</td>    <th>                     </th>     <td> </td>   \n",
       "</tr>\n",
       "</table>\n",
       "<table class=\"simpletable\">\n",
       "<tr>\n",
       "             <td></td>                <th>coef</th>     <th>std err</th>      <th>z</th>      <th>P>|z|</th>  <th>[0.025</th>    <th>0.975]</th>  \n",
       "</tr>\n",
       "<tr>\n",
       "  <th>const</th>                   <td>   -1.8001</td> <td>    0.217</td> <td>   -8.290</td> <td> 0.000</td> <td>   -2.226</td> <td>   -1.375</td>\n",
       "</tr>\n",
       "<tr>\n",
       "  <th>term</th>                    <td>    0.0259</td> <td>    0.004</td> <td>    7.403</td> <td> 0.000</td> <td>    0.019</td> <td>    0.033</td>\n",
       "</tr>\n",
       "<tr>\n",
       "  <th>emp_length</th>              <td>   -0.0384</td> <td>    0.008</td> <td>   -4.620</td> <td> 0.000</td> <td>   -0.055</td> <td>   -0.022</td>\n",
       "</tr>\n",
       "<tr>\n",
       "  <th>home_ownership</th>          <td>    0.0519</td> <td>    0.016</td> <td>    3.218</td> <td> 0.001</td> <td>    0.020</td> <td>    0.084</td>\n",
       "</tr>\n",
       "<tr>\n",
       "  <th>annual_inc</th>              <td> 1.099e-06</td> <td> 8.12e-07</td> <td>    1.353</td> <td> 0.176</td> <td>-4.93e-07</td> <td> 2.69e-06</td>\n",
       "</tr>\n",
       "<tr>\n",
       "  <th>verification_status</th>     <td>   -0.2354</td> <td>    0.036</td> <td>   -6.500</td> <td> 0.000</td> <td>   -0.306</td> <td>   -0.164</td>\n",
       "</tr>\n",
       "<tr>\n",
       "  <th>purpose</th>                 <td>    0.0655</td> <td>    0.008</td> <td>    8.179</td> <td> 0.000</td> <td>    0.050</td> <td>    0.081</td>\n",
       "</tr>\n",
       "<tr>\n",
       "  <th>addr_state</th>              <td>    0.0069</td> <td>    0.002</td> <td>    3.589</td> <td> 0.000</td> <td>    0.003</td> <td>    0.011</td>\n",
       "</tr>\n",
       "<tr>\n",
       "  <th>dti</th>                     <td>   -0.0151</td> <td>    0.005</td> <td>   -3.208</td> <td> 0.001</td> <td>   -0.024</td> <td>   -0.006</td>\n",
       "</tr>\n",
       "<tr>\n",
       "  <th>delinq_2yrs</th>             <td>    0.2782</td> <td>    0.056</td> <td>    4.976</td> <td> 0.000</td> <td>    0.169</td> <td>    0.388</td>\n",
       "</tr>\n",
       "<tr>\n",
       "  <th>inq_last_6mths</th>          <td>   -0.1223</td> <td>    0.016</td> <td>   -7.849</td> <td> 0.000</td> <td>   -0.153</td> <td>   -0.092</td>\n",
       "</tr>\n",
       "<tr>\n",
       "  <th>mths_since_last_delinq</th>  <td>    0.0067</td> <td>    0.002</td> <td>    3.100</td> <td> 0.002</td> <td>    0.002</td> <td>    0.011</td>\n",
       "</tr>\n",
       "<tr>\n",
       "  <th>open_acc</th>                <td>    0.0398</td> <td>    0.009</td> <td>    4.590</td> <td> 0.000</td> <td>    0.023</td> <td>    0.057</td>\n",
       "</tr>\n",
       "<tr>\n",
       "  <th>revol_bal</th>               <td>-1.832e-05</td> <td> 1.64e-06</td> <td>  -11.155</td> <td> 0.000</td> <td>-2.15e-05</td> <td>-1.51e-05</td>\n",
       "</tr>\n",
       "<tr>\n",
       "  <th>revol_util</th>              <td>    0.0012</td> <td>    0.001</td> <td>    1.079</td> <td> 0.281</td> <td>   -0.001</td> <td>    0.003</td>\n",
       "</tr>\n",
       "<tr>\n",
       "  <th>total_acc</th>               <td>   -0.0505</td> <td>    0.004</td> <td>  -13.947</td> <td> 0.000</td> <td>   -0.058</td> <td>   -0.043</td>\n",
       "</tr>\n",
       "<tr>\n",
       "  <th>total_rec_prncp</th>         <td>    0.0011</td> <td> 2.17e-05</td> <td>   50.646</td> <td> 0.000</td> <td>    0.001</td> <td>    0.001</td>\n",
       "</tr>\n",
       "<tr>\n",
       "  <th>total_rec_int</th>           <td>   -0.0017</td> <td> 3.98e-05</td> <td>  -42.535</td> <td> 0.000</td> <td>   -0.002</td> <td>   -0.002</td>\n",
       "</tr>\n",
       "<tr>\n",
       "  <th>total_rec_late_fee</th>      <td>   -0.0227</td> <td>    0.004</td> <td>   -6.377</td> <td> 0.000</td> <td>   -0.030</td> <td>   -0.016</td>\n",
       "</tr>\n",
       "<tr>\n",
       "  <th>collection_recovery_fee</th> <td>-1.475e+04</td> <td> 1250.539</td> <td>  -11.795</td> <td> 0.000</td> <td>-1.72e+04</td> <td>-1.23e+04</td>\n",
       "</tr>\n",
       "<tr>\n",
       "  <th>last_pymnt_amnt</th>         <td>    0.0010</td> <td> 6.48e-05</td> <td>   14.760</td> <td> 0.000</td> <td>    0.001</td> <td>    0.001</td>\n",
       "</tr>\n",
       "<tr>\n",
       "  <th>acc_now_delinq</th>          <td>   35.9600</td> <td> 6.71e+07</td> <td> 5.36e-07</td> <td> 1.000</td> <td>-1.32e+08</td> <td> 1.32e+08</td>\n",
       "</tr>\n",
       "<tr>\n",
       "  <th>delinq_amnt</th>             <td>   -0.0005</td> <td> 1.57e+04</td> <td>-3.43e-08</td> <td> 1.000</td> <td>-3.07e+04</td> <td> 3.07e+04</td>\n",
       "</tr>\n",
       "<tr>\n",
       "  <th>pub_rec_bankruptcies</th>    <td>   -0.3853</td> <td>    0.110</td> <td>   -3.491</td> <td> 0.000</td> <td>   -0.602</td> <td>   -0.169</td>\n",
       "</tr>\n",
       "<tr>\n",
       "  <th>tax_liens</th>               <td> 1.029e+05</td> <td> 3.22e+04</td> <td>    3.195</td> <td> 0.001</td> <td> 3.98e+04</td> <td> 1.66e+05</td>\n",
       "</tr>\n",
       "<tr>\n",
       "  <th>debt_settlement_flag</th>    <td> -770.7269</td> <td> 1.31e+05</td> <td>   -0.006</td> <td> 0.995</td> <td>-2.57e+05</td> <td> 2.56e+05</td>\n",
       "</tr>\n",
       "</table>"
      ],
      "text/plain": [
       "<class 'statsmodels.iolib.summary.Summary'>\n",
       "\"\"\"\n",
       "                 Generalized Linear Model Regression Results                  \n",
       "==============================================================================\n",
       "Dep. Variable:                      y   No. Observations:                50582\n",
       "Model:                            GLM   Df Residuals:                    50557\n",
       "Model Family:                Binomial   Df Model:                           24\n",
       "Link Function:                  logit   Scale:                          1.0000\n",
       "Method:                          IRLS   Log-Likelihood:                    nan\n",
       "Date:                Wed, 24 Jul 2019   Deviance:                          nan\n",
       "Time:                        14:13:06   Pearson chi2:                 3.33e+07\n",
       "No. Iterations:                   100                                         \n",
       "Covariance Type:            nonrobust                                         \n",
       "===========================================================================================\n",
       "                              coef    std err          z      P>|z|      [0.025      0.975]\n",
       "-------------------------------------------------------------------------------------------\n",
       "const                      -1.8001      0.217     -8.290      0.000      -2.226      -1.375\n",
       "term                        0.0259      0.004      7.403      0.000       0.019       0.033\n",
       "emp_length                 -0.0384      0.008     -4.620      0.000      -0.055      -0.022\n",
       "home_ownership              0.0519      0.016      3.218      0.001       0.020       0.084\n",
       "annual_inc               1.099e-06   8.12e-07      1.353      0.176   -4.93e-07    2.69e-06\n",
       "verification_status        -0.2354      0.036     -6.500      0.000      -0.306      -0.164\n",
       "purpose                     0.0655      0.008      8.179      0.000       0.050       0.081\n",
       "addr_state                  0.0069      0.002      3.589      0.000       0.003       0.011\n",
       "dti                        -0.0151      0.005     -3.208      0.001      -0.024      -0.006\n",
       "delinq_2yrs                 0.2782      0.056      4.976      0.000       0.169       0.388\n",
       "inq_last_6mths             -0.1223      0.016     -7.849      0.000      -0.153      -0.092\n",
       "mths_since_last_delinq      0.0067      0.002      3.100      0.002       0.002       0.011\n",
       "open_acc                    0.0398      0.009      4.590      0.000       0.023       0.057\n",
       "revol_bal               -1.832e-05   1.64e-06    -11.155      0.000   -2.15e-05   -1.51e-05\n",
       "revol_util                  0.0012      0.001      1.079      0.281      -0.001       0.003\n",
       "total_acc                  -0.0505      0.004    -13.947      0.000      -0.058      -0.043\n",
       "total_rec_prncp             0.0011   2.17e-05     50.646      0.000       0.001       0.001\n",
       "total_rec_int              -0.0017   3.98e-05    -42.535      0.000      -0.002      -0.002\n",
       "total_rec_late_fee         -0.0227      0.004     -6.377      0.000      -0.030      -0.016\n",
       "collection_recovery_fee -1.475e+04   1250.539    -11.795      0.000   -1.72e+04   -1.23e+04\n",
       "last_pymnt_amnt             0.0010   6.48e-05     14.760      0.000       0.001       0.001\n",
       "acc_now_delinq             35.9600   6.71e+07   5.36e-07      1.000   -1.32e+08    1.32e+08\n",
       "delinq_amnt                -0.0005   1.57e+04  -3.43e-08      1.000   -3.07e+04    3.07e+04\n",
       "pub_rec_bankruptcies       -0.3853      0.110     -3.491      0.000      -0.602      -0.169\n",
       "tax_liens                1.029e+05   3.22e+04      3.195      0.001    3.98e+04    1.66e+05\n",
       "debt_settlement_flag     -770.7269   1.31e+05     -0.006      0.995   -2.57e+05    2.56e+05\n",
       "===========================================================================================\n",
       "\"\"\""
      ]
     },
     "execution_count": 175,
     "metadata": {},
     "output_type": "execute_result"
    }
   ],
   "source": [
    "# Create a second fitted model\n",
    "import statsmodels.api as sm\n",
    "# Logistic regression model\n",
    "logm2 = sm.GLM(y_train_res,(sm.add_constant(X_train)),family = sm.families.Binomial(),random_state=100)\n",
    "logm2.fit().summary()"
   ]
  },
  {
   "cell_type": "code",
   "execution_count": 176,
   "metadata": {},
   "outputs": [
    {
     "data": {
      "text/html": [
       "<div>\n",
       "<style scoped>\n",
       "    .dataframe tbody tr th:only-of-type {\n",
       "        vertical-align: middle;\n",
       "    }\n",
       "\n",
       "    .dataframe tbody tr th {\n",
       "        vertical-align: top;\n",
       "    }\n",
       "\n",
       "    .dataframe thead th {\n",
       "        text-align: right;\n",
       "    }\n",
       "</style>\n",
       "<table border=\"1\" class=\"dataframe\">\n",
       "  <thead>\n",
       "    <tr style=\"text-align: right;\">\n",
       "      <th></th>\n",
       "      <th>Var</th>\n",
       "      <th>Vif</th>\n",
       "    </tr>\n",
       "  </thead>\n",
       "  <tbody>\n",
       "    <tr>\n",
       "      <th>0</th>\n",
       "      <td>term</td>\n",
       "      <td>16.22</td>\n",
       "    </tr>\n",
       "    <tr>\n",
       "      <th>11</th>\n",
       "      <td>open_acc</td>\n",
       "      <td>10.77</td>\n",
       "    </tr>\n",
       "    <tr>\n",
       "      <th>14</th>\n",
       "      <td>total_acc</td>\n",
       "      <td>10.48</td>\n",
       "    </tr>\n",
       "    <tr>\n",
       "      <th>15</th>\n",
       "      <td>total_rec_prncp</td>\n",
       "      <td>8.98</td>\n",
       "    </tr>\n",
       "    <tr>\n",
       "      <th>10</th>\n",
       "      <td>mths_since_last_delinq</td>\n",
       "      <td>8.79</td>\n",
       "    </tr>\n",
       "    <tr>\n",
       "      <th>7</th>\n",
       "      <td>dti</td>\n",
       "      <td>6.44</td>\n",
       "    </tr>\n",
       "    <tr>\n",
       "      <th>16</th>\n",
       "      <td>total_rec_int</td>\n",
       "      <td>4.87</td>\n",
       "    </tr>\n",
       "    <tr>\n",
       "      <th>13</th>\n",
       "      <td>revol_util</td>\n",
       "      <td>4.81</td>\n",
       "    </tr>\n",
       "    <tr>\n",
       "      <th>1</th>\n",
       "      <td>emp_length</td>\n",
       "      <td>3.22</td>\n",
       "    </tr>\n",
       "    <tr>\n",
       "      <th>6</th>\n",
       "      <td>addr_state</td>\n",
       "      <td>3.09</td>\n",
       "    </tr>\n",
       "    <tr>\n",
       "      <th>3</th>\n",
       "      <td>annual_inc</td>\n",
       "      <td>2.66</td>\n",
       "    </tr>\n",
       "    <tr>\n",
       "      <th>2</th>\n",
       "      <td>home_ownership</td>\n",
       "      <td>2.48</td>\n",
       "    </tr>\n",
       "    <tr>\n",
       "      <th>4</th>\n",
       "      <td>verification_status</td>\n",
       "      <td>2.44</td>\n",
       "    </tr>\n",
       "    <tr>\n",
       "      <th>5</th>\n",
       "      <td>purpose</td>\n",
       "      <td>2.30</td>\n",
       "    </tr>\n",
       "    <tr>\n",
       "      <th>19</th>\n",
       "      <td>last_pymnt_amnt</td>\n",
       "      <td>2.23</td>\n",
       "    </tr>\n",
       "    <tr>\n",
       "      <th>12</th>\n",
       "      <td>revol_bal</td>\n",
       "      <td>1.85</td>\n",
       "    </tr>\n",
       "    <tr>\n",
       "      <th>9</th>\n",
       "      <td>inq_last_6mths</td>\n",
       "      <td>1.54</td>\n",
       "    </tr>\n",
       "    <tr>\n",
       "      <th>8</th>\n",
       "      <td>delinq_2yrs</td>\n",
       "      <td>1.40</td>\n",
       "    </tr>\n",
       "    <tr>\n",
       "      <th>21</th>\n",
       "      <td>delinq_amnt</td>\n",
       "      <td>1.35</td>\n",
       "    </tr>\n",
       "    <tr>\n",
       "      <th>20</th>\n",
       "      <td>acc_now_delinq</td>\n",
       "      <td>1.34</td>\n",
       "    </tr>\n",
       "    <tr>\n",
       "      <th>17</th>\n",
       "      <td>total_rec_late_fee</td>\n",
       "      <td>1.07</td>\n",
       "    </tr>\n",
       "    <tr>\n",
       "      <th>18</th>\n",
       "      <td>collection_recovery_fee</td>\n",
       "      <td>1.07</td>\n",
       "    </tr>\n",
       "    <tr>\n",
       "      <th>22</th>\n",
       "      <td>pub_rec_bankruptcies</td>\n",
       "      <td>1.07</td>\n",
       "    </tr>\n",
       "    <tr>\n",
       "      <th>24</th>\n",
       "      <td>debt_settlement_flag</td>\n",
       "      <td>1.05</td>\n",
       "    </tr>\n",
       "    <tr>\n",
       "      <th>23</th>\n",
       "      <td>tax_liens</td>\n",
       "      <td>1.00</td>\n",
       "    </tr>\n",
       "  </tbody>\n",
       "</table>\n",
       "</div>"
      ],
      "text/plain": [
       "                        Var    Vif\n",
       "0                      term  16.22\n",
       "11                 open_acc  10.77\n",
       "14                total_acc  10.48\n",
       "15          total_rec_prncp   8.98\n",
       "10   mths_since_last_delinq   8.79\n",
       "7                       dti   6.44\n",
       "16            total_rec_int   4.87\n",
       "13               revol_util   4.81\n",
       "1                emp_length   3.22\n",
       "6                addr_state   3.09\n",
       "3                annual_inc   2.66\n",
       "2            home_ownership   2.48\n",
       "4       verification_status   2.44\n",
       "5                   purpose   2.30\n",
       "19          last_pymnt_amnt   2.23\n",
       "12                revol_bal   1.85\n",
       "9            inq_last_6mths   1.54\n",
       "8               delinq_2yrs   1.40\n",
       "21              delinq_amnt   1.35\n",
       "20           acc_now_delinq   1.34\n",
       "17       total_rec_late_fee   1.07\n",
       "18  collection_recovery_fee   1.07\n",
       "22     pub_rec_bankruptcies   1.07\n",
       "24     debt_settlement_flag   1.05\n",
       "23                tax_liens   1.00"
      ]
     },
     "execution_count": 176,
     "metadata": {},
     "output_type": "execute_result"
    }
   ],
   "source": [
    "#Calculating Vif value\n",
    "vif_cal(input_data=data1.drop([\"int_rate\",\"sub_grade\"], axis=1),dependent_col=\"loan_status\")"
   ]
  },
  {
   "cell_type": "code",
   "execution_count": 177,
   "metadata": {
    "collapsed": true
   },
   "outputs": [],
   "source": [
    "#Dropping columns having high vif \n",
    "X_train = X_train.drop(['term','open_acc','total_acc'],1)"
   ]
  },
  {
   "cell_type": "code",
   "execution_count": 178,
   "metadata": {},
   "outputs": [
    {
     "data": {
      "text/html": [
       "<table class=\"simpletable\">\n",
       "<caption>Generalized Linear Model Regression Results</caption>\n",
       "<tr>\n",
       "  <th>Dep. Variable:</th>           <td>y</td>        <th>  No. Observations:  </th>  <td> 50582</td> \n",
       "</tr>\n",
       "<tr>\n",
       "  <th>Model:</th>                  <td>GLM</td>       <th>  Df Residuals:      </th>  <td> 50560</td> \n",
       "</tr>\n",
       "<tr>\n",
       "  <th>Model Family:</th>        <td>Binomial</td>     <th>  Df Model:          </th>  <td>    21</td> \n",
       "</tr>\n",
       "<tr>\n",
       "  <th>Link Function:</th>         <td>logit</td>      <th>  Scale:             </th> <td>  1.0000</td>\n",
       "</tr>\n",
       "<tr>\n",
       "  <th>Method:</th>                <td>IRLS</td>       <th>  Log-Likelihood:    </th> <td>     nan</td>\n",
       "</tr>\n",
       "<tr>\n",
       "  <th>Date:</th>            <td>Wed, 24 Jul 2019</td> <th>  Deviance:          </th> <td>     nan</td>\n",
       "</tr>\n",
       "<tr>\n",
       "  <th>Time:</th>                <td>14:13:16</td>     <th>  Pearson chi2:      </th> <td>1.13e+07</td>\n",
       "</tr>\n",
       "<tr>\n",
       "  <th>No. Iterations:</th>         <td>100</td>       <th>                     </th>     <td> </td>   \n",
       "</tr>\n",
       "<tr>\n",
       "  <th>Covariance Type:</th>     <td>nonrobust</td>    <th>                     </th>     <td> </td>   \n",
       "</tr>\n",
       "</table>\n",
       "<table class=\"simpletable\">\n",
       "<tr>\n",
       "             <td></td>                <th>coef</th>     <th>std err</th>      <th>z</th>      <th>P>|z|</th>  <th>[0.025</th>    <th>0.975]</th>  \n",
       "</tr>\n",
       "<tr>\n",
       "  <th>const</th>                   <td>   -1.0615</td> <td>    0.146</td> <td>   -7.271</td> <td> 0.000</td> <td>   -1.348</td> <td>   -0.775</td>\n",
       "</tr>\n",
       "<tr>\n",
       "  <th>emp_length</th>              <td>   -0.0508</td> <td>    0.008</td> <td>   -6.255</td> <td> 0.000</td> <td>   -0.067</td> <td>   -0.035</td>\n",
       "</tr>\n",
       "<tr>\n",
       "  <th>home_ownership</th>          <td>    0.0960</td> <td>    0.015</td> <td>    6.229</td> <td> 0.000</td> <td>    0.066</td> <td>    0.126</td>\n",
       "</tr>\n",
       "<tr>\n",
       "  <th>annual_inc</th>              <td>-1.297e-06</td> <td> 6.27e-07</td> <td>   -2.068</td> <td> 0.039</td> <td>-2.53e-06</td> <td>-6.76e-08</td>\n",
       "</tr>\n",
       "<tr>\n",
       "  <th>verification_status</th>     <td>   -0.2096</td> <td>    0.035</td> <td>   -5.916</td> <td> 0.000</td> <td>   -0.279</td> <td>   -0.140</td>\n",
       "</tr>\n",
       "<tr>\n",
       "  <th>purpose</th>                 <td>    0.0659</td> <td>    0.008</td> <td>    8.440</td> <td> 0.000</td> <td>    0.051</td> <td>    0.081</td>\n",
       "</tr>\n",
       "<tr>\n",
       "  <th>addr_state</th>              <td>    0.0062</td> <td>    0.002</td> <td>    3.299</td> <td> 0.001</td> <td>    0.003</td> <td>    0.010</td>\n",
       "</tr>\n",
       "<tr>\n",
       "  <th>dti</th>                     <td>   -0.0288</td> <td>    0.004</td> <td>   -6.706</td> <td> 0.000</td> <td>   -0.037</td> <td>   -0.020</td>\n",
       "</tr>\n",
       "<tr>\n",
       "  <th>delinq_2yrs</th>             <td>    0.1678</td> <td>    0.054</td> <td>    3.133</td> <td> 0.002</td> <td>    0.063</td> <td>    0.273</td>\n",
       "</tr>\n",
       "<tr>\n",
       "  <th>inq_last_6mths</th>          <td>   -0.1357</td> <td>    0.015</td> <td>   -8.789</td> <td> 0.000</td> <td>   -0.166</td> <td>   -0.105</td>\n",
       "</tr>\n",
       "<tr>\n",
       "  <th>mths_since_last_delinq</th>  <td>    0.0056</td> <td>    0.002</td> <td>    2.620</td> <td> 0.009</td> <td>    0.001</td> <td>    0.010</td>\n",
       "</tr>\n",
       "<tr>\n",
       "  <th>revol_bal</th>               <td>-2.194e-05</td> <td> 1.57e-06</td> <td>  -13.949</td> <td> 0.000</td> <td> -2.5e-05</td> <td>-1.89e-05</td>\n",
       "</tr>\n",
       "<tr>\n",
       "  <th>revol_util</th>              <td>    0.0024</td> <td>    0.001</td> <td>    2.314</td> <td> 0.021</td> <td>    0.000</td> <td>    0.004</td>\n",
       "</tr>\n",
       "<tr>\n",
       "  <th>total_rec_prncp</th>         <td>    0.0010</td> <td> 1.98e-05</td> <td>   52.612</td> <td> 0.000</td> <td>    0.001</td> <td>    0.001</td>\n",
       "</tr>\n",
       "<tr>\n",
       "  <th>total_rec_int</th>           <td>   -0.0015</td> <td> 3.34e-05</td> <td>  -46.087</td> <td> 0.000</td> <td>   -0.002</td> <td>   -0.001</td>\n",
       "</tr>\n",
       "<tr>\n",
       "  <th>total_rec_late_fee</th>      <td>   -0.0220</td> <td>    0.004</td> <td>   -6.288</td> <td> 0.000</td> <td>   -0.029</td> <td>   -0.015</td>\n",
       "</tr>\n",
       "<tr>\n",
       "  <th>collection_recovery_fee</th> <td>-1.493e+04</td> <td> 1250.589</td> <td>  -11.936</td> <td> 0.000</td> <td>-1.74e+04</td> <td>-1.25e+04</td>\n",
       "</tr>\n",
       "<tr>\n",
       "  <th>last_pymnt_amnt</th>         <td>    0.0009</td> <td> 6.12e-05</td> <td>   14.837</td> <td> 0.000</td> <td>    0.001</td> <td>    0.001</td>\n",
       "</tr>\n",
       "<tr>\n",
       "  <th>acc_now_delinq</th>          <td>   35.8177</td> <td> 6.71e+07</td> <td> 5.34e-07</td> <td> 1.000</td> <td>-1.32e+08</td> <td> 1.32e+08</td>\n",
       "</tr>\n",
       "<tr>\n",
       "  <th>delinq_amnt</th>             <td>   -0.0007</td> <td> 1.57e+04</td> <td>-4.73e-08</td> <td> 1.000</td> <td>-3.07e+04</td> <td> 3.07e+04</td>\n",
       "</tr>\n",
       "<tr>\n",
       "  <th>pub_rec_bankruptcies</th>    <td>   -0.3808</td> <td>    0.109</td> <td>   -3.482</td> <td> 0.000</td> <td>   -0.595</td> <td>   -0.166</td>\n",
       "</tr>\n",
       "<tr>\n",
       "  <th>tax_liens</th>               <td> 1.015e+05</td> <td> 3.35e+04</td> <td>    3.033</td> <td> 0.002</td> <td> 3.59e+04</td> <td> 1.67e+05</td>\n",
       "</tr>\n",
       "<tr>\n",
       "  <th>debt_settlement_flag</th>    <td> -773.7314</td> <td> 1.31e+05</td> <td>   -0.006</td> <td> 0.995</td> <td>-2.57e+05</td> <td> 2.56e+05</td>\n",
       "</tr>\n",
       "</table>"
      ],
      "text/plain": [
       "<class 'statsmodels.iolib.summary.Summary'>\n",
       "\"\"\"\n",
       "                 Generalized Linear Model Regression Results                  \n",
       "==============================================================================\n",
       "Dep. Variable:                      y   No. Observations:                50582\n",
       "Model:                            GLM   Df Residuals:                    50560\n",
       "Model Family:                Binomial   Df Model:                           21\n",
       "Link Function:                  logit   Scale:                          1.0000\n",
       "Method:                          IRLS   Log-Likelihood:                    nan\n",
       "Date:                Wed, 24 Jul 2019   Deviance:                          nan\n",
       "Time:                        14:13:16   Pearson chi2:                 1.13e+07\n",
       "No. Iterations:                   100                                         \n",
       "Covariance Type:            nonrobust                                         \n",
       "===========================================================================================\n",
       "                              coef    std err          z      P>|z|      [0.025      0.975]\n",
       "-------------------------------------------------------------------------------------------\n",
       "const                      -1.0615      0.146     -7.271      0.000      -1.348      -0.775\n",
       "emp_length                 -0.0508      0.008     -6.255      0.000      -0.067      -0.035\n",
       "home_ownership              0.0960      0.015      6.229      0.000       0.066       0.126\n",
       "annual_inc              -1.297e-06   6.27e-07     -2.068      0.039   -2.53e-06   -6.76e-08\n",
       "verification_status        -0.2096      0.035     -5.916      0.000      -0.279      -0.140\n",
       "purpose                     0.0659      0.008      8.440      0.000       0.051       0.081\n",
       "addr_state                  0.0062      0.002      3.299      0.001       0.003       0.010\n",
       "dti                        -0.0288      0.004     -6.706      0.000      -0.037      -0.020\n",
       "delinq_2yrs                 0.1678      0.054      3.133      0.002       0.063       0.273\n",
       "inq_last_6mths             -0.1357      0.015     -8.789      0.000      -0.166      -0.105\n",
       "mths_since_last_delinq      0.0056      0.002      2.620      0.009       0.001       0.010\n",
       "revol_bal               -2.194e-05   1.57e-06    -13.949      0.000    -2.5e-05   -1.89e-05\n",
       "revol_util                  0.0024      0.001      2.314      0.021       0.000       0.004\n",
       "total_rec_prncp             0.0010   1.98e-05     52.612      0.000       0.001       0.001\n",
       "total_rec_int              -0.0015   3.34e-05    -46.087      0.000      -0.002      -0.001\n",
       "total_rec_late_fee         -0.0220      0.004     -6.288      0.000      -0.029      -0.015\n",
       "collection_recovery_fee -1.493e+04   1250.589    -11.936      0.000   -1.74e+04   -1.25e+04\n",
       "last_pymnt_amnt             0.0009   6.12e-05     14.837      0.000       0.001       0.001\n",
       "acc_now_delinq             35.8177   6.71e+07   5.34e-07      1.000   -1.32e+08    1.32e+08\n",
       "delinq_amnt                -0.0007   1.57e+04  -4.73e-08      1.000   -3.07e+04    3.07e+04\n",
       "pub_rec_bankruptcies       -0.3808      0.109     -3.482      0.000      -0.595      -0.166\n",
       "tax_liens                1.015e+05   3.35e+04      3.033      0.002    3.59e+04    1.67e+05\n",
       "debt_settlement_flag     -773.7314   1.31e+05     -0.006      0.995   -2.57e+05    2.56e+05\n",
       "===========================================================================================\n",
       "\"\"\""
      ]
     },
     "execution_count": 178,
     "metadata": {},
     "output_type": "execute_result"
    }
   ],
   "source": [
    "# Create a second fitted model\n",
    "import statsmodels.api as sm\n",
    "# Logistic regression model\n",
    "logm3 = sm.GLM(y_train_res,(sm.add_constant(X_train)), family = sm.families.Binomial())\n",
    "logm3.fit().summary()"
   ]
  },
  {
   "cell_type": "code",
   "execution_count": 179,
   "metadata": {},
   "outputs": [
    {
     "data": {
      "text/html": [
       "<div>\n",
       "<style scoped>\n",
       "    .dataframe tbody tr th:only-of-type {\n",
       "        vertical-align: middle;\n",
       "    }\n",
       "\n",
       "    .dataframe tbody tr th {\n",
       "        vertical-align: top;\n",
       "    }\n",
       "\n",
       "    .dataframe thead th {\n",
       "        text-align: right;\n",
       "    }\n",
       "</style>\n",
       "<table border=\"1\" class=\"dataframe\">\n",
       "  <thead>\n",
       "    <tr style=\"text-align: right;\">\n",
       "      <th></th>\n",
       "      <th>Var</th>\n",
       "      <th>Vif</th>\n",
       "    </tr>\n",
       "  </thead>\n",
       "  <tbody>\n",
       "    <tr>\n",
       "      <th>12</th>\n",
       "      <td>total_rec_prncp</td>\n",
       "      <td>8.58</td>\n",
       "    </tr>\n",
       "    <tr>\n",
       "      <th>9</th>\n",
       "      <td>mths_since_last_delinq</td>\n",
       "      <td>6.99</td>\n",
       "    </tr>\n",
       "    <tr>\n",
       "      <th>6</th>\n",
       "      <td>dti</td>\n",
       "      <td>5.22</td>\n",
       "    </tr>\n",
       "    <tr>\n",
       "      <th>11</th>\n",
       "      <td>revol_util</td>\n",
       "      <td>4.62</td>\n",
       "    </tr>\n",
       "    <tr>\n",
       "      <th>13</th>\n",
       "      <td>total_rec_int</td>\n",
       "      <td>4.12</td>\n",
       "    </tr>\n",
       "    <tr>\n",
       "      <th>0</th>\n",
       "      <td>emp_length</td>\n",
       "      <td>3.03</td>\n",
       "    </tr>\n",
       "    <tr>\n",
       "      <th>5</th>\n",
       "      <td>addr_state</td>\n",
       "      <td>2.95</td>\n",
       "    </tr>\n",
       "    <tr>\n",
       "      <th>2</th>\n",
       "      <td>annual_inc</td>\n",
       "      <td>2.53</td>\n",
       "    </tr>\n",
       "    <tr>\n",
       "      <th>3</th>\n",
       "      <td>verification_status</td>\n",
       "      <td>2.40</td>\n",
       "    </tr>\n",
       "    <tr>\n",
       "      <th>1</th>\n",
       "      <td>home_ownership</td>\n",
       "      <td>2.28</td>\n",
       "    </tr>\n",
       "    <tr>\n",
       "      <th>4</th>\n",
       "      <td>purpose</td>\n",
       "      <td>2.19</td>\n",
       "    </tr>\n",
       "    <tr>\n",
       "      <th>16</th>\n",
       "      <td>last_pymnt_amnt</td>\n",
       "      <td>2.11</td>\n",
       "    </tr>\n",
       "    <tr>\n",
       "      <th>10</th>\n",
       "      <td>revol_bal</td>\n",
       "      <td>1.79</td>\n",
       "    </tr>\n",
       "    <tr>\n",
       "      <th>8</th>\n",
       "      <td>inq_last_6mths</td>\n",
       "      <td>1.50</td>\n",
       "    </tr>\n",
       "    <tr>\n",
       "      <th>18</th>\n",
       "      <td>delinq_amnt</td>\n",
       "      <td>1.35</td>\n",
       "    </tr>\n",
       "    <tr>\n",
       "      <th>17</th>\n",
       "      <td>acc_now_delinq</td>\n",
       "      <td>1.34</td>\n",
       "    </tr>\n",
       "    <tr>\n",
       "      <th>7</th>\n",
       "      <td>delinq_2yrs</td>\n",
       "      <td>1.30</td>\n",
       "    </tr>\n",
       "    <tr>\n",
       "      <th>14</th>\n",
       "      <td>total_rec_late_fee</td>\n",
       "      <td>1.07</td>\n",
       "    </tr>\n",
       "    <tr>\n",
       "      <th>15</th>\n",
       "      <td>collection_recovery_fee</td>\n",
       "      <td>1.07</td>\n",
       "    </tr>\n",
       "    <tr>\n",
       "      <th>19</th>\n",
       "      <td>pub_rec_bankruptcies</td>\n",
       "      <td>1.06</td>\n",
       "    </tr>\n",
       "    <tr>\n",
       "      <th>21</th>\n",
       "      <td>debt_settlement_flag</td>\n",
       "      <td>1.05</td>\n",
       "    </tr>\n",
       "    <tr>\n",
       "      <th>20</th>\n",
       "      <td>tax_liens</td>\n",
       "      <td>1.00</td>\n",
       "    </tr>\n",
       "  </tbody>\n",
       "</table>\n",
       "</div>"
      ],
      "text/plain": [
       "                        Var   Vif\n",
       "12          total_rec_prncp  8.58\n",
       "9    mths_since_last_delinq  6.99\n",
       "6                       dti  5.22\n",
       "11               revol_util  4.62\n",
       "13            total_rec_int  4.12\n",
       "0                emp_length  3.03\n",
       "5                addr_state  2.95\n",
       "2                annual_inc  2.53\n",
       "3       verification_status  2.40\n",
       "1            home_ownership  2.28\n",
       "4                   purpose  2.19\n",
       "16          last_pymnt_amnt  2.11\n",
       "10                revol_bal  1.79\n",
       "8            inq_last_6mths  1.50\n",
       "18              delinq_amnt  1.35\n",
       "17           acc_now_delinq  1.34\n",
       "7               delinq_2yrs  1.30\n",
       "14       total_rec_late_fee  1.07\n",
       "15  collection_recovery_fee  1.07\n",
       "19     pub_rec_bankruptcies  1.06\n",
       "21     debt_settlement_flag  1.05\n",
       "20                tax_liens  1.00"
      ]
     },
     "execution_count": 179,
     "metadata": {},
     "output_type": "execute_result"
    }
   ],
   "source": [
    "# Calculating Vif value\n",
    "vif_cal(input_data=data1.drop([\"int_rate\",\"sub_grade\",\"term\",\"open_acc\",\"total_acc\"], axis=1), dependent_col=\"loan_status\")"
   ]
  },
  {
   "cell_type": "code",
   "execution_count": 180,
   "metadata": {
    "collapsed": true
   },
   "outputs": [],
   "source": [
    "#Dropping features having p values above 0.05\n",
    "X_train = X_train.drop([\"acc_now_delinq\",\"delinq_amnt\",\"debt_settlement_flag\"],1)"
   ]
  },
  {
   "cell_type": "code",
   "execution_count": 181,
   "metadata": {},
   "outputs": [
    {
     "data": {
      "text/html": [
       "<table class=\"simpletable\">\n",
       "<caption>Generalized Linear Model Regression Results</caption>\n",
       "<tr>\n",
       "  <th>Dep. Variable:</th>           <td>y</td>        <th>  No. Observations:  </th>  <td> 50582</td> \n",
       "</tr>\n",
       "<tr>\n",
       "  <th>Model:</th>                  <td>GLM</td>       <th>  Df Residuals:      </th>  <td> 50563</td> \n",
       "</tr>\n",
       "<tr>\n",
       "  <th>Model Family:</th>        <td>Binomial</td>     <th>  Df Model:          </th>  <td>    18</td> \n",
       "</tr>\n",
       "<tr>\n",
       "  <th>Link Function:</th>         <td>logit</td>      <th>  Scale:             </th> <td>  1.0000</td>\n",
       "</tr>\n",
       "<tr>\n",
       "  <th>Method:</th>                <td>IRLS</td>       <th>  Log-Likelihood:    </th> <td>     nan</td>\n",
       "</tr>\n",
       "<tr>\n",
       "  <th>Date:</th>            <td>Wed, 24 Jul 2019</td> <th>  Deviance:          </th> <td>     nan</td>\n",
       "</tr>\n",
       "<tr>\n",
       "  <th>Time:</th>                <td>14:13:25</td>     <th>  Pearson chi2:      </th> <td>7.54e+07</td>\n",
       "</tr>\n",
       "<tr>\n",
       "  <th>No. Iterations:</th>         <td>100</td>       <th>                     </th>     <td> </td>   \n",
       "</tr>\n",
       "<tr>\n",
       "  <th>Covariance Type:</th>     <td>nonrobust</td>    <th>                     </th>     <td> </td>   \n",
       "</tr>\n",
       "</table>\n",
       "<table class=\"simpletable\">\n",
       "<tr>\n",
       "             <td></td>                <th>coef</th>     <th>std err</th>      <th>z</th>      <th>P>|z|</th>  <th>[0.025</th>    <th>0.975]</th>  \n",
       "</tr>\n",
       "<tr>\n",
       "  <th>const</th>                   <td>   -0.8064</td> <td>    0.139</td> <td>   -5.821</td> <td> 0.000</td> <td>   -1.078</td> <td>   -0.535</td>\n",
       "</tr>\n",
       "<tr>\n",
       "  <th>emp_length</th>              <td>   -0.0472</td> <td>    0.008</td> <td>   -6.147</td> <td> 0.000</td> <td>   -0.062</td> <td>   -0.032</td>\n",
       "</tr>\n",
       "<tr>\n",
       "  <th>home_ownership</th>          <td>    0.0944</td> <td>    0.015</td> <td>    6.478</td> <td> 0.000</td> <td>    0.066</td> <td>    0.123</td>\n",
       "</tr>\n",
       "<tr>\n",
       "  <th>annual_inc</th>              <td>-6.348e-07</td> <td> 6.63e-07</td> <td>   -0.958</td> <td> 0.338</td> <td>-1.93e-06</td> <td> 6.65e-07</td>\n",
       "</tr>\n",
       "<tr>\n",
       "  <th>verification_status</th>     <td>   -0.2117</td> <td>    0.033</td> <td>   -6.331</td> <td> 0.000</td> <td>   -0.277</td> <td>   -0.146</td>\n",
       "</tr>\n",
       "<tr>\n",
       "  <th>purpose</th>                 <td>    0.0548</td> <td>    0.007</td> <td>    7.420</td> <td> 0.000</td> <td>    0.040</td> <td>    0.069</td>\n",
       "</tr>\n",
       "<tr>\n",
       "  <th>addr_state</th>              <td>    0.0053</td> <td>    0.002</td> <td>    2.947</td> <td> 0.003</td> <td>    0.002</td> <td>    0.009</td>\n",
       "</tr>\n",
       "<tr>\n",
       "  <th>dti</th>                     <td>   -0.0278</td> <td>    0.004</td> <td>   -6.845</td> <td> 0.000</td> <td>   -0.036</td> <td>   -0.020</td>\n",
       "</tr>\n",
       "<tr>\n",
       "  <th>delinq_2yrs</th>             <td>    0.1709</td> <td>    0.051</td> <td>    3.335</td> <td> 0.001</td> <td>    0.070</td> <td>    0.271</td>\n",
       "</tr>\n",
       "<tr>\n",
       "  <th>inq_last_6mths</th>          <td>   -0.1319</td> <td>    0.015</td> <td>   -8.955</td> <td> 0.000</td> <td>   -0.161</td> <td>   -0.103</td>\n",
       "</tr>\n",
       "<tr>\n",
       "  <th>mths_since_last_delinq</th>  <td>    0.0054</td> <td>    0.002</td> <td>    2.661</td> <td> 0.008</td> <td>    0.001</td> <td>    0.009</td>\n",
       "</tr>\n",
       "<tr>\n",
       "  <th>revol_bal</th>               <td>-2.052e-05</td> <td> 1.49e-06</td> <td>  -13.797</td> <td> 0.000</td> <td>-2.34e-05</td> <td>-1.76e-05</td>\n",
       "</tr>\n",
       "<tr>\n",
       "  <th>revol_util</th>              <td>    0.0025</td> <td>    0.001</td> <td>    2.616</td> <td> 0.009</td> <td>    0.001</td> <td>    0.004</td>\n",
       "</tr>\n",
       "<tr>\n",
       "  <th>total_rec_prncp</th>         <td>    0.0010</td> <td> 1.81e-05</td> <td>   53.913</td> <td> 0.000</td> <td>    0.001</td> <td>    0.001</td>\n",
       "</tr>\n",
       "<tr>\n",
       "  <th>total_rec_int</th>           <td>   -0.0014</td> <td> 3.03e-05</td> <td>  -47.719</td> <td> 0.000</td> <td>   -0.002</td> <td>   -0.001</td>\n",
       "</tr>\n",
       "<tr>\n",
       "  <th>total_rec_late_fee</th>      <td>   -0.0257</td> <td>    0.003</td> <td>   -7.964</td> <td> 0.000</td> <td>   -0.032</td> <td>   -0.019</td>\n",
       "</tr>\n",
       "<tr>\n",
       "  <th>collection_recovery_fee</th> <td>-1.438e+04</td> <td> 1250.728</td> <td>  -11.497</td> <td> 0.000</td> <td>-1.68e+04</td> <td>-1.19e+04</td>\n",
       "</tr>\n",
       "<tr>\n",
       "  <th>last_pymnt_amnt</th>         <td>    0.0004</td> <td> 3.57e-05</td> <td>   10.000</td> <td> 0.000</td> <td>    0.000</td> <td>    0.000</td>\n",
       "</tr>\n",
       "<tr>\n",
       "  <th>pub_rec_bankruptcies</th>    <td>   -0.3770</td> <td>    0.104</td> <td>   -3.638</td> <td> 0.000</td> <td>   -0.580</td> <td>   -0.174</td>\n",
       "</tr>\n",
       "<tr>\n",
       "  <th>tax_liens</th>               <td> 9.335e+04</td> <td> 3.24e+04</td> <td>    2.883</td> <td> 0.004</td> <td> 2.99e+04</td> <td> 1.57e+05</td>\n",
       "</tr>\n",
       "</table>"
      ],
      "text/plain": [
       "<class 'statsmodels.iolib.summary.Summary'>\n",
       "\"\"\"\n",
       "                 Generalized Linear Model Regression Results                  \n",
       "==============================================================================\n",
       "Dep. Variable:                      y   No. Observations:                50582\n",
       "Model:                            GLM   Df Residuals:                    50563\n",
       "Model Family:                Binomial   Df Model:                           18\n",
       "Link Function:                  logit   Scale:                          1.0000\n",
       "Method:                          IRLS   Log-Likelihood:                    nan\n",
       "Date:                Wed, 24 Jul 2019   Deviance:                          nan\n",
       "Time:                        14:13:25   Pearson chi2:                 7.54e+07\n",
       "No. Iterations:                   100                                         \n",
       "Covariance Type:            nonrobust                                         \n",
       "===========================================================================================\n",
       "                              coef    std err          z      P>|z|      [0.025      0.975]\n",
       "-------------------------------------------------------------------------------------------\n",
       "const                      -0.8064      0.139     -5.821      0.000      -1.078      -0.535\n",
       "emp_length                 -0.0472      0.008     -6.147      0.000      -0.062      -0.032\n",
       "home_ownership              0.0944      0.015      6.478      0.000       0.066       0.123\n",
       "annual_inc              -6.348e-07   6.63e-07     -0.958      0.338   -1.93e-06    6.65e-07\n",
       "verification_status        -0.2117      0.033     -6.331      0.000      -0.277      -0.146\n",
       "purpose                     0.0548      0.007      7.420      0.000       0.040       0.069\n",
       "addr_state                  0.0053      0.002      2.947      0.003       0.002       0.009\n",
       "dti                        -0.0278      0.004     -6.845      0.000      -0.036      -0.020\n",
       "delinq_2yrs                 0.1709      0.051      3.335      0.001       0.070       0.271\n",
       "inq_last_6mths             -0.1319      0.015     -8.955      0.000      -0.161      -0.103\n",
       "mths_since_last_delinq      0.0054      0.002      2.661      0.008       0.001       0.009\n",
       "revol_bal               -2.052e-05   1.49e-06    -13.797      0.000   -2.34e-05   -1.76e-05\n",
       "revol_util                  0.0025      0.001      2.616      0.009       0.001       0.004\n",
       "total_rec_prncp             0.0010   1.81e-05     53.913      0.000       0.001       0.001\n",
       "total_rec_int              -0.0014   3.03e-05    -47.719      0.000      -0.002      -0.001\n",
       "total_rec_late_fee         -0.0257      0.003     -7.964      0.000      -0.032      -0.019\n",
       "collection_recovery_fee -1.438e+04   1250.728    -11.497      0.000   -1.68e+04   -1.19e+04\n",
       "last_pymnt_amnt             0.0004   3.57e-05     10.000      0.000       0.000       0.000\n",
       "pub_rec_bankruptcies       -0.3770      0.104     -3.638      0.000      -0.580      -0.174\n",
       "tax_liens                9.335e+04   3.24e+04      2.883      0.004    2.99e+04    1.57e+05\n",
       "===========================================================================================\n",
       "\"\"\""
      ]
     },
     "execution_count": 181,
     "metadata": {},
     "output_type": "execute_result"
    }
   ],
   "source": [
    "# Create a second fitted model\n",
    "import statsmodels.api as sm\n",
    "# Logistic regression model\n",
    "logm4 = sm.GLM(y_train_res,(sm.add_constant(X_train)), family = sm.families.Binomial())\n",
    "logm4.fit().summary()"
   ]
  },
  {
   "cell_type": "code",
   "execution_count": 182,
   "metadata": {},
   "outputs": [
    {
     "data": {
      "text/html": [
       "<div>\n",
       "<style scoped>\n",
       "    .dataframe tbody tr th:only-of-type {\n",
       "        vertical-align: middle;\n",
       "    }\n",
       "\n",
       "    .dataframe tbody tr th {\n",
       "        vertical-align: top;\n",
       "    }\n",
       "\n",
       "    .dataframe thead th {\n",
       "        text-align: right;\n",
       "    }\n",
       "</style>\n",
       "<table border=\"1\" class=\"dataframe\">\n",
       "  <thead>\n",
       "    <tr style=\"text-align: right;\">\n",
       "      <th></th>\n",
       "      <th>Var</th>\n",
       "      <th>Vif</th>\n",
       "    </tr>\n",
       "  </thead>\n",
       "  <tbody>\n",
       "    <tr>\n",
       "      <th>12</th>\n",
       "      <td>total_rec_prncp</td>\n",
       "      <td>8.57</td>\n",
       "    </tr>\n",
       "    <tr>\n",
       "      <th>9</th>\n",
       "      <td>mths_since_last_delinq</td>\n",
       "      <td>6.97</td>\n",
       "    </tr>\n",
       "    <tr>\n",
       "      <th>6</th>\n",
       "      <td>dti</td>\n",
       "      <td>5.22</td>\n",
       "    </tr>\n",
       "    <tr>\n",
       "      <th>11</th>\n",
       "      <td>revol_util</td>\n",
       "      <td>4.62</td>\n",
       "    </tr>\n",
       "    <tr>\n",
       "      <th>13</th>\n",
       "      <td>total_rec_int</td>\n",
       "      <td>4.11</td>\n",
       "    </tr>\n",
       "    <tr>\n",
       "      <th>0</th>\n",
       "      <td>emp_length</td>\n",
       "      <td>3.03</td>\n",
       "    </tr>\n",
       "    <tr>\n",
       "      <th>5</th>\n",
       "      <td>addr_state</td>\n",
       "      <td>2.95</td>\n",
       "    </tr>\n",
       "    <tr>\n",
       "      <th>2</th>\n",
       "      <td>annual_inc</td>\n",
       "      <td>2.53</td>\n",
       "    </tr>\n",
       "    <tr>\n",
       "      <th>3</th>\n",
       "      <td>verification_status</td>\n",
       "      <td>2.40</td>\n",
       "    </tr>\n",
       "    <tr>\n",
       "      <th>1</th>\n",
       "      <td>home_ownership</td>\n",
       "      <td>2.28</td>\n",
       "    </tr>\n",
       "    <tr>\n",
       "      <th>4</th>\n",
       "      <td>purpose</td>\n",
       "      <td>2.19</td>\n",
       "    </tr>\n",
       "    <tr>\n",
       "      <th>16</th>\n",
       "      <td>last_pymnt_amnt</td>\n",
       "      <td>2.11</td>\n",
       "    </tr>\n",
       "    <tr>\n",
       "      <th>10</th>\n",
       "      <td>revol_bal</td>\n",
       "      <td>1.79</td>\n",
       "    </tr>\n",
       "    <tr>\n",
       "      <th>8</th>\n",
       "      <td>inq_last_6mths</td>\n",
       "      <td>1.50</td>\n",
       "    </tr>\n",
       "    <tr>\n",
       "      <th>7</th>\n",
       "      <td>delinq_2yrs</td>\n",
       "      <td>1.28</td>\n",
       "    </tr>\n",
       "    <tr>\n",
       "      <th>14</th>\n",
       "      <td>total_rec_late_fee</td>\n",
       "      <td>1.07</td>\n",
       "    </tr>\n",
       "    <tr>\n",
       "      <th>17</th>\n",
       "      <td>pub_rec_bankruptcies</td>\n",
       "      <td>1.06</td>\n",
       "    </tr>\n",
       "    <tr>\n",
       "      <th>15</th>\n",
       "      <td>collection_recovery_fee</td>\n",
       "      <td>1.03</td>\n",
       "    </tr>\n",
       "    <tr>\n",
       "      <th>18</th>\n",
       "      <td>tax_liens</td>\n",
       "      <td>1.00</td>\n",
       "    </tr>\n",
       "  </tbody>\n",
       "</table>\n",
       "</div>"
      ],
      "text/plain": [
       "                        Var   Vif\n",
       "12          total_rec_prncp  8.57\n",
       "9    mths_since_last_delinq  6.97\n",
       "6                       dti  5.22\n",
       "11               revol_util  4.62\n",
       "13            total_rec_int  4.11\n",
       "0                emp_length  3.03\n",
       "5                addr_state  2.95\n",
       "2                annual_inc  2.53\n",
       "3       verification_status  2.40\n",
       "1            home_ownership  2.28\n",
       "4                   purpose  2.19\n",
       "16          last_pymnt_amnt  2.11\n",
       "10                revol_bal  1.79\n",
       "8            inq_last_6mths  1.50\n",
       "7               delinq_2yrs  1.28\n",
       "14       total_rec_late_fee  1.07\n",
       "17     pub_rec_bankruptcies  1.06\n",
       "15  collection_recovery_fee  1.03\n",
       "18                tax_liens  1.00"
      ]
     },
     "execution_count": 182,
     "metadata": {},
     "output_type": "execute_result"
    }
   ],
   "source": [
    "# Calculating Vif value\n",
    "vif_cal(input_data=data1.drop([\"int_rate\",\"sub_grade\",\"term\",\"open_acc\",\"total_acc\",\"acc_now_delinq\",\"delinq_amnt\",\"debt_settlement_flag\"], axis=1), dependent_col=\"loan_status\")"
   ]
  },
  {
   "cell_type": "code",
   "execution_count": null,
   "metadata": {
    "collapsed": true
   },
   "outputs": [],
   "source": []
  },
  {
   "cell_type": "code",
   "execution_count": 183,
   "metadata": {
    "collapsed": true
   },
   "outputs": [],
   "source": [
    "#Dropping features having p values above 0.05\n",
    "X_train = X_train.drop([\"annual_inc\"],1)"
   ]
  },
  {
   "cell_type": "code",
   "execution_count": 184,
   "metadata": {},
   "outputs": [
    {
     "data": {
      "text/html": [
       "<table class=\"simpletable\">\n",
       "<caption>Generalized Linear Model Regression Results</caption>\n",
       "<tr>\n",
       "  <th>Dep. Variable:</th>           <td>y</td>        <th>  No. Observations:  </th>  <td> 50582</td> \n",
       "</tr>\n",
       "<tr>\n",
       "  <th>Model:</th>                  <td>GLM</td>       <th>  Df Residuals:      </th>  <td> 50563</td> \n",
       "</tr>\n",
       "<tr>\n",
       "  <th>Model Family:</th>        <td>Binomial</td>     <th>  Df Model:          </th>  <td>    18</td> \n",
       "</tr>\n",
       "<tr>\n",
       "  <th>Link Function:</th>         <td>logit</td>      <th>  Scale:             </th> <td>  1.0000</td>\n",
       "</tr>\n",
       "<tr>\n",
       "  <th>Method:</th>                <td>IRLS</td>       <th>  Log-Likelihood:    </th> <td>     nan</td>\n",
       "</tr>\n",
       "<tr>\n",
       "  <th>Date:</th>            <td>Wed, 24 Jul 2019</td> <th>  Deviance:          </th> <td>     nan</td>\n",
       "</tr>\n",
       "<tr>\n",
       "  <th>Time:</th>                <td>14:13:32</td>     <th>  Pearson chi2:      </th> <td>8.02e+07</td>\n",
       "</tr>\n",
       "<tr>\n",
       "  <th>No. Iterations:</th>         <td>100</td>       <th>                     </th>     <td> </td>   \n",
       "</tr>\n",
       "<tr>\n",
       "  <th>Covariance Type:</th>     <td>nonrobust</td>    <th>                     </th>     <td> </td>   \n",
       "</tr>\n",
       "</table>\n",
       "<table class=\"simpletable\">\n",
       "<tr>\n",
       "             <td></td>                <th>coef</th>     <th>std err</th>      <th>z</th>      <th>P>|z|</th>  <th>[0.025</th>    <th>0.975]</th>  \n",
       "</tr>\n",
       "<tr>\n",
       "  <th>const</th>                   <td>   -0.8386</td> <td>    0.134</td> <td>   -6.242</td> <td> 0.000</td> <td>   -1.102</td> <td>   -0.575</td>\n",
       "</tr>\n",
       "<tr>\n",
       "  <th>emp_length</th>              <td>   -0.0478</td> <td>    0.008</td> <td>   -6.247</td> <td> 0.000</td> <td>   -0.063</td> <td>   -0.033</td>\n",
       "</tr>\n",
       "<tr>\n",
       "  <th>home_ownership</th>          <td>    0.0964</td> <td>    0.014</td> <td>    6.689</td> <td> 0.000</td> <td>    0.068</td> <td>    0.125</td>\n",
       "</tr>\n",
       "<tr>\n",
       "  <th>verification_status</th>     <td>   -0.2135</td> <td>    0.033</td> <td>   -6.394</td> <td> 0.000</td> <td>   -0.279</td> <td>   -0.148</td>\n",
       "</tr>\n",
       "<tr>\n",
       "  <th>purpose</th>                 <td>    0.0544</td> <td>    0.007</td> <td>    7.376</td> <td> 0.000</td> <td>    0.040</td> <td>    0.069</td>\n",
       "</tr>\n",
       "<tr>\n",
       "  <th>addr_state</th>              <td>    0.0053</td> <td>    0.002</td> <td>    2.955</td> <td> 0.003</td> <td>    0.002</td> <td>    0.009</td>\n",
       "</tr>\n",
       "<tr>\n",
       "  <th>dti</th>                     <td>   -0.0271</td> <td>    0.004</td> <td>   -6.792</td> <td> 0.000</td> <td>   -0.035</td> <td>   -0.019</td>\n",
       "</tr>\n",
       "<tr>\n",
       "  <th>delinq_2yrs</th>             <td>    0.1684</td> <td>    0.051</td> <td>    3.293</td> <td> 0.001</td> <td>    0.068</td> <td>    0.269</td>\n",
       "</tr>\n",
       "<tr>\n",
       "  <th>inq_last_6mths</th>          <td>   -0.1326</td> <td>    0.015</td> <td>   -9.015</td> <td> 0.000</td> <td>   -0.161</td> <td>   -0.104</td>\n",
       "</tr>\n",
       "<tr>\n",
       "  <th>mths_since_last_delinq</th>  <td>    0.0054</td> <td>    0.002</td> <td>    2.668</td> <td> 0.008</td> <td>    0.001</td> <td>    0.009</td>\n",
       "</tr>\n",
       "<tr>\n",
       "  <th>revol_bal</th>               <td>-2.104e-05</td> <td> 1.39e-06</td> <td>  -15.173</td> <td> 0.000</td> <td>-2.38e-05</td> <td>-1.83e-05</td>\n",
       "</tr>\n",
       "<tr>\n",
       "  <th>revol_util</th>              <td>    0.0025</td> <td>    0.001</td> <td>    2.600</td> <td> 0.009</td> <td>    0.001</td> <td>    0.004</td>\n",
       "</tr>\n",
       "<tr>\n",
       "  <th>total_rec_prncp</th>         <td>    0.0010</td> <td> 1.81e-05</td> <td>   53.953</td> <td> 0.000</td> <td>    0.001</td> <td>    0.001</td>\n",
       "</tr>\n",
       "<tr>\n",
       "  <th>total_rec_int</th>           <td>   -0.0014</td> <td> 3.03e-05</td> <td>  -47.721</td> <td> 0.000</td> <td>   -0.002</td> <td>   -0.001</td>\n",
       "</tr>\n",
       "<tr>\n",
       "  <th>total_rec_late_fee</th>      <td>   -0.0257</td> <td>    0.003</td> <td>   -7.952</td> <td> 0.000</td> <td>   -0.032</td> <td>   -0.019</td>\n",
       "</tr>\n",
       "<tr>\n",
       "  <th>collection_recovery_fee</th> <td>-1.447e+04</td> <td> 1250.696</td> <td>  -11.570</td> <td> 0.000</td> <td>-1.69e+04</td> <td> -1.2e+04</td>\n",
       "</tr>\n",
       "<tr>\n",
       "  <th>last_pymnt_amnt</th>         <td>    0.0004</td> <td> 3.57e-05</td> <td>    9.983</td> <td> 0.000</td> <td>    0.000</td> <td>    0.000</td>\n",
       "</tr>\n",
       "<tr>\n",
       "  <th>pub_rec_bankruptcies</th>    <td>   -0.3781</td> <td>    0.104</td> <td>   -3.650</td> <td> 0.000</td> <td>   -0.581</td> <td>   -0.175</td>\n",
       "</tr>\n",
       "<tr>\n",
       "  <th>tax_liens</th>               <td> 9.366e+04</td> <td> 3.24e+04</td> <td>    2.888</td> <td> 0.004</td> <td> 3.01e+04</td> <td> 1.57e+05</td>\n",
       "</tr>\n",
       "</table>"
      ],
      "text/plain": [
       "<class 'statsmodels.iolib.summary.Summary'>\n",
       "\"\"\"\n",
       "                 Generalized Linear Model Regression Results                  \n",
       "==============================================================================\n",
       "Dep. Variable:                      y   No. Observations:                50582\n",
       "Model:                            GLM   Df Residuals:                    50563\n",
       "Model Family:                Binomial   Df Model:                           18\n",
       "Link Function:                  logit   Scale:                          1.0000\n",
       "Method:                          IRLS   Log-Likelihood:                    nan\n",
       "Date:                Wed, 24 Jul 2019   Deviance:                          nan\n",
       "Time:                        14:13:32   Pearson chi2:                 8.02e+07\n",
       "No. Iterations:                   100                                         \n",
       "Covariance Type:            nonrobust                                         \n",
       "===========================================================================================\n",
       "                              coef    std err          z      P>|z|      [0.025      0.975]\n",
       "-------------------------------------------------------------------------------------------\n",
       "const                      -0.8386      0.134     -6.242      0.000      -1.102      -0.575\n",
       "emp_length                 -0.0478      0.008     -6.247      0.000      -0.063      -0.033\n",
       "home_ownership              0.0964      0.014      6.689      0.000       0.068       0.125\n",
       "verification_status        -0.2135      0.033     -6.394      0.000      -0.279      -0.148\n",
       "purpose                     0.0544      0.007      7.376      0.000       0.040       0.069\n",
       "addr_state                  0.0053      0.002      2.955      0.003       0.002       0.009\n",
       "dti                        -0.0271      0.004     -6.792      0.000      -0.035      -0.019\n",
       "delinq_2yrs                 0.1684      0.051      3.293      0.001       0.068       0.269\n",
       "inq_last_6mths             -0.1326      0.015     -9.015      0.000      -0.161      -0.104\n",
       "mths_since_last_delinq      0.0054      0.002      2.668      0.008       0.001       0.009\n",
       "revol_bal               -2.104e-05   1.39e-06    -15.173      0.000   -2.38e-05   -1.83e-05\n",
       "revol_util                  0.0025      0.001      2.600      0.009       0.001       0.004\n",
       "total_rec_prncp             0.0010   1.81e-05     53.953      0.000       0.001       0.001\n",
       "total_rec_int              -0.0014   3.03e-05    -47.721      0.000      -0.002      -0.001\n",
       "total_rec_late_fee         -0.0257      0.003     -7.952      0.000      -0.032      -0.019\n",
       "collection_recovery_fee -1.447e+04   1250.696    -11.570      0.000   -1.69e+04    -1.2e+04\n",
       "last_pymnt_amnt             0.0004   3.57e-05      9.983      0.000       0.000       0.000\n",
       "pub_rec_bankruptcies       -0.3781      0.104     -3.650      0.000      -0.581      -0.175\n",
       "tax_liens                9.366e+04   3.24e+04      2.888      0.004    3.01e+04    1.57e+05\n",
       "===========================================================================================\n",
       "\"\"\""
      ]
     },
     "execution_count": 184,
     "metadata": {},
     "output_type": "execute_result"
    }
   ],
   "source": [
    "import statsmodels.api as sm\n",
    "# Logistic regression model\n",
    "logm5 = sm.GLM(y_train_res,(sm.add_constant(X_train)), family = sm.families.Binomial())\n",
    "logm5.fit().summary()"
   ]
  },
  {
   "cell_type": "code",
   "execution_count": null,
   "metadata": {
    "collapsed": true
   },
   "outputs": [],
   "source": []
  },
  {
   "cell_type": "code",
   "execution_count": 185,
   "metadata": {},
   "outputs": [
    {
     "data": {
      "text/html": [
       "<div>\n",
       "<style scoped>\n",
       "    .dataframe tbody tr th:only-of-type {\n",
       "        vertical-align: middle;\n",
       "    }\n",
       "\n",
       "    .dataframe tbody tr th {\n",
       "        vertical-align: top;\n",
       "    }\n",
       "\n",
       "    .dataframe thead th {\n",
       "        text-align: right;\n",
       "    }\n",
       "</style>\n",
       "<table border=\"1\" class=\"dataframe\">\n",
       "  <thead>\n",
       "    <tr style=\"text-align: right;\">\n",
       "      <th></th>\n",
       "      <th>Var</th>\n",
       "      <th>Vif</th>\n",
       "    </tr>\n",
       "  </thead>\n",
       "  <tbody>\n",
       "    <tr>\n",
       "      <th>11</th>\n",
       "      <td>total_rec_prncp</td>\n",
       "      <td>8.30</td>\n",
       "    </tr>\n",
       "    <tr>\n",
       "      <th>8</th>\n",
       "      <td>mths_since_last_delinq</td>\n",
       "      <td>6.82</td>\n",
       "    </tr>\n",
       "    <tr>\n",
       "      <th>5</th>\n",
       "      <td>dti</td>\n",
       "      <td>5.13</td>\n",
       "    </tr>\n",
       "    <tr>\n",
       "      <th>10</th>\n",
       "      <td>revol_util</td>\n",
       "      <td>4.60</td>\n",
       "    </tr>\n",
       "    <tr>\n",
       "      <th>12</th>\n",
       "      <td>total_rec_int</td>\n",
       "      <td>4.10</td>\n",
       "    </tr>\n",
       "    <tr>\n",
       "      <th>0</th>\n",
       "      <td>emp_length</td>\n",
       "      <td>3.00</td>\n",
       "    </tr>\n",
       "    <tr>\n",
       "      <th>4</th>\n",
       "      <td>addr_state</td>\n",
       "      <td>2.94</td>\n",
       "    </tr>\n",
       "    <tr>\n",
       "      <th>2</th>\n",
       "      <td>verification_status</td>\n",
       "      <td>2.40</td>\n",
       "    </tr>\n",
       "    <tr>\n",
       "      <th>1</th>\n",
       "      <td>home_ownership</td>\n",
       "      <td>2.28</td>\n",
       "    </tr>\n",
       "    <tr>\n",
       "      <th>3</th>\n",
       "      <td>purpose</td>\n",
       "      <td>2.17</td>\n",
       "    </tr>\n",
       "    <tr>\n",
       "      <th>15</th>\n",
       "      <td>last_pymnt_amnt</td>\n",
       "      <td>2.11</td>\n",
       "    </tr>\n",
       "    <tr>\n",
       "      <th>9</th>\n",
       "      <td>revol_bal</td>\n",
       "      <td>1.69</td>\n",
       "    </tr>\n",
       "    <tr>\n",
       "      <th>7</th>\n",
       "      <td>inq_last_6mths</td>\n",
       "      <td>1.50</td>\n",
       "    </tr>\n",
       "    <tr>\n",
       "      <th>6</th>\n",
       "      <td>delinq_2yrs</td>\n",
       "      <td>1.26</td>\n",
       "    </tr>\n",
       "    <tr>\n",
       "      <th>13</th>\n",
       "      <td>total_rec_late_fee</td>\n",
       "      <td>1.07</td>\n",
       "    </tr>\n",
       "    <tr>\n",
       "      <th>16</th>\n",
       "      <td>pub_rec_bankruptcies</td>\n",
       "      <td>1.06</td>\n",
       "    </tr>\n",
       "    <tr>\n",
       "      <th>14</th>\n",
       "      <td>collection_recovery_fee</td>\n",
       "      <td>1.03</td>\n",
       "    </tr>\n",
       "    <tr>\n",
       "      <th>17</th>\n",
       "      <td>tax_liens</td>\n",
       "      <td>1.00</td>\n",
       "    </tr>\n",
       "  </tbody>\n",
       "</table>\n",
       "</div>"
      ],
      "text/plain": [
       "                        Var   Vif\n",
       "11          total_rec_prncp  8.30\n",
       "8    mths_since_last_delinq  6.82\n",
       "5                       dti  5.13\n",
       "10               revol_util  4.60\n",
       "12            total_rec_int  4.10\n",
       "0                emp_length  3.00\n",
       "4                addr_state  2.94\n",
       "2       verification_status  2.40\n",
       "1            home_ownership  2.28\n",
       "3                   purpose  2.17\n",
       "15          last_pymnt_amnt  2.11\n",
       "9                 revol_bal  1.69\n",
       "7            inq_last_6mths  1.50\n",
       "6               delinq_2yrs  1.26\n",
       "13       total_rec_late_fee  1.07\n",
       "16     pub_rec_bankruptcies  1.06\n",
       "14  collection_recovery_fee  1.03\n",
       "17                tax_liens  1.00"
      ]
     },
     "execution_count": 185,
     "metadata": {},
     "output_type": "execute_result"
    }
   ],
   "source": [
    "# Calculating Vif value\n",
    "vif_cal(input_data=data1.drop([\"annual_inc\",\"int_rate\",\"sub_grade\",\"term\",\"open_acc\",\"total_acc\",\"acc_now_delinq\",\"delinq_amnt\",\"debt_settlement_flag\"], axis=1), dependent_col=\"loan_status\")"
   ]
  },
  {
   "cell_type": "code",
   "execution_count": 186,
   "metadata": {
    "collapsed": true
   },
   "outputs": [],
   "source": [
    "#All the features have VIF below 10 and p values less than 0.05.Multicollinearity problem solved "
   ]
  },
  {
   "cell_type": "code",
   "execution_count": 187,
   "metadata": {
    "collapsed": true
   },
   "outputs": [],
   "source": [
    "col=[\"total_rec_prncp\",\"mths_since_last_delinq\",\"dti\",\"revol_util\",\"total_rec_int\",\"emp_length\",\n",
    "     \"addr_state\",\"verification_status\",\"home_ownership\",\"purpose\",\"last_pymnt_amnt\",\"revol_bal\",\n",
    "     \"inq_last_6mths\",\"delinq_2yrs\",\"total_rec_late_fee\",\"pub_rec_bankruptcies\",\"collection_recovery_fee\",\n",
    "     \"tax_liens\"]"
   ]
  },
  {
   "cell_type": "code",
   "execution_count": null,
   "metadata": {
    "collapsed": true
   },
   "outputs": [],
   "source": []
  },
  {
   "cell_type": "code",
   "execution_count": 188,
   "metadata": {},
   "outputs": [
    {
     "data": {
      "text/plain": [
       "LogisticRegression(C=1.0, class_weight=None, dual=False, fit_intercept=True,\n",
       "                   intercept_scaling=1, l1_ratio=None, max_iter=100,\n",
       "                   multi_class='warn', n_jobs=None, penalty='l2',\n",
       "                   random_state=None, solver='warn', tol=0.0001, verbose=0,\n",
       "                   warm_start=False)"
      ]
     },
     "execution_count": 188,
     "metadata": {},
     "output_type": "execute_result"
    }
   ],
   "source": [
    "# Let's run the model using the selected variables\n",
    "from sklearn.linear_model import LogisticRegression\n",
    "from sklearn import metrics\n",
    "logistic = LogisticRegression()\n",
    "logistic.fit(X_train[col], y_train_res)"
   ]
  },
  {
   "cell_type": "code",
   "execution_count": 189,
   "metadata": {
    "collapsed": true
   },
   "outputs": [],
   "source": [
    "y_prediction = logistic.predict(X_test[col])\n"
   ]
  },
  {
   "cell_type": "code",
   "execution_count": 190,
   "metadata": {},
   "outputs": [
    {
     "name": "stdout",
     "output_type": "stream",
     "text": [
      "accuracy: 0.9368619444008167\n"
     ]
    },
    {
     "data": {
      "text/plain": [
       "array([[ 1811,   178],\n",
       "       [  626, 10119]])"
      ]
     },
     "execution_count": 190,
     "metadata": {},
     "output_type": "execute_result"
    }
   ],
   "source": [
    "# confusion matrix and accuracy\n",
    "# accuracy\n",
    "print(\"accuracy:\", metrics.accuracy_score(y_test,y_prediction))\n",
    "# \n",
    "cm=metrics.confusion_matrix(y_test,y_prediction)\n",
    "cm"
   ]
  },
  {
   "cell_type": "code",
   "execution_count": 191,
   "metadata": {},
   "outputs": [
    {
     "data": {
      "text/html": [
       "<div>\n",
       "<style scoped>\n",
       "    .dataframe tbody tr th:only-of-type {\n",
       "        vertical-align: middle;\n",
       "    }\n",
       "\n",
       "    .dataframe tbody tr th {\n",
       "        vertical-align: top;\n",
       "    }\n",
       "\n",
       "    .dataframe thead th {\n",
       "        text-align: right;\n",
       "    }\n",
       "</style>\n",
       "<table border=\"1\" class=\"dataframe\">\n",
       "  <thead>\n",
       "    <tr style=\"text-align: right;\">\n",
       "      <th>col_0</th>\n",
       "      <th>0</th>\n",
       "      <th>1</th>\n",
       "    </tr>\n",
       "    <tr>\n",
       "      <th>loan_status</th>\n",
       "      <th></th>\n",
       "      <th></th>\n",
       "    </tr>\n",
       "  </thead>\n",
       "  <tbody>\n",
       "    <tr>\n",
       "      <th>0</th>\n",
       "      <td>1811</td>\n",
       "      <td>178</td>\n",
       "    </tr>\n",
       "    <tr>\n",
       "      <th>1</th>\n",
       "      <td>626</td>\n",
       "      <td>10119</td>\n",
       "    </tr>\n",
       "  </tbody>\n",
       "</table>\n",
       "</div>"
      ],
      "text/plain": [
       "col_0           0      1\n",
       "loan_status             \n",
       "0            1811    178\n",
       "1             626  10119"
      ]
     },
     "execution_count": 191,
     "metadata": {},
     "output_type": "execute_result"
    }
   ],
   "source": [
    "pd.crosstab(y_test,y_prediction) #0 charged off, 1 is Fully paid"
   ]
  },
  {
   "cell_type": "code",
   "execution_count": 192,
   "metadata": {},
   "outputs": [
    {
     "data": {
      "text/plain": [
       "array([0.95453198, 0.9586834 , 0.95156188, 0.9491894 , 0.94829972])"
      ]
     },
     "execution_count": 192,
     "metadata": {},
     "output_type": "execute_result"
    }
   ],
   "source": [
    "#Create a KFold object with 5 splits\n",
    "from sklearn.model_selection import cross_val_score\n",
    "from sklearn.model_selection import KFold\n",
    "folds = KFold(n_splits = 5, shuffle = True, random_state = 100)\n",
    "scores = cross_val_score(logistic, X_train,y_train_res, scoring='accuracy', cv=folds)\n",
    "scores  "
   ]
  },
  {
   "cell_type": "code",
   "execution_count": 193,
   "metadata": {},
   "outputs": [
    {
     "name": "stdout",
     "output_type": "stream",
     "text": [
      "              precision    recall  f1-score   support\n",
      "\n",
      "           0       0.74      0.91      0.82      1989\n",
      "           1       0.98      0.94      0.96     10745\n",
      "\n",
      "    accuracy                           0.94     12734\n",
      "   macro avg       0.86      0.93      0.89     12734\n",
      "weighted avg       0.95      0.94      0.94     12734\n",
      "\n"
     ]
    }
   ],
   "source": [
    "from sklearn.metrics import accuracy_score, roc_auc_score, \\\n",
    "                            classification_report, confusion_matrix\n",
    "print(classification_report(y_test, y_prediction))\n"
   ]
  },
  {
   "cell_type": "code",
   "execution_count": 195,
   "metadata": {},
   "outputs": [
    {
     "name": "stdout",
     "output_type": "stream",
     "text": [
      "0.9261240686034707\n"
     ]
    }
   ],
   "source": [
    "from sklearn.metrics import accuracy_score, roc_auc_score, \\\n",
    "                            classification_report, confusion_matrix\n",
    "print(roc_auc_score(y_test, y_prediction))\n"
   ]
  },
  {
   "cell_type": "code",
   "execution_count": 196,
   "metadata": {
    "collapsed": true
   },
   "outputs": [],
   "source": [
    "def draw_roc( actual, probs ):\n",
    "    fpr, tpr, thresholds = metrics.roc_curve( actual, probs,\n",
    "                                              drop_intermediate = False )\n",
    "    auc_score = metrics.roc_auc_score( actual, probs )\n",
    "    plt.figure(figsize=(6, 4))\n",
    "    plt.plot( fpr, tpr, label='ROC curve (area = %0.2f)' % auc_score )\n",
    "    plt.plot([0, 1], [0, 1], 'k--')\n",
    "    plt.xlim([0.0, 1.0])\n",
    "    plt.ylim([0.0, 1.05])\n",
    "    plt.xlabel('False Positive Rate or [1 - True Negative Rate]')\n",
    "    plt.ylabel('True Positive Rate')\n",
    "    plt.title('Receiver operating characteristic example')\n",
    "    plt.legend(loc=\"lower right\")\n",
    "    plt.show()\n",
    "\n",
    "    return fpr, tpr, thresholds"
   ]
  },
  {
   "cell_type": "code",
   "execution_count": 197,
   "metadata": {},
   "outputs": [
    {
     "data": {
      "image/png": "[encoded data removed]",
      "text/plain": [
       "<Figure size 432x288 with 1 Axes>"
      ]
     },
     "metadata": {},
     "output_type": "display_data"
    },
    {
     "data": {
      "text/plain": [
       "(array([0.        , 0.08949221, 1.        ]),\n",
       " array([0.        , 0.94174034, 1.        ]),\n",
       " array([2, 1, 0]))"
      ]
     },
     "execution_count": 197,
     "metadata": {},
     "output_type": "execute_result"
    }
   ],
   "source": [
    "draw_roc(y_test,y_prediction )"
   ]
  },
  {
   "cell_type": "code",
   "execution_count": null,
   "metadata": {
    "collapsed": true
   },
   "outputs": [],
   "source": []
  },
  {
   "cell_type": "code",
   "execution_count": null,
   "metadata": {
    "collapsed": true
   },
   "outputs": [],
   "source": []
  },
  {
   "cell_type": "code",
   "execution_count": 198,
   "metadata": {
    "collapsed": true
   },
   "outputs": [],
   "source": [
    "#Using PCA to get components having maximum variance\n",
    "import numpy as np\n",
    "from sklearn.decomposition import PCA"
   ]
  },
  {
   "cell_type": "code",
   "execution_count": 199,
   "metadata": {},
   "outputs": [
    {
     "data": {
      "image/png": "[encoded data removed]",
      "text/plain": [
       "<Figure size 432x288 with 1 Axes>"
      ]
     },
     "metadata": {},
     "output_type": "display_data"
    }
   ],
   "source": [
    "#Fitting the PCA algorithm with our Data\n",
    "pca = PCA().fit(data1)\n",
    "#Plotting the Cumulative Summation of the Explained Variance\n",
    "plt.figure()\n",
    "plt.plot(np.cumsum(pca.explained_variance_ratio_))\n",
    "plt.xlabel('Number of Components')\n",
    "plt.ylabel('Variance (%)') #for each component\n",
    "plt.title('Dataset Explained Variance')\n",
    "plt.show()"
   ]
  },
  {
   "cell_type": "code",
   "execution_count": 200,
   "metadata": {
    "collapsed": true
   },
   "outputs": [],
   "source": [
    "#Splitting data into train and test splits\n",
    "from sklearn.model_selection import train_test_split\n",
    "# Putting feature variable to X\n",
    "X = data1.drop(['loan_status'],axis=1)\n",
    "\n",
    "# Putting response variable to y\n",
    "y = data1['loan_status']\n"
   ]
  },
  {
   "cell_type": "code",
   "execution_count": 201,
   "metadata": {
    "collapsed": true
   },
   "outputs": [],
   "source": [
    "# Splitting the data into train and test\n",
    "X_train, X_test, y_train, y_test = train_test_split(X,y, train_size=0.7,test_size=0.3,random_state=100)"
   ]
  },
  {
   "cell_type": "code",
   "execution_count": 202,
   "metadata": {
    "collapsed": true
   },
   "outputs": [],
   "source": [
    "dataset1=pca.fit_transform(X)"
   ]
  },
  {
   "cell_type": "code",
   "execution_count": 203,
   "metadata": {},
   "outputs": [
    {
     "data": {
      "text/plain": [
       "LogisticRegression(C=1.0, class_weight='balanced', dual=False,\n",
       "                   fit_intercept=True, intercept_scaling=1, l1_ratio=None,\n",
       "                   max_iter=100, multi_class='warn', n_jobs=None, penalty='l2',\n",
       "                   random_state=None, solver='warn', tol=0.0001, verbose=0,\n",
       "                   warm_start=False)"
      ]
     },
     "execution_count": 203,
     "metadata": {},
     "output_type": "execute_result"
    }
   ],
   "source": [
    "# Logistic regression model\n",
    "# Let's run the model using the selected variables\n",
    "from sklearn.linear_model import LogisticRegression\n",
    "from sklearn import metrics\n",
    "logsk1 = LogisticRegression(class_weight='balanced')\n",
    "logsk1.fit(X_train, y_train)"
   ]
  },
  {
   "cell_type": "code",
   "execution_count": 204,
   "metadata": {
    "collapsed": true
   },
   "outputs": [],
   "source": [
    "y_pred = logsk1.predict(X_test)\n"
   ]
  },
  {
   "cell_type": "code",
   "execution_count": 205,
   "metadata": {},
   "outputs": [
    {
     "name": "stdout",
     "output_type": "stream",
     "text": [
      "accuracy: 0.9433799277524737\n",
      "[[ 1816   137]\n",
      " [  584 10197]]\n"
     ]
    }
   ],
   "source": [
    "# confusion matrix and accuracy\n",
    "\n",
    "# accuracy\n",
    "print(\"accuracy:\", metrics.accuracy_score(y_test,y_pred))\n",
    "\n",
    "# cm\n",
    "print(metrics.confusion_matrix(y_test,y_pred))"
   ]
  },
  {
   "cell_type": "code",
   "execution_count": 206,
   "metadata": {},
   "outputs": [
    {
     "name": "stdout",
     "output_type": "stream",
     "text": [
      "              precision    recall  f1-score   support\n",
      "\n",
      "           0       0.76      0.93      0.83      1953\n",
      "           1       0.99      0.95      0.97     10781\n",
      "\n",
      "    accuracy                           0.94     12734\n",
      "   macro avg       0.87      0.94      0.90     12734\n",
      "weighted avg       0.95      0.94      0.95     12734\n",
      "\n"
     ]
    }
   ],
   "source": [
    "from sklearn.model_selection import GridSearchCV\n",
    "from sklearn.linear_model import LogisticRegression\n",
    "from sklearn.metrics import confusion_matrix, precision_recall_curve, auc, roc_auc_score, roc_curve, recall_score, classification_report\n",
    "y_pred = logsk1.predict(X_test)\n",
    "print(classification_report(y_test, y_pred))\n"
   ]
  },
  {
   "cell_type": "code",
   "execution_count": null,
   "metadata": {
    "collapsed": true
   },
   "outputs": [],
   "source": []
  },
  {
   "cell_type": "code",
   "execution_count": null,
   "metadata": {
    "collapsed": true
   },
   "outputs": [],
   "source": []
  },
  {
   "cell_type": "code",
   "execution_count": null,
   "metadata": {
    "collapsed": true
   },
   "outputs": [],
   "source": []
  },
  {
   "cell_type": "code",
   "execution_count": null,
   "metadata": {
    "collapsed": true
   },
   "outputs": [],
   "source": []
  },
  {
   "cell_type": "code",
   "execution_count": null,
   "metadata": {
    "collapsed": true
   },
   "outputs": [],
   "source": []
  },
  {
   "cell_type": "code",
   "execution_count": null,
   "metadata": {
    "collapsed": true
   },
   "outputs": [],
   "source": []
  },
  {
   "cell_type": "code",
   "execution_count": null,
   "metadata": {
    "collapsed": true
   },
   "outputs": [],
   "source": []
  },
  {
   "cell_type": "code",
   "execution_count": null,
   "metadata": {
    "collapsed": true
   },
   "outputs": [],
   "source": []
  },
  {
   "cell_type": "code",
   "execution_count": null,
   "metadata": {
    "collapsed": true
   },
   "outputs": [],
   "source": []
  },
  {
   "cell_type": "code",
   "execution_count": null,
   "metadata": {
    "collapsed": true
   },
   "outputs": [],
   "source": []
  },
  {
   "cell_type": "code",
   "execution_count": null,
   "metadata": {
    "collapsed": true
   },
   "outputs": [],
   "source": []
  },
  {
   "cell_type": "code",
   "execution_count": null,
   "metadata": {
    "collapsed": true
   },
   "outputs": [],
   "source": []
  },
  {
   "cell_type": "code",
   "execution_count": null,
   "metadata": {
    "collapsed": true
   },
   "outputs": [],
   "source": []
  },
  {
   "cell_type": "code",
   "execution_count": null,
   "metadata": {
    "collapsed": true
   },
   "outputs": [],
   "source": []
  },
  {
   "cell_type": "code",
   "execution_count": null,
   "metadata": {
    "collapsed": true
   },
   "outputs": [],
   "source": []
  }
 ],
 "metadata": {
  "kernelspec": {
   "display_name": "Python 3",
   "language": "python",
   "name": "python3"
  },
  "language_info": {
   "codemirror_mode": {
    "name": "ipython",
    "version": 3
   },
   "file_extension": ".py",
   "mimetype": "text/x-python",
   "name": "python",
   "nbconvert_exporter": "python",
   "pygments_lexer": "ipython3",
   "version": "3.6.8"
  }
 },
 "nbformat": 4,
 "nbformat_minor": 2
}
